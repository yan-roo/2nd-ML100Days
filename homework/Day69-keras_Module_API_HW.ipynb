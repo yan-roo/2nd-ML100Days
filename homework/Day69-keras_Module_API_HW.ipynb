{
 "cells": [
  {
   "cell_type": "markdown",
   "metadata": {},
   "source": [
    "# 作業目標:\n",
    "    \n",
    "    建立一個網路模型"
   ]
  },
  {
   "cell_type": "markdown",
   "metadata": {},
   "source": [
    "# 作業重點:\n",
    "\n",
    "請修改 Name 中, 自定義的 Layer 名稱\n",
    "\n",
    "增加一層全連階層\n",
    "\n",
    "宣告 MODEL API, 分別採用自行定義的 Input/Output Layer\n",
    "\n",
    "model.summary 查看 Layers stack"
   ]
  },
  {
   "cell_type": "code",
   "execution_count": 1,
   "metadata": {},
   "outputs": [
    {
     "data": {
      "text/html": [
       "<img src=\"https://keras.io/img/multi-input-multi-output-graph.png\"/>"
      ],
      "text/plain": [
       "<IPython.core.display.Image object>"
      ]
     },
     "execution_count": 1,
     "metadata": {},
     "output_type": "execute_result"
    }
   ],
   "source": [
    "from IPython.display import Image\n",
    "\n",
    "Image(url=\"https://keras.io/img/multi-input-multi-output-graph.png\")"
   ]
  },
  {
   "cell_type": "code",
   "execution_count": 2,
   "metadata": {},
   "outputs": [
    {
     "name": "stderr",
     "output_type": "stream",
     "text": [
      "Using TensorFlow backend.\n"
     ]
    }
   ],
   "source": [
    "from keras.layers import Input, Embedding, LSTM, Dense\n",
    "from keras.models import Model\n",
    "\n",
    "#主要輸入接收新聞標題本身，即一個整數序列（每個整數編碼一個詞）。\n",
    "#這些整數在1 到10,000 之間（10,000 個詞的詞彙表），且序列長度為100 個詞\n",
    "#宣告一個 NAME 去定義Input\n",
    "main_input = Input(shape=(100,), dtype='int32', name='main_input')\n",
    "\n",
    "\n",
    "# Embedding 層將輸入序列編碼為一個稠密向量的序列，\n",
    "# 每個向量維度為 512。\n",
    "# 從上接收main_input作為輸入\n",
    "x = Embedding(output_dim=512, input_dim=10000, input_length=100, name='embedding_1')(main_input)\n",
    "\n",
    "# LSTM 層把向量序列轉換成單個向量，\n",
    "# 它包含整個序列的上下文信息\n",
    "# 從上接收 x(embedding_1)作為輸入\n",
    "lstm_out = LSTM(32, name='lstm_1')(x)"
   ]
  },
  {
   "cell_type": "code",
   "execution_count": 3,
   "metadata": {},
   "outputs": [],
   "source": [
    "#插入輔助損失，使得即使在模型主損失很高的情況下，LSTM 層和Embedding 層都能被平穩地訓練\n",
    "#LSTM的第一個輸出 aux_output(Dense)\n",
    "aux_output = Dense(1, activation='sigmoid', name='aux_output')(lstm_out)"
   ]
  },
  {
   "cell_type": "code",
   "execution_count": 4,
   "metadata": {},
   "outputs": [],
   "source": [
    "#輔助輸入數據與LSTM 層的輸出連接起來，輸入到模型\n",
    "import keras\n",
    "aux_input = Input(shape=(5,), name='aux_input')\n",
    "#lstm_1 與 aux_input 相互組合merge_1\n",
    "x = keras.layers.concatenate([lstm_out, aux_input], name='merge_1')\n",
    "\n",
    "\n",
    "# 堆疊多個全連接網路層\n",
    "x = Dense(64, activation='relu', name='dense_1')(x)\n",
    "x = Dense(64, activation='relu', name='dense_2')(x)\n",
    "#作業解答: 新增兩層\n",
    "x = Dense(64, activation='relu', name='dense_3')(x)\n",
    "x = Dense(64, activation='relu', name='dense_4')(x)\n",
    "\n",
    "# 最後添加主要的邏輯回歸層\n",
    "main_output = Dense(1, activation='sigmoid', name='main_output')(x)"
   ]
  },
  {
   "cell_type": "code",
   "execution_count": 5,
   "metadata": {},
   "outputs": [],
   "source": [
    "# 宣告 MODEL API, 分別採用自行定義的 Input/Output Layer\n",
    "model = Model(inputs=[main_input, aux_input], outputs=[main_output, aux_output])"
   ]
  },
  {
   "cell_type": "code",
   "execution_count": 6,
   "metadata": {},
   "outputs": [],
   "source": [
    "model.compile(optimizer='rmsprop', loss='binary_crossentropy', loss_weights={'main_output':1, 'aux_output':0.2})"
   ]
  },
  {
   "cell_type": "code",
   "execution_count": 7,
   "metadata": {},
   "outputs": [
    {
     "name": "stdout",
     "output_type": "stream",
     "text": [
      "__________________________________________________________________________________________________\n",
      "Layer (type)                    Output Shape         Param #     Connected to                     \n",
      "==================================================================================================\n",
      "main_input (InputLayer)         (None, 100)          0                                            \n",
      "__________________________________________________________________________________________________\n",
      "embedding_1 (Embedding)         (None, 100, 512)     5120000     main_input[0][0]                 \n",
      "__________________________________________________________________________________________________\n",
      "lstm_1 (LSTM)                   (None, 32)           69760       embedding_1[0][0]                \n",
      "__________________________________________________________________________________________________\n",
      "aux_input (InputLayer)          (None, 5)            0                                            \n",
      "__________________________________________________________________________________________________\n",
      "merge_1 (Concatenate)           (None, 37)           0           lstm_1[0][0]                     \n",
      "                                                                 aux_input[0][0]                  \n",
      "__________________________________________________________________________________________________\n",
      "dense_1 (Dense)                 (None, 64)           2432        merge_1[0][0]                    \n",
      "__________________________________________________________________________________________________\n",
      "dense_2 (Dense)                 (None, 64)           4160        dense_1[0][0]                    \n",
      "__________________________________________________________________________________________________\n",
      "dense_3 (Dense)                 (None, 64)           4160        dense_2[0][0]                    \n",
      "__________________________________________________________________________________________________\n",
      "dense_4 (Dense)                 (None, 64)           4160        dense_3[0][0]                    \n",
      "__________________________________________________________________________________________________\n",
      "main_output (Dense)             (None, 1)            65          dense_4[0][0]                    \n",
      "__________________________________________________________________________________________________\n",
      "aux_output (Dense)              (None, 1)            33          lstm_1[0][0]                     \n",
      "==================================================================================================\n",
      "Total params: 5,204,770\n",
      "Trainable params: 5,204,770\n",
      "Non-trainable params: 0\n",
      "__________________________________________________________________________________________________\n",
      "None\n"
     ]
    }
   ],
   "source": [
    "print(model.summary())"
   ]
  },
  {
   "cell_type": "code",
   "execution_count": 8,
   "metadata": {},
   "outputs": [
    {
     "data": {
      "text/html": [
       "<img src=\"https://miro.medium.com/max/770/1*laH0_xXEkFE0lKJu54gkFQ.png\"/>"
      ],
      "text/plain": [
       "<IPython.core.display.Image object>"
      ]
     },
     "execution_count": 8,
     "metadata": {},
     "output_type": "execute_result"
    }
   ],
   "source": [
    "Image(url='https://miro.medium.com/max/770/1*laH0_xXEkFE0lKJu54gkFQ.png')"
   ]
  },
  {
   "cell_type": "markdown",
   "metadata": {},
   "source": [
    "#### lstm_1(LSTM) 參數 Param # 計算\n",
    "\n",
    "我們選擇的LSTM為輸出32維度(32個框框)<br>\n",
    "所以ht 與 Ct 有著相同的維度32<br><br>\n",
    "輸入x 為 512維<br>\n",
    "所以每個框框weight參數是 512+32(新的input:512 + 上一個參數傳過來:32)<br>\n",
    "LSTM 32個框框 總共參數是(512+32) * 32 + 32(bias) 每個框框搭配一個bias<br><br>\n",
    "但是LSTM 裡面每個參數的計算是由f(忘記), i(寫入與否), g(寫入多少), o(釋放的外部)四個參數來交互計算決定<br>\n",
    "所以要再乘以4<br>\n",
    "((512 + 32) * 32 + 32) * 4 = 69760"
   ]
  }
 ],
 "metadata": {
  "kernelspec": {
   "display_name": "Python 3",
   "language": "python",
   "name": "python3"
  },
  "language_info": {
   "codemirror_mode": {
    "name": "ipython",
    "version": 3
   },
   "file_extension": ".py",
   "mimetype": "text/x-python",
   "name": "python",
   "nbconvert_exporter": "python",
   "pygments_lexer": "ipython3",
   "version": "3.6.8"
  }
 },
 "nbformat": 4,
 "nbformat_minor": 2
}
