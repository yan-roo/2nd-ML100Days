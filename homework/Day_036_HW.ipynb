{
 "cells": [
  {
   "cell_type": "markdown",
   "metadata": {},
   "source": [
    "## [教學目標]\n",
    "學習 sklearn 中，各種評估指標的使用與意義"
   ]
  },
  {
   "cell_type": "markdown",
   "metadata": {},
   "source": [
    "## [範例重點]\n",
    "注意觀察各指標的數值範圍，以及輸入函數中的資料格式"
   ]
  },
  {
   "cell_type": "code",
   "execution_count": 1,
   "metadata": {},
   "outputs": [],
   "source": [
    "from sklearn import metrics, datasets\n",
    "from sklearn.linear_model import LinearRegression\n",
    "from sklearn.model_selection import train_test_split\n",
    "\n",
    "import matplotlib.pyplot as plt\n",
    "from matplotlib.pylab import rcParams\n",
    "import numpy as np\n",
    "%matplotlib inline"
   ]
  },
  {
   "cell_type": "markdown",
   "metadata": {},
   "source": [
    "## 回歸問題\n",
    "常見的評估指標有\n",
    "- MAE\n",
    "- MSE\n",
    "- R-square"
   ]
  },
  {
   "cell_type": "markdown",
   "metadata": {},
   "source": [
    "我們隨機生成(X, y)資料，然後使用線性回歸模型做預測，再使用 MAE, MSE, R-square 評估"
   ]
  },
  {
   "cell_type": "code",
   "execution_count": 2,
   "metadata": {},
   "outputs": [
    {
     "name": "stdout",
     "output_type": "stream",
     "text": [
      "MAE:  2.841797252565566\n",
      "MSE:  12.48868006739824\n",
      "R-square:  0.9916581036260311\n"
     ]
    }
   ],
   "source": [
    "X, y = datasets.make_regression(n_features=1, random_state=42, noise=4) # 生成資料\n",
    "model = LinearRegression() # 建立回歸模型\n",
    "model.fit(X, y) # 將資料放進模型訓練\n",
    "prediction = model.predict(X) # 進行預測\n",
    "mae = metrics.mean_absolute_error(prediction, y) # 使用 MAE 評估\n",
    "mse = metrics.mean_squared_error(prediction, y) # 使用 MSE 評估\n",
    "r2 = metrics.r2_score(prediction, y) # 使用 r-square 評估\n",
    "print(\"MAE: \", mae)\n",
    "print(\"MSE: \", mse)\n",
    "print(\"R-square: \", r2)"
   ]
  },
  {
   "cell_type": "markdown",
   "metadata": {},
   "source": [
    "## 分類問題\n",
    "常見的評估指標有\n",
    "- AUC\n",
    "- F1-Score (Precision, Recall)"
   ]
  },
  {
   "cell_type": "code",
   "execution_count": 3,
   "metadata": {},
   "outputs": [],
   "source": [
    "cancer = datasets.load_breast_cancer() # 我們使用 sklearn 內含的乳癌資料集\n",
    "X_train, X_test, y_train, y_test = train_test_split(cancer.data, cancer.target, test_size=50, random_state=0)"
   ]
  },
  {
   "cell_type": "code",
   "execution_count": 4,
   "metadata": {},
   "outputs": [
    {
     "name": "stdout",
     "output_type": "stream",
     "text": [
      "[0 1 1 1 1 1 1 1 1 1 1 1 1 1 1 0 1 0 0 0 0 0 1 1 0 1 1 0 1 0 1 0 1 0 1 0 1\n",
      " 0 1 0 0 1 0 1 1 0 1 1 1 0]\n"
     ]
    }
   ],
   "source": [
    "print(y_test) # 測試集中的 label"
   ]
  },
  {
   "cell_type": "code",
   "execution_count": 5,
   "metadata": {},
   "outputs": [],
   "source": [
    "y_pred = np.random.random((50,)) # 我們先隨機生成 50 筆預測值，範圍都在 0~1 之間，代表機率值"
   ]
  },
  {
   "cell_type": "code",
   "execution_count": 6,
   "metadata": {},
   "outputs": [
    {
     "name": "stdout",
     "output_type": "stream",
     "text": [
      "[0.12373908 0.46808639 0.30303499 0.34972323 0.81098895 0.58737497\n",
      " 0.45465258 0.13513039 0.58135574 0.18515241 0.4463779  0.64345481\n",
      " 0.31908461 0.68311884 0.46789523 0.24393314 0.13075183 0.92087414\n",
      " 0.7391171  0.78441184 0.60038069 0.98497148 0.66298558 0.85737023\n",
      " 0.4364994  0.54024534 0.0258034  0.80837082 0.45324609 0.77078845\n",
      " 0.80251406 0.69433439 0.2401164  0.13111745 0.78020145 0.45287605\n",
      " 0.92546659 0.89417038 0.13469343 0.38519899 0.57132904 0.88390717\n",
      " 0.53501013 0.40113016 0.02763035 0.55343927 0.84771055 0.2221056\n",
      " 0.37485172 0.62710854]\n"
     ]
    }
   ],
   "source": [
    "print(y_pred)"
   ]
  },
  {
   "cell_type": "markdown",
   "metadata": {},
   "source": [
    "### AUC  (機率)"
   ]
  },
  {
   "cell_type": "code",
   "execution_count": 7,
   "metadata": {},
   "outputs": [
    {
     "name": "stdout",
     "output_type": "stream",
     "text": [
      "AUC:  0.3820033955857386\n"
     ]
    }
   ],
   "source": [
    "auc = metrics.roc_auc_score(y_test, y_pred) # 使用 roc_auc_score 來評估。 **這邊特別注意 y_pred 必須要放機率值進去!**\n",
    "print(\"AUC: \", auc) # 得到結果約 0.5，與亂猜的結果相近，因為我們的預測值是用隨機生成的"
   ]
  },
  {
   "cell_type": "markdown",
   "metadata": {},
   "source": [
    "## F1-Score  (分類類別)"
   ]
  },
  {
   "cell_type": "code",
   "execution_count": 8,
   "metadata": {},
   "outputs": [
    {
     "name": "stdout",
     "output_type": "stream",
     "text": [
      "F1-Score:  0.45614035087719296\n",
      "Precision:  0.5\n",
      "Recall:  0.41935483870967744\n"
     ]
    }
   ],
   "source": [
    "threshold = 0.5 \n",
    "y_pred_binarized = np.where(y_pred>threshold, 1, 0) # 使用 np.where 函數, 將 y_pred > 0.5 的值變為 1，小於 0.5 的為 0\n",
    "f1 = metrics.f1_score(y_test, y_pred_binarized) # 使用 F1-Score 評估\n",
    "precision = metrics.precision_score(y_test, y_pred_binarized) # 使用 Precision 評估\n",
    "recall  = metrics.recall_score(y_test, y_pred_binarized) # 使用 recall 評估\n",
    "print(\"F1-Score: \", f1) \n",
    "print(\"Precision: \", precision)\n",
    "print(\"Recall: \", recall)"
   ]
  },
  {
   "cell_type": "markdown",
   "metadata": {},
   "source": [
    "## [Confusion Matrix](https://scikit-learn.org/stable/auto_examples/model_selection/plot_confusion_matrix.html)"
   ]
  },
  {
   "cell_type": "code",
   "execution_count": 9,
   "metadata": {},
   "outputs": [],
   "source": [
    "from sklearn.metrics import confusion_matrix\n",
    "from sklearn.utils.multiclass import unique_labels\n",
    "plt.style.use('seaborn')\n",
    "\n",
    "def plot_confusion_matrix(y_true, y_pred, classes,\n",
    "                          normalize=False,\n",
    "                          title=None,\n",
    "                          cmap=plt.cm.Blues):\n",
    "    \"\"\"\n",
    "    This function prints and plots the confusion matrix.\n",
    "    Normalization can be applied by setting `normalize=True`.\n",
    "    \"\"\"\n",
    "    if not title:\n",
    "        if normalize:\n",
    "            title = 'Normalized confusion matrix'\n",
    "        else:\n",
    "            title = 'Confusion matrix, without normalization'\n",
    "\n",
    "    # Compute confusion matrix\n",
    "    cm = confusion_matrix(y_true, y_pred)\n",
    "    # Only use the labels that appear in the data\n",
    "    classes = classes[unique_labels(y_true, y_pred)]\n",
    "    if normalize:\n",
    "        cm = cm.astype('float') / cm.sum(axis=1)[:, np.newaxis]\n",
    "        print(\"Normalized confusion matrix\")\n",
    "    else:\n",
    "        print('Confusion matrix, without normalization')\n",
    "\n",
    "    print(cm)\n",
    "\n",
    "    fig, ax = plt.subplots()\n",
    "    im = ax.imshow(cm, interpolation='nearest', cmap=cmap)\n",
    "    ax.figure.colorbar(im, ax=ax)\n",
    "    # We want to show all ticks...\n",
    "    ax.set(xticks=np.arange(cm.shape[1]),\n",
    "           yticks=np.arange(cm.shape[0]),\n",
    "           # ... and label them with the respective list entries\n",
    "           xticklabels=classes, yticklabels=classes,\n",
    "           title=title,\n",
    "           ylabel='True label',\n",
    "           xlabel='Predicted label')\n",
    "\n",
    "    # Rotate the tick labels and set their alignment.\n",
    "    plt.setp(ax.get_xticklabels(), rotation=45, ha=\"right\",\n",
    "             rotation_mode=\"anchor\")\n",
    "\n",
    "    # Loop over data dimensions and create text annotations.\n",
    "    fmt = '.2f' if normalize else 'd'\n",
    "    thresh = cm.max() / 2.\n",
    "    for i in range(cm.shape[0]):\n",
    "        for j in range(cm.shape[1]):\n",
    "            ax.text(j, i, format(cm[i, j], fmt),\n",
    "                    ha=\"center\", va=\"center\",\n",
    "                    color=\"white\" if cm[i, j] > thresh else \"black\")\n",
    "    fig.tight_layout()\n",
    "    return ax"
   ]
  },
  {
   "cell_type": "code",
   "execution_count": 10,
   "metadata": {},
   "outputs": [
    {
     "name": "stdout",
     "output_type": "stream",
     "text": [
      "Confusion matrix, without normalization\n",
      "[[ 6 13]\n",
      " [18 13]]\n",
      "Normalized confusion matrix\n",
      "[[0.31578947 0.68421053]\n",
      " [0.58064516 0.41935484]]\n"
     ]
    },
    {
     "data": {
      "text/plain": [
       "<matplotlib.axes._subplots.AxesSubplot at 0x1a2bbfee7f0>"
      ]
     },
     "execution_count": 10,
     "metadata": {},
     "output_type": "execute_result"
    },
    {
     "data": {
      "image/png": "[encoded data removed]",
      "text/plain": [
       "<Figure size 576x396 with 2 Axes>"
      ]
     },
     "metadata": {},
     "output_type": "display_data"
    },
    {
     "data": {
      "image/png": "[encoded data removed]",
      "text/plain": [
       "<Figure size 576x396 with 2 Axes>"
      ]
     },
     "metadata": {},
     "output_type": "display_data"
    }
   ],
   "source": [
    "class_names = cancer.target_names\n",
    "\n",
    "plot_confusion_matrix(y_test, y_pred_binarized, classes=class_names,\n",
    "                      title='Confusion matrix, with normalization')\n",
    "\n",
    "plot_confusion_matrix(y_test, y_pred_binarized, classes=class_names, normalize=True,\n",
    "                      title='Normalized confusion matrix')"
   ]
  },
  {
   "cell_type": "markdown",
   "metadata": {},
   "source": [
    "## [作業重點]\n",
    "了解 F1-score 的公式意義，並試著理解程式碼"
   ]
  },
  {
   "cell_type": "markdown",
   "metadata": {},
   "source": [
    "## 練習時間\n",
    "### F1-Score 其實是 F-Score 中的 β 值為 1 的特例，代表 Precision 與 Recall 的權重相同\n",
    "### F-Score 中的 β 值 是用來調整Precision 與 Recall的權重\n",
    "### 如果 β  > 1 代表Recall有較高權重(重視)  ;  反之 β  < 1 則重視Precision\n",
    "\n",
    "請參考 F1-score 的[公式](https://en.wikipedia.org/wiki/F1_score) 或 [原始碼](https://github.com/scikit-learn/scikit-learn/blob/bac89c2/sklearn/metrics/classification.py#L620) 下圖為 F2-score 公式圖，試著寫出 F2-Score 的計算函數\n"
   ]
  },
  {
   "cell_type": "markdown",
   "metadata": {},
   "source": [
    "![image](data:image/png;base64,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)"
   ]
  },
  {
   "cell_type": "markdown",
   "metadata": {},
   "source": [
    "HINT: 可使用 slearn.metrics 中的 precision, recall 函數幫忙"
   ]
  },
  {
   "cell_type": "code",
   "execution_count": 11,
   "metadata": {},
   "outputs": [],
   "source": [
    "import numpy as np\n",
    "y_pred = np.random.randint(2, size=100)  # 生成 100 個隨機的 0 / 1 prediction\n",
    "y_true = np.random.randint(2, size=100)  # 生成 100 個隨機的 0 / 1 ground truth"
   ]
  },
  {
   "cell_type": "code",
   "execution_count": 12,
   "metadata": {},
   "outputs": [
    {
     "data": {
      "text/plain": [
       "array([0, 1, 1, 1, 1, 1, 1, 0, 1, 1, 0, 1, 1, 0, 1, 1, 0, 0, 1, 1, 0, 1,\n",
       "       0, 0, 0, 1, 0, 0, 0, 0, 0, 0, 0, 0, 1, 0, 1, 0, 0, 0, 0, 1, 0, 1,\n",
       "       1, 0, 1, 1, 1, 0, 1, 0, 0, 0, 0, 1, 0, 1, 1, 0, 0, 0, 1, 0, 1, 1,\n",
       "       1, 0, 0, 0, 0, 1, 1, 1, 1, 0, 0, 1, 1, 0, 1, 0, 1, 0, 1, 0, 1, 1,\n",
       "       1, 1, 1, 0, 0, 1, 0, 1, 1, 1, 1, 0])"
      ]
     },
     "execution_count": 12,
     "metadata": {},
     "output_type": "execute_result"
    }
   ],
   "source": [
    "y_pred"
   ]
  },
  {
   "cell_type": "code",
   "execution_count": 13,
   "metadata": {},
   "outputs": [
    {
     "name": "stdout",
     "output_type": "stream",
     "text": [
      "F2 Score (function):  0.49019607843137253\n",
      "F2 Score (handwriting):  0.4901960784313726\n"
     ]
    }
   ],
   "source": [
    "from sklearn import metrics\n",
    "\n",
    "precision = metrics.precision_score(y_true, y_pred)\n",
    "recall = metrics.recall_score(y_true, y_pred)\n",
    "beta = 2\n",
    "Fbeta_score = ((1+beta**2) * (precision*recall)) / (beta**2 * precision + recall)\n",
    "print(\"F2 Score (function): \", metrics.fbeta_score(y_true, y_pred, beta=2))\n",
    "print(\"F2 Score (handwriting): \", Fbeta_score)"
   ]
  }
 ],
 "metadata": {
  "kernelspec": {
   "display_name": "Python 3",
   "language": "python",
   "name": "python3"
  },
  "language_info": {
   "codemirror_mode": {
    "name": "ipython",
    "version": 3
   },
   "file_extension": ".py",
   "mimetype": "text/x-python",
   "name": "python",
   "nbconvert_exporter": "python",
   "pygments_lexer": "ipython3",
   "version": "3.6.8"
  }
 },
 "nbformat": 4,
 "nbformat_minor": 2
}
