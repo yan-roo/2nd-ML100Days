{
 "cells": [
  {
   "cell_type": "code",
   "execution_count": 1,
   "metadata": {},
   "outputs": [
    {
     "name": "stdout",
     "output_type": "stream",
     "text": [
      "Downloading test.csv to C:\\Users\\tony8\\OneDrive\\文件\\Machine_Learning\\D48_Kaggle Introduction\n",
      "\n",
      "Downloading train.csv to C:\\Users\\tony8\\OneDrive\\文件\\Machine_Learning\\D48_Kaggle Introduction\n",
      "\n",
      "Downloading trainLabels.csv to C:\\Users\\tony8\\OneDrive\\文件\\Machine_Learning\\D48_Kaggle Introduction\n",
      "\n"
     ]
    },
    {
     "name": "stderr",
     "output_type": "stream",
     "text": [
      "\n",
      "  0%|          | 0.00/6.87M [00:00<?, ?B/s]\n",
      " 15%|█▍        | 1.00M/6.87M [00:00<00:01, 3.10MB/s]\n",
      " 29%|██▉       | 2.00M/6.87M [00:00<00:01, 3.11MB/s]\n",
      " 44%|████▎     | 3.00M/6.87M [00:00<00:01, 3.16MB/s]\n",
      " 58%|█████▊    | 4.00M/6.87M [00:01<00:00, 3.34MB/s]\n",
      " 73%|███████▎  | 5.00M/6.87M [00:01<00:00, 3.41MB/s]\n",
      " 87%|████████▋ | 6.00M/6.87M [00:01<00:00, 3.31MB/s]\n",
      "100%|██████████| 6.87M/6.87M [00:02<00:00, 3.49MB/s]\n",
      "\n",
      "  0%|          | 0.00/782k [00:00<?, ?B/s]\n",
      "100%|██████████| 782k/782k [00:00<00:00, 3.90MB/s]\n",
      "\n",
      "  0%|          | 0.00/2.93k [00:00<?, ?B/s]\n",
      "100%|██████████| 2.93k/2.93k [00:00<00:00, 1.51MB/s]\n"
     ]
    }
   ],
   "source": [
    "!kaggle competitions download -c data-science-london-scikit-learn"
   ]
  },
  {
   "cell_type": "code",
   "execution_count": 2,
   "metadata": {},
   "outputs": [],
   "source": [
    "import pandas as pd\n",
    "import warnings\n",
    "warnings.filterwarnings('ignore')\n",
    "\n",
    "train_data = pd.read_csv(\"./train.csv\", header=None)\n",
    "test_data = pd.read_csv(\"./test.csv\", header=None)\n",
    "label = pd.read_csv(\"./trainLabels.csv\", header=None)"
   ]
  },
  {
   "cell_type": "code",
   "execution_count": 3,
   "metadata": {},
   "outputs": [
    {
     "data": {
      "text/html": [
       "<div>\n",
       "<style scoped>\n",
       "    .dataframe tbody tr th:only-of-type {\n",
       "        vertical-align: middle;\n",
       "    }\n",
       "\n",
       "    .dataframe tbody tr th {\n",
       "        vertical-align: top;\n",
       "    }\n",
       "\n",
       "    .dataframe thead th {\n",
       "        text-align: right;\n",
       "    }\n",
       "</style>\n",
       "<table border=\"1\" class=\"dataframe\">\n",
       "  <thead>\n",
       "    <tr style=\"text-align: right;\">\n",
       "      <th></th>\n",
       "      <th>0</th>\n",
       "      <th>1</th>\n",
       "      <th>2</th>\n",
       "      <th>3</th>\n",
       "      <th>4</th>\n",
       "      <th>5</th>\n",
       "      <th>6</th>\n",
       "      <th>7</th>\n",
       "      <th>8</th>\n",
       "      <th>9</th>\n",
       "      <th>...</th>\n",
       "      <th>30</th>\n",
       "      <th>31</th>\n",
       "      <th>32</th>\n",
       "      <th>33</th>\n",
       "      <th>34</th>\n",
       "      <th>35</th>\n",
       "      <th>36</th>\n",
       "      <th>37</th>\n",
       "      <th>38</th>\n",
       "      <th>39</th>\n",
       "    </tr>\n",
       "  </thead>\n",
       "  <tbody>\n",
       "    <tr>\n",
       "      <th>0</th>\n",
       "      <td>0.299403</td>\n",
       "      <td>-1.226624</td>\n",
       "      <td>1.498425</td>\n",
       "      <td>-1.176150</td>\n",
       "      <td>5.289853</td>\n",
       "      <td>0.208297</td>\n",
       "      <td>2.404498</td>\n",
       "      <td>1.594506</td>\n",
       "      <td>-0.051608</td>\n",
       "      <td>0.663234</td>\n",
       "      <td>...</td>\n",
       "      <td>-0.850465</td>\n",
       "      <td>-0.622990</td>\n",
       "      <td>-1.833057</td>\n",
       "      <td>0.293024</td>\n",
       "      <td>3.552681</td>\n",
       "      <td>0.717611</td>\n",
       "      <td>3.305972</td>\n",
       "      <td>-2.715559</td>\n",
       "      <td>-2.682409</td>\n",
       "      <td>0.101050</td>\n",
       "    </tr>\n",
       "    <tr>\n",
       "      <th>1</th>\n",
       "      <td>-1.174176</td>\n",
       "      <td>0.332157</td>\n",
       "      <td>0.949919</td>\n",
       "      <td>-1.285328</td>\n",
       "      <td>2.199061</td>\n",
       "      <td>-0.151268</td>\n",
       "      <td>-0.427039</td>\n",
       "      <td>2.619246</td>\n",
       "      <td>-0.765884</td>\n",
       "      <td>-0.093780</td>\n",
       "      <td>...</td>\n",
       "      <td>-0.819750</td>\n",
       "      <td>0.012037</td>\n",
       "      <td>2.038836</td>\n",
       "      <td>0.468579</td>\n",
       "      <td>-0.517657</td>\n",
       "      <td>0.422326</td>\n",
       "      <td>0.803699</td>\n",
       "      <td>1.213219</td>\n",
       "      <td>1.382932</td>\n",
       "      <td>-1.817761</td>\n",
       "    </tr>\n",
       "    <tr>\n",
       "      <th>2</th>\n",
       "      <td>1.192222</td>\n",
       "      <td>-0.414371</td>\n",
       "      <td>0.067054</td>\n",
       "      <td>-2.233568</td>\n",
       "      <td>3.658881</td>\n",
       "      <td>0.089007</td>\n",
       "      <td>0.203439</td>\n",
       "      <td>-4.219054</td>\n",
       "      <td>-1.184919</td>\n",
       "      <td>-1.240310</td>\n",
       "      <td>...</td>\n",
       "      <td>-0.604501</td>\n",
       "      <td>0.750054</td>\n",
       "      <td>-3.360521</td>\n",
       "      <td>0.856988</td>\n",
       "      <td>-2.751451</td>\n",
       "      <td>-1.582735</td>\n",
       "      <td>1.672246</td>\n",
       "      <td>0.656438</td>\n",
       "      <td>-0.932473</td>\n",
       "      <td>2.987436</td>\n",
       "    </tr>\n",
       "    <tr>\n",
       "      <th>3</th>\n",
       "      <td>1.573270</td>\n",
       "      <td>-0.580318</td>\n",
       "      <td>-0.866332</td>\n",
       "      <td>-0.603812</td>\n",
       "      <td>3.125716</td>\n",
       "      <td>0.870321</td>\n",
       "      <td>-0.161992</td>\n",
       "      <td>4.499666</td>\n",
       "      <td>1.038741</td>\n",
       "      <td>-1.092716</td>\n",
       "      <td>...</td>\n",
       "      <td>1.022959</td>\n",
       "      <td>1.275598</td>\n",
       "      <td>-3.480110</td>\n",
       "      <td>-1.065252</td>\n",
       "      <td>2.153133</td>\n",
       "      <td>1.563539</td>\n",
       "      <td>2.767117</td>\n",
       "      <td>0.215748</td>\n",
       "      <td>0.619645</td>\n",
       "      <td>1.883397</td>\n",
       "    </tr>\n",
       "    <tr>\n",
       "      <th>4</th>\n",
       "      <td>-0.613071</td>\n",
       "      <td>-0.644204</td>\n",
       "      <td>1.112558</td>\n",
       "      <td>-0.032397</td>\n",
       "      <td>3.490142</td>\n",
       "      <td>-0.011935</td>\n",
       "      <td>1.443521</td>\n",
       "      <td>-4.290282</td>\n",
       "      <td>-1.761308</td>\n",
       "      <td>0.807652</td>\n",
       "      <td>...</td>\n",
       "      <td>0.513906</td>\n",
       "      <td>-1.803473</td>\n",
       "      <td>0.518579</td>\n",
       "      <td>-0.205029</td>\n",
       "      <td>-4.744566</td>\n",
       "      <td>-1.520015</td>\n",
       "      <td>1.830651</td>\n",
       "      <td>0.870772</td>\n",
       "      <td>-1.894609</td>\n",
       "      <td>0.408332</td>\n",
       "    </tr>\n",
       "  </tbody>\n",
       "</table>\n",
       "<p>5 rows × 40 columns</p>\n",
       "</div>"
      ],
      "text/plain": [
       "         0         1         2         3         4         5         6   \\\n",
       "0  0.299403 -1.226624  1.498425 -1.176150  5.289853  0.208297  2.404498   \n",
       "1 -1.174176  0.332157  0.949919 -1.285328  2.199061 -0.151268 -0.427039   \n",
       "2  1.192222 -0.414371  0.067054 -2.233568  3.658881  0.089007  0.203439   \n",
       "3  1.573270 -0.580318 -0.866332 -0.603812  3.125716  0.870321 -0.161992   \n",
       "4 -0.613071 -0.644204  1.112558 -0.032397  3.490142 -0.011935  1.443521   \n",
       "\n",
       "         7         8         9   ...        30        31        32        33  \\\n",
       "0  1.594506 -0.051608  0.663234  ... -0.850465 -0.622990 -1.833057  0.293024   \n",
       "1  2.619246 -0.765884 -0.093780  ... -0.819750  0.012037  2.038836  0.468579   \n",
       "2 -4.219054 -1.184919 -1.240310  ... -0.604501  0.750054 -3.360521  0.856988   \n",
       "3  4.499666  1.038741 -1.092716  ...  1.022959  1.275598 -3.480110 -1.065252   \n",
       "4 -4.290282 -1.761308  0.807652  ...  0.513906 -1.803473  0.518579 -0.205029   \n",
       "\n",
       "         34        35        36        37        38        39  \n",
       "0  3.552681  0.717611  3.305972 -2.715559 -2.682409  0.101050  \n",
       "1 -0.517657  0.422326  0.803699  1.213219  1.382932 -1.817761  \n",
       "2 -2.751451 -1.582735  1.672246  0.656438 -0.932473  2.987436  \n",
       "3  2.153133  1.563539  2.767117  0.215748  0.619645  1.883397  \n",
       "4 -4.744566 -1.520015  1.830651  0.870772 -1.894609  0.408332  \n",
       "\n",
       "[5 rows x 40 columns]"
      ]
     },
     "execution_count": 3,
     "metadata": {},
     "output_type": "execute_result"
    }
   ],
   "source": [
    "train_data.head()"
   ]
  },
  {
   "cell_type": "code",
   "execution_count": 4,
   "metadata": {},
   "outputs": [
    {
     "data": {
      "text/plain": [
       "((1000, 40), (9000, 40))"
      ]
     },
     "execution_count": 4,
     "metadata": {},
     "output_type": "execute_result"
    }
   ],
   "source": [
    "train_data.shape, test_data.shape"
   ]
  },
  {
   "cell_type": "code",
   "execution_count": 5,
   "metadata": {},
   "outputs": [
    {
     "data": {
      "text/plain": [
       "((700, 40), (300, 40), (700, 1), (300, 1))"
      ]
     },
     "execution_count": 5,
     "metadata": {},
     "output_type": "execute_result"
    }
   ],
   "source": [
    "from sklearn.model_selection import train_test_split\n",
    "\n",
    "x_train, x_test, y_train, y_test = train_test_split(train_data, label, test_size=0.3, random_state=56)\n",
    "\n",
    "x_train.shape, x_test.shape, y_train.shape, y_test.shape"
   ]
  },
  {
   "cell_type": "code",
   "execution_count": 6,
   "metadata": {},
   "outputs": [
    {
     "name": "stdout",
     "output_type": "stream",
     "text": [
      "Naive Bayes 0.8066666666666666\n",
      "KNN 0.89\n",
      "Random Forest 0.8233333333333334\n",
      "Logistic Regression 0.8066666666666666\n",
      "Decsion Tree 0.73\n",
      "Gradient Boosting 0.86\n",
      "SVM 0.9066666666666666\n",
      "XGB 0.8566666666666667\n"
     ]
    }
   ],
   "source": [
    "from sklearn.metrics import accuracy_score\n",
    "from sklearn.naive_bayes import GaussianNB\n",
    "\n",
    "GNB = GaussianNB()\n",
    "GNB.fit(x_train, y_train.values.ravel())\n",
    "y_pred = GNB.predict(x_test)\n",
    "print('Naive Bayes', accuracy_score(y_test, y_pred))\n",
    "\n",
    "\n",
    "from sklearn.neighbors import KNeighborsClassifier\n",
    "\n",
    "KNN = KNeighborsClassifier()\n",
    "KNN.fit(x_train, y_train.values.ravel())\n",
    "y_pred = KNN.predict(x_test)\n",
    "print('KNN', accuracy_score(y_test, y_pred))\n",
    "\n",
    "\n",
    "from sklearn.ensemble import RandomForestClassifier\n",
    "\n",
    "RF = RandomForestClassifier(random_state=11)\n",
    "RF.fit(x_train, y_train.values.ravel())\n",
    "y_pred = RF.predict(x_test)\n",
    "print('Random Forest',accuracy_score(y_test, y_pred))\n",
    "\n",
    "\n",
    "from sklearn.linear_model import LogisticRegression\n",
    "\n",
    "LR = LogisticRegression()\n",
    "LR.fit(x_train, y_train.values.ravel())\n",
    "y_pred = LR.predict(x_test)\n",
    "print('Logistic Regression',accuracy_score(y_test, y_pred))\n",
    "\n",
    "\n",
    "from sklearn.tree import DecisionTreeClassifier\n",
    "\n",
    "DT = DecisionTreeClassifier(random_state=11)\n",
    "DT.fit(x_train, y_train.values.ravel())\n",
    "y_pred = DT.predict(x_test)\n",
    "print('Decsion Tree',accuracy_score(y_test, y_pred))\n",
    "\n",
    "\n",
    "from sklearn.ensemble import GradientBoostingClassifier\n",
    "\n",
    "GBC =  GradientBoostingClassifier(random_state=11)\n",
    "GBC.fit(x_train, y_train.values.ravel())\n",
    "y_pred = GBC.predict(x_test)\n",
    "print('Gradient Boosting',accuracy_score(y_test, y_pred))\n",
    "\n",
    "\n",
    "from sklearn.svm import SVC\n",
    "\n",
    "SVM = SVC()\n",
    "SVM.fit(x_train, y_train.values.ravel())\n",
    "y_pred = SVM.predict(x_test)\n",
    "print('SVM',accuracy_score(y_test, y_pred))\n",
    "\n",
    "\n",
    "from xgboost import XGBClassifier\n",
    "\n",
    "xgb = XGBClassifier()\n",
    "xgb.fit(x_train, y_train.values.ravel())\n",
    "y_pred = xgb.predict(x_test)\n",
    "print('XGB',accuracy_score(y_test, y_pred))"
   ]
  },
  {
   "cell_type": "markdown",
   "metadata": {},
   "source": [
    "### Normalization"
   ]
  },
  {
   "cell_type": "code",
   "execution_count": 7,
   "metadata": {},
   "outputs": [],
   "source": [
    "from sklearn.preprocessing import Normalizer, StandardScaler, MinMaxScaler\n",
    "\n",
    "norm = Normalizer()\n",
    "x_norm_train = norm.fit_transform(x_train)\n",
    "x_norm_test = norm.transform(x_test)\n",
    "x_norm_train_all = norm.transform(train_data)"
   ]
  },
  {
   "cell_type": "code",
   "execution_count": 8,
   "metadata": {},
   "outputs": [
    {
     "name": "stdout",
     "output_type": "stream",
     "text": [
      "Naive Bayes 0.808\n",
      "KNN 0.9019999999999999\n",
      "Random Forest 0.8109999999999999\n",
      "Logistic Regression 0.8210000000000001\n",
      "Decsion Tree 0.788\n",
      "Gradient Boosting 0.875\n",
      "SVM 0.808\n",
      "XGB 0.8710000000000001\n"
     ]
    }
   ],
   "source": [
    "from sklearn.model_selection import cross_val_score\n",
    "\n",
    "GNB = GaussianNB()\n",
    "print('Naive Bayes', cross_val_score(GNB, x_norm_train_all, label.values.ravel(), cv=10).mean())\n",
    "\n",
    "\n",
    "KNN = KNeighborsClassifier()\n",
    "print('KNN', cross_val_score(KNN, x_norm_train_all, label.values.ravel(), cv=10).mean())\n",
    "\n",
    "\n",
    "RF = RandomForestClassifier(random_state=11)\n",
    "print('Random Forest', cross_val_score(RF, x_norm_train_all, label.values.ravel(), cv=10).mean())\n",
    "\n",
    "\n",
    "LR = LogisticRegression()\n",
    "print('Logistic Regression', cross_val_score(LR, x_norm_train_all, label.values.ravel(), cv=10).mean())\n",
    "\n",
    "\n",
    "DT = DecisionTreeClassifier(random_state=11)\n",
    "print('Decsion Tree', cross_val_score(DT, x_norm_train_all, label.values.ravel(), cv=10).mean())\n",
    "\n",
    "\n",
    "GBC =  GradientBoostingClassifier(random_state=11)\n",
    "print('Gradient Boosting', cross_val_score(GBC, x_norm_train_all, label.values.ravel(), cv=10).mean())\n",
    "\n",
    "\n",
    "SVM = SVC()\n",
    "print('SVM', cross_val_score(SVM, x_norm_train_all, label.values.ravel(), cv=10).mean())\n",
    "\n",
    "\n",
    "xgb = XGBClassifier()\n",
    "print('XGB', cross_val_score(xgb, x_norm_train_all, label.values.ravel(), cv=10).mean())"
   ]
  },
  {
   "cell_type": "markdown",
   "metadata": {},
   "source": [
    "### PCA"
   ]
  },
  {
   "cell_type": "code",
   "execution_count": 9,
   "metadata": {},
   "outputs": [
    {
     "name": "stdout",
     "output_type": "stream",
     "text": [
      "explained_variance [0.25054403 0.2055048  0.08026473 0.05033658 0.04895951 0.04489904\n",
      " 0.04170779 0.03127934 0.02309791 0.02099977 0.01616486 0.01257659]\n",
      "(1000, 12)\n"
     ]
    }
   ],
   "source": [
    "from sklearn.decomposition import PCA\n",
    "\n",
    "pca = PCA(n_components=12)\n",
    "pca_train_all = pca.fit_transform(train_data)\n",
    "print(\"explained_variance\", pca.explained_variance_ratio_)\n",
    "print(pca_train_all.shape)"
   ]
  },
  {
   "cell_type": "code",
   "execution_count": 10,
   "metadata": {},
   "outputs": [
    {
     "name": "stdout",
     "output_type": "stream",
     "text": [
      "Naive Bayes 0.841\n",
      "KNN 0.913\n",
      "Random Forest 0.8619999999999999\n",
      "Logistic Regression 0.8240000000000001\n",
      "Decsion Tree 0.8019999999999999\n",
      "Gradient Boosting 0.882\n",
      "SVM 0.906\n",
      "XGB 0.8800000000000001\n"
     ]
    }
   ],
   "source": [
    "from sklearn.model_selection import cross_val_score\n",
    "\n",
    "GNB = GaussianNB()\n",
    "print('Naive Bayes', cross_val_score(GNB, pca_train_all, label.values.ravel(), cv=10).mean())\n",
    "\n",
    "\n",
    "KNN = KNeighborsClassifier()\n",
    "print('KNN', cross_val_score(KNN, pca_train_all, label.values.ravel(), cv=10).mean())\n",
    "\n",
    "\n",
    "RF = RandomForestClassifier(random_state=11)\n",
    "print('Random Forest', cross_val_score(RF, pca_train_all, label.values.ravel(), cv=10).mean())\n",
    "\n",
    "\n",
    "LR = LogisticRegression()\n",
    "print('Logistic Regression', cross_val_score(LR, pca_train_all, label.values.ravel(), cv=10).mean())\n",
    "\n",
    "\n",
    "DT = DecisionTreeClassifier(random_state=11)\n",
    "print('Decsion Tree', cross_val_score(DT, pca_train_all, label.values.ravel(), cv=10).mean())\n",
    "\n",
    "\n",
    "GBC =  GradientBoostingClassifier(random_state=11)\n",
    "print('Gradient Boosting', cross_val_score(GBC, pca_train_all, label.values.ravel(), cv=10).mean())\n",
    "\n",
    "\n",
    "SVM = SVC()\n",
    "print('SVM', cross_val_score(SVM, pca_train_all, label.values.ravel(), cv=10).mean())\n",
    "\n",
    "\n",
    "xgb = XGBClassifier()\n",
    "print('XGB', cross_val_score(xgb, pca_train_all, label.values.ravel(), cv=10).mean())"
   ]
  },
  {
   "cell_type": "markdown",
   "metadata": {},
   "source": [
    "### GaussianMixture"
   ]
  },
  {
   "cell_type": "code",
   "execution_count": 11,
   "metadata": {},
   "outputs": [
    {
     "name": "stdout",
     "output_type": "stream",
     "text": [
      "x_all shape : (10000, 40)\n"
     ]
    }
   ],
   "source": [
    "import numpy as np\n",
    "x_all = np.r_[train_data,test_data]\n",
    "print('x_all shape :',x_all.shape)\n",
    "\n",
    "\n",
    "from sklearn.mixture import GaussianMixture\n",
    "\n",
    "\n",
    "gmm_list = []\n",
    "cv_types = ['spherical', 'tied', 'diag', 'full']\n",
    "n_components_range = range(1, 7)\n",
    "for cv in cv_types:\n",
    "    for component in n_components_range:\n",
    "        gmm = GaussianMixture(n_components=component, covariance_type=cv)\n",
    "        gmm.fit(x_all)\n",
    "        gmm_list.append(gmm.aic(x_all))\n",
    "        if min(gmm_list) == gmm_list[-1]:\n",
    "            lowest = gmm_list[-1]\n",
    "            best_gmm = gmm\n",
    "        "
   ]
  },
  {
   "cell_type": "code",
   "execution_count": 12,
   "metadata": {},
   "outputs": [],
   "source": [
    "best_gmm.fit(x_all)\n",
    "gmm_train = best_gmm.predict_proba(train_data)\n",
    "gmm_test = best_gmm.predict_proba(test_data)"
   ]
  },
  {
   "cell_type": "markdown",
   "metadata": {},
   "source": [
    "### Hyperparameter Tuning"
   ]
  },
  {
   "cell_type": "code",
   "execution_count": 13,
   "metadata": {},
   "outputs": [
    {
     "name": "stdout",
     "output_type": "stream",
     "text": [
      "Fitting 10 folds for each of 20 candidates, totalling 200 fits\n"
     ]
    },
    {
     "name": "stderr",
     "output_type": "stream",
     "text": [
      "[Parallel(n_jobs=-1)]: Using backend LokyBackend with 8 concurrent workers.\n",
      "[Parallel(n_jobs=-1)]: Done   2 tasks      | elapsed:    2.6s\n",
      "[Parallel(n_jobs=-1)]: Done   9 tasks      | elapsed:    2.8s\n",
      "[Parallel(n_jobs=-1)]: Done  16 tasks      | elapsed:    2.9s\n",
      "[Parallel(n_jobs=-1)]: Done  25 tasks      | elapsed:    3.1s\n",
      "[Parallel(n_jobs=-1)]: Done  34 tasks      | elapsed:    3.5s\n",
      "[Parallel(n_jobs=-1)]: Done  45 tasks      | elapsed:    4.2s\n",
      "[Parallel(n_jobs=-1)]: Done  56 tasks      | elapsed:    4.4s\n",
      "[Parallel(n_jobs=-1)]: Done  69 tasks      | elapsed:    4.7s\n",
      "[Parallel(n_jobs=-1)]: Done  82 tasks      | elapsed:    5.2s\n",
      "[Parallel(n_jobs=-1)]: Done  97 tasks      | elapsed:    6.0s\n",
      "[Parallel(n_jobs=-1)]: Done 112 tasks      | elapsed:    6.3s\n",
      "[Parallel(n_jobs=-1)]: Done 129 tasks      | elapsed:    6.8s\n",
      "[Parallel(n_jobs=-1)]: Done 146 tasks      | elapsed:    7.9s\n",
      "[Parallel(n_jobs=-1)]: Done 165 tasks      | elapsed:    8.1s\n",
      "[Parallel(n_jobs=-1)]: Done 184 tasks      | elapsed:    8.9s\n",
      "[Parallel(n_jobs=-1)]: Done 200 out of 200 | elapsed:    9.9s finished\n"
     ]
    },
    {
     "name": "stdout",
     "output_type": "stream",
     "text": [
      "Random Forest Best Score 0.996\n",
      "Random Forest Best Parmas {'max_depth': 3, 'n_estimators': 50}\n",
      "Random Forest Accuracy 0.9960000000000001\n"
     ]
    }
   ],
   "source": [
    "from sklearn.model_selection import GridSearchCV,StratifiedKFold\n",
    "\n",
    "RF = RandomForestClassifier(random_state=11)\n",
    "\n",
    "n_estimators = [10, 50, 100, 200, 400]\n",
    "max_depth = [3, 10, 20, 40]\n",
    "param_grid = dict(n_estimators=n_estimators,max_depth=max_depth)\n",
    "cv = StratifiedKFold(n_splits=10, shuffle=True)\n",
    "\n",
    "grid_search_RF = GridSearchCV(estimator=RF, param_grid=param_grid, cv=cv, scoring='accuracy', n_jobs=-1, verbose=10).fit(gmm_train, label.values.ravel())\n",
    "RF_best = grid_search_RF.best_estimator_\n",
    "print('Random Forest Best Score',grid_search_RF.best_score_)\n",
    "print('Random Forest Best Parmas',grid_search_RF.best_params_)\n",
    "print('Random Forest Accuracy',cross_val_score(RF_best, gmm_train, label.values.ravel(), cv=10).mean())"
   ]
  },
  {
   "cell_type": "code",
   "execution_count": 14,
   "metadata": {},
   "outputs": [
    {
     "name": "stdout",
     "output_type": "stream",
     "text": [
      "Fitting 10 folds for each of 5 candidates, totalling 50 fits\n",
      "Naive Bayes Best Score 0.995\n",
      "Naive Bayes Best Parmas {'var_smoothing': 1e-07}\n",
      "Naive Bayes Accuracy 0.9950000000000001\n"
     ]
    },
    {
     "name": "stderr",
     "output_type": "stream",
     "text": [
      "[Parallel(n_jobs=-1)]: Using backend LokyBackend with 8 concurrent workers.\n",
      "[Parallel(n_jobs=-1)]: Batch computation too fast (0.0130s.) Setting batch_size=30.\n",
      "[Parallel(n_jobs=-1)]: Done   2 tasks      | elapsed:    0.0s\n",
      "[Parallel(n_jobs=-1)]: Done   5 out of  50 | elapsed:    0.0s remaining:    0.2s\n",
      "[Parallel(n_jobs=-1)]: Done  11 out of  50 | elapsed:    0.0s remaining:    0.1s\n",
      "[Parallel(n_jobs=-1)]: Done  50 out of  50 | elapsed:    0.0s finished\n"
     ]
    }
   ],
   "source": [
    "GNB = GaussianNB()\n",
    "smooth = [1e-7, 1e-8, 1e-9, 1e-10, 1e-11]\n",
    "param_grid = dict(var_smoothing = smooth)\n",
    "cv = StratifiedKFold(n_splits=10, shuffle=True)\n",
    "\n",
    "grid_search_GNB = GridSearchCV(estimator=GNB, param_grid=param_grid, cv=cv, scoring='accuracy', n_jobs=-1, verbose=10).fit(gmm_train, label.values.ravel())\n",
    "GNB_best = grid_search_GNB.best_estimator_\n",
    "print('Naive Bayes Best Score',grid_search_GNB.best_score_)\n",
    "print('Naive Bayes Best Parmas',grid_search_GNB.best_params_)\n",
    "print('Naive Bayes Accuracy',cross_val_score(GNB_best, gmm_train, label.values.ravel(), cv=10).mean())"
   ]
  },
  {
   "cell_type": "code",
   "execution_count": 15,
   "metadata": {},
   "outputs": [
    {
     "name": "stdout",
     "output_type": "stream",
     "text": [
      "Fitting 10 folds for each of 7 candidates, totalling 70 fits\n"
     ]
    },
    {
     "name": "stderr",
     "output_type": "stream",
     "text": [
      "[Parallel(n_jobs=-1)]: Using backend LokyBackend with 8 concurrent workers.\n",
      "[Parallel(n_jobs=-1)]: Batch computation too fast (0.0180s.) Setting batch_size=22.\n",
      "[Parallel(n_jobs=-1)]: Done   2 tasks      | elapsed:    0.0s\n",
      "[Parallel(n_jobs=-1)]: Done   7 out of  70 | elapsed:    0.0s remaining:    0.4s\n",
      "[Parallel(n_jobs=-1)]: Done  15 out of  70 | elapsed:    0.0s remaining:    0.1s\n",
      "[Parallel(n_jobs=-1)]: Done  70 out of  70 | elapsed:    0.1s finished\n"
     ]
    },
    {
     "name": "stdout",
     "output_type": "stream",
     "text": [
      "KNN Best Score 0.996\n",
      "KNN Best Params {'n_neighbors': 3}\n",
      "KNN Accuracy 0.9960000000000001\n"
     ]
    }
   ],
   "source": [
    "KNN = KNeighborsClassifier()\n",
    "\n",
    "n_neighbors=[3, 5, 6, 7, 8, 9, 10]\n",
    "param_grid = dict(n_neighbors=n_neighbors)\n",
    "cv = StratifiedKFold(n_splits=10, shuffle=True)\n",
    "\n",
    "grid_search_KNN = GridSearchCV(estimator=KNN, param_grid=param_grid, cv = cv, n_jobs=-1, scoring='accuracy', verbose=10).fit(gmm_train, label.values.ravel())\n",
    "KNN_best = grid_search_KNN.best_estimator_\n",
    "print('KNN Best Score', grid_search_KNN.best_score_)\n",
    "print('KNN Best Params',grid_search_KNN.best_params_)\n",
    "print('KNN Accuracy',cross_val_score(KNN_best,gmm_train, label.values.ravel(), cv=10).mean())"
   ]
  },
  {
   "cell_type": "code",
   "execution_count": 16,
   "metadata": {},
   "outputs": [
    {
     "name": "stdout",
     "output_type": "stream",
     "text": [
      "Fitting 10 folds for each of 96 candidates, totalling 960 fits\n"
     ]
    },
    {
     "name": "stderr",
     "output_type": "stream",
     "text": [
      "[Parallel(n_jobs=-1)]: Using backend LokyBackend with 8 concurrent workers.\n",
      "[Parallel(n_jobs=-1)]: Batch computation too fast (0.0149s.) Setting batch_size=26.\n",
      "[Parallel(n_jobs=-1)]: Done   2 tasks      | elapsed:    0.0s\n",
      "[Parallel(n_jobs=-1)]: Done   9 tasks      | elapsed:    0.0s\n",
      "[Parallel(n_jobs=-1)]: Done  16 tasks      | elapsed:    0.1s\n",
      "[Parallel(n_jobs=-1)]: Done 250 tasks      | elapsed:    0.7s\n",
      "[Parallel(n_jobs=-1)]: Done 484 tasks      | elapsed:    1.2s\n",
      "[Parallel(n_jobs=-1)]: Done 848 out of 960 | elapsed:    1.8s remaining:    0.1s\n",
      "[Parallel(n_jobs=-1)]: Done 960 out of 960 | elapsed:    1.9s finished\n"
     ]
    },
    {
     "name": "stdout",
     "output_type": "stream",
     "text": [
      "Logistic Regression Best Score 0.996\n",
      "Logistic Regression Best Params {'C': 0.3, 'max_iter': 50, 'penalty': 'l1', 'tol': 1e-05}\n",
      "Logistic Regression Accuracy 0.9960000000000001\n"
     ]
    }
   ],
   "source": [
    "LR = LogisticRegression()\n",
    "\n",
    "penalty = ['l1', 'l2']\n",
    "tol = [1e-5, 1e-4, 1e-3]\n",
    "C = [0.3, 0.5, 0.8, 1]\n",
    "max_iter = [50, 100, 200, 500]\n",
    "param_grid = dict(penalty=penalty, tol=tol, C=C, max_iter=max_iter)\n",
    "cv = StratifiedKFold(n_splits=10, shuffle=True)\n",
    "\n",
    "grid_search_LR = GridSearchCV(estimator=LR, param_grid=param_grid, cv = cv, n_jobs=-1, scoring='accuracy', verbose=10).fit(gmm_train, label.values.ravel())\n",
    "LR_best = grid_search_LR.best_estimator_\n",
    "print('Logistic Regression Best Score', grid_search_LR.best_score_)\n",
    "print('Logistic Regression Best Params',grid_search_LR.best_params_)\n",
    "print('Logistic Regression Accuracy',cross_val_score(LR_best,gmm_train, label.values.ravel(), cv=10).mean())"
   ]
  },
  {
   "cell_type": "code",
   "execution_count": 17,
   "metadata": {},
   "outputs": [
    {
     "name": "stderr",
     "output_type": "stream",
     "text": [
      "[Parallel(n_jobs=-1)]: Using backend LokyBackend with 8 concurrent workers.\n",
      "[Parallel(n_jobs=-1)]: Batch computation too fast (0.0130s.) Setting batch_size=30.\n",
      "[Parallel(n_jobs=-1)]: Done   2 tasks      | elapsed:    0.0s\n",
      "[Parallel(n_jobs=-1)]: Done   7 out of 150 | elapsed:    0.0s remaining:    1.8s\n"
     ]
    },
    {
     "name": "stdout",
     "output_type": "stream",
     "text": [
      "Fitting 10 folds for each of 15 candidates, totalling 150 fits\n",
      "SVM Best Score 0.996\n",
      "SVM Best Params {'C': 1, 'kernel': 'linear'}\n",
      "SVM Accuracy 0.9960000000000001\n"
     ]
    },
    {
     "name": "stderr",
     "output_type": "stream",
     "text": [
      "[Parallel(n_jobs=-1)]: Done 150 out of 150 | elapsed:    0.6s finished\n"
     ]
    }
   ],
   "source": [
    "SVM = SVC()\n",
    "\n",
    "parameters = [{'kernel':['linear'],'C':[1,10,100]},\n",
    "              {'kernel':['rbf'],'C':[1,10,100],'gamma':[0.05,0.0001,0.01,0.001]}]\n",
    "cv = StratifiedKFold(n_splits=10, shuffle=True)\n",
    "\n",
    "grid_search_SVM = GridSearchCV(estimator=SVM, param_grid=parameters, cv = cv, n_jobs=-1,scoring='accuracy', verbose=10).fit(gmm_train, label.values.ravel())\n",
    "SVM_best = grid_search_SVM.best_estimator_\n",
    "print('SVM Best Score',grid_search_SVM.best_score_)\n",
    "print('SVM Best Params',grid_search_SVM.best_params_)\n",
    "print('SVM Accuracy',cross_val_score(SVM_best, gmm_train, label.values.ravel(), cv=10).mean())"
   ]
  },
  {
   "cell_type": "code",
   "execution_count": 18,
   "metadata": {
    "scrolled": true
   },
   "outputs": [
    {
     "name": "stderr",
     "output_type": "stream",
     "text": [
      "[Parallel(n_jobs=-1)]: Using backend LokyBackend with 8 concurrent workers.\n",
      "[Parallel(n_jobs=-1)]: Batch computation too fast (0.0518s.) Setting batch_size=6.\n",
      "[Parallel(n_jobs=-1)]: Done   2 tasks      | elapsed:    0.0s\n"
     ]
    },
    {
     "name": "stdout",
     "output_type": "stream",
     "text": [
      "Fitting 10 folds for each of 200 candidates, totalling 2000 fits\n"
     ]
    },
    {
     "name": "stderr",
     "output_type": "stream",
     "text": [
      "[Parallel(n_jobs=-1)]: Done   9 tasks      | elapsed:    0.1s\n",
      "[Parallel(n_jobs=-1)]: Done  16 tasks      | elapsed:    0.2s\n",
      "[Parallel(n_jobs=-1)]: Batch computation too slow (2.1994s.) Setting batch_size=3.\n",
      "[Parallel(n_jobs=-1)]: Done  70 tasks      | elapsed:    3.6s\n",
      "[Parallel(n_jobs=-1)]: Done 121 tasks      | elapsed:    6.9s\n",
      "[Parallel(n_jobs=-1)]: Batch computation too slow (3.4278s.) Setting batch_size=1.\n",
      "[Parallel(n_jobs=-1)]: Done 161 tasks      | elapsed:   10.6s\n",
      "[Parallel(n_jobs=-1)]: Done 186 tasks      | elapsed:   12.6s\n",
      "[Parallel(n_jobs=-1)]: Done 199 tasks      | elapsed:   13.4s\n",
      "[Parallel(n_jobs=-1)]: Done 212 tasks      | elapsed:   14.0s\n",
      "[Parallel(n_jobs=-1)]: Done 227 tasks      | elapsed:   15.0s\n",
      "[Parallel(n_jobs=-1)]: Done 247 tasks      | elapsed:   16.8s\n",
      "[Parallel(n_jobs=-1)]: Done 264 tasks      | elapsed:   17.4s\n",
      "[Parallel(n_jobs=-1)]: Done 281 tasks      | elapsed:   18.9s\n",
      "[Parallel(n_jobs=-1)]: Done 300 tasks      | elapsed:   21.2s\n",
      "[Parallel(n_jobs=-1)]: Done 319 tasks      | elapsed:   22.0s\n",
      "[Parallel(n_jobs=-1)]: Done 340 tasks      | elapsed:   25.0s\n",
      "[Parallel(n_jobs=-1)]: Done 361 tasks      | elapsed:   27.7s\n",
      "[Parallel(n_jobs=-1)]: Done 384 tasks      | elapsed:   29.2s\n",
      "[Parallel(n_jobs=-1)]: Done 407 tasks      | elapsed:   31.2s\n",
      "[Parallel(n_jobs=-1)]: Done 432 tasks      | elapsed:   32.5s\n",
      "[Parallel(n_jobs=-1)]: Done 457 tasks      | elapsed:   33.9s\n",
      "[Parallel(n_jobs=-1)]: Done 484 tasks      | elapsed:   35.4s\n",
      "[Parallel(n_jobs=-1)]: Done 511 tasks      | elapsed:   37.5s\n",
      "[Parallel(n_jobs=-1)]: Done 540 tasks      | elapsed:   40.8s\n",
      "[Parallel(n_jobs=-1)]: Done 569 tasks      | elapsed:   42.8s\n",
      "[Parallel(n_jobs=-1)]: Done 600 tasks      | elapsed:   46.0s\n",
      "[Parallel(n_jobs=-1)]: Done 631 tasks      | elapsed:   47.8s\n",
      "[Parallel(n_jobs=-1)]: Done 664 tasks      | elapsed:   50.1s\n",
      "[Parallel(n_jobs=-1)]: Done 697 tasks      | elapsed:   53.2s\n",
      "[Parallel(n_jobs=-1)]: Done 732 tasks      | elapsed:   55.0s\n",
      "[Parallel(n_jobs=-1)]: Done 767 tasks      | elapsed:   57.3s\n",
      "[Parallel(n_jobs=-1)]: Done 804 tasks      | elapsed:  1.0min\n",
      "[Parallel(n_jobs=-1)]: Done 841 tasks      | elapsed:  1.0min\n",
      "[Parallel(n_jobs=-1)]: Done 880 tasks      | elapsed:  1.1min\n",
      "[Parallel(n_jobs=-1)]: Done 919 tasks      | elapsed:  1.1min\n",
      "[Parallel(n_jobs=-1)]: Done 960 tasks      | elapsed:  1.2min\n",
      "[Parallel(n_jobs=-1)]: Done 1001 tasks      | elapsed:  1.2min\n",
      "[Parallel(n_jobs=-1)]: Done 1044 tasks      | elapsed:  1.2min\n",
      "[Parallel(n_jobs=-1)]: Done 1087 tasks      | elapsed:  1.3min\n",
      "[Parallel(n_jobs=-1)]: Done 1132 tasks      | elapsed:  1.3min\n",
      "[Parallel(n_jobs=-1)]: Done 1177 tasks      | elapsed:  1.4min\n",
      "[Parallel(n_jobs=-1)]: Done 1224 tasks      | elapsed:  1.4min\n",
      "[Parallel(n_jobs=-1)]: Done 1271 tasks      | elapsed:  1.5min\n",
      "[Parallel(n_jobs=-1)]: Done 1320 tasks      | elapsed:  1.5min\n",
      "[Parallel(n_jobs=-1)]: Done 1369 tasks      | elapsed:  1.6min\n",
      "[Parallel(n_jobs=-1)]: Done 1420 tasks      | elapsed:  1.6min\n",
      "[Parallel(n_jobs=-1)]: Done 1471 tasks      | elapsed:  1.7min\n",
      "[Parallel(n_jobs=-1)]: Done 1524 tasks      | elapsed:  1.7min\n",
      "[Parallel(n_jobs=-1)]: Done 1577 tasks      | elapsed:  1.8min\n",
      "[Parallel(n_jobs=-1)]: Done 1632 tasks      | elapsed:  1.8min\n",
      "[Parallel(n_jobs=-1)]: Done 1687 tasks      | elapsed:  1.9min\n",
      "[Parallel(n_jobs=-1)]: Done 1744 tasks      | elapsed:  1.9min\n",
      "[Parallel(n_jobs=-1)]: Done 1801 tasks      | elapsed:  2.0min\n",
      "[Parallel(n_jobs=-1)]: Done 1860 tasks      | elapsed:  2.0min\n",
      "[Parallel(n_jobs=-1)]: Done 1919 tasks      | elapsed:  2.1min\n",
      "[Parallel(n_jobs=-1)]: Done 1980 tasks      | elapsed:  2.2min\n",
      "[Parallel(n_jobs=-1)]: Done 2000 out of 2000 | elapsed:  2.2min finished\n"
     ]
    },
    {
     "name": "stdout",
     "output_type": "stream",
     "text": [
      "Graident Boosting Classifier Best Score 0.996\n",
      "Graident Boosting Classifier Best Params {'learning_rate': 0.1, 'loss': 'deviance', 'max_depth': 3, 'n_estimators': 400}\n",
      "Graident Boosting Classifier Accuracy 0.9960000000000001\n"
     ]
    }
   ],
   "source": [
    "GBC = GradientBoostingClassifier()\n",
    "\n",
    "loss = ['deviance', 'exponential']\n",
    "learning_rate = [0.05, 0.07, 0.1, 0.3, 0.5]\n",
    "n_estimators = [10, 50, 100, 200, 400]\n",
    "max_depth = [3, 10, 20, 40]\n",
    "param_grid = dict(loss=loss, learning_rate=learning_rate, n_estimators=n_estimators, max_depth=max_depth)\n",
    "cv = StratifiedKFold(n_splits=10, shuffle=True)\n",
    "\n",
    "grid_search_GBC = GridSearchCV(estimator=GBC, param_grid=param_grid, cv=cv, n_jobs=-1, scoring='accuracy', verbose=10).fit(gmm_train, label.values.ravel())\n",
    "GBC_best = grid_search_GBC.best_estimator_\n",
    "print('Graident Boosting Classifier Best Score',grid_search_GBC.best_score_)\n",
    "print('Graident Boosting Classifier Best Params',grid_search_GBC.best_params_)\n",
    "print('Graident Boosting Classifier Accuracy',cross_val_score(GBC_best, gmm_train, label.values.ravel(), cv=10).mean())"
   ]
  },
  {
   "cell_type": "code",
   "execution_count": null,
   "metadata": {},
   "outputs": [],
   "source": [
    "RF_best.fit(gmm_train, label.values.ravel())\n",
    "y_pred = RF_best.predict(gmm_test)\n",
    "pred_DF = pd.DataFrame(y_pred)\n",
    "pred_DF.index+=1\n",
    "pred_DF.columns = ['Solution']\n",
    "pred_DF['Id'] = np.arange(1, pred_DF.shape[0]+1)\n",
    "\n",
    "pred_DF = pred_DF[['Id', 'Solution']]\n",
    "pred_DF.to_csv('Submission_GMM_RFC.csv',index=False)"
   ]
  },
  {
   "cell_type": "code",
   "execution_count": null,
   "metadata": {},
   "outputs": [],
   "source": [
    "KNN_best.fit(gmm_train, label.values.ravel())\n",
    "y_pred = KNN_best.predict(gmm_test)\n",
    "pred_DF = pd.DataFrame(y_pred)\n",
    "pred_DF.index+=1\n",
    "pred_DF.columns = ['Solution']\n",
    "pred_DF['Id'] = np.arange(1, pred_DF.shape[0]+1)\n",
    "\n",
    "pred_DF = pred_DF[['Id', 'Solution']]\n",
    "pred_DF.to_csv('Submission_GMM_KNN.csv',index=False)"
   ]
  },
  {
   "cell_type": "code",
   "execution_count": null,
   "metadata": {},
   "outputs": [],
   "source": [
    "LR_best.fit(gmm_train, label.values.ravel())\n",
    "y_pred = LR_best.predict(gmm_test)\n",
    "pred_DF = pd.DataFrame(y_pred)\n",
    "pred_DF.index+=1\n",
    "pred_DF.columns = ['Solution']\n",
    "pred_DF['Id'] = np.arange(1, pred_DF.shape[0]+1)\n",
    "\n",
    "pred_DF = pred_DF[['Id', 'Solution']]\n",
    "pred_DF.to_csv('Submission_GMM_LR.csv',index=False)"
   ]
  },
  {
   "cell_type": "code",
   "execution_count": null,
   "metadata": {},
   "outputs": [],
   "source": [
    "GBC_best.fit(gmm_train, label.values.ravel())\n",
    "y_pred = GBC_best.predict(gmm_test)\n",
    "pred_DF = pd.DataFrame(y_pred)\n",
    "pred_DF.index+=1\n",
    "pred_DF.columns = ['Solution']\n",
    "pred_DF['Id'] = np.arange(1, pred_DF.shape[0]+1)\n",
    "\n",
    "pred_DF = pred_DF[['Id', 'Solution']]\n",
    "pred_DF.to_csv('Submission_GMM_GBC.csv',index=False)"
   ]
  },
  {
   "cell_type": "code",
   "execution_count": null,
   "metadata": {},
   "outputs": [],
   "source": [
    "SVM_best.fit(gmm_train, label.values.ravel())\n",
    "y_pred = SVM_best.predict(gmm_test)\n",
    "pred_DF = pd.DataFrame(y_pred)\n",
    "pred_DF.index+=1\n",
    "pred_DF.columns = ['Solution']\n",
    "pred_DF['Id'] = np.arange(1, pred_DF.shape[0]+1)\n",
    "\n",
    "pred_DF = pred_DF[['Id', 'Solution']]\n",
    "pred_DF.to_csv('Submission_GMM_SVM.csv',index=False)"
   ]
  },
  {
   "cell_type": "code",
   "execution_count": null,
   "metadata": {},
   "outputs": [],
   "source": [
    "#pred_DF.index+=1\n",
    "pred_DF\n",
    "#y_pred"
   ]
  }
 ],
 "metadata": {
  "kernelspec": {
   "display_name": "Python 3",
   "language": "python",
   "name": "python3"
  },
  "language_info": {
   "codemirror_mode": {
    "name": "ipython",
    "version": 3
   },
   "file_extension": ".py",
   "mimetype": "text/x-python",
   "name": "python",
   "nbconvert_exporter": "python",
   "pygments_lexer": "ipython3",
   "version": "3.6.8"
  }
 },
 "nbformat": 4,
 "nbformat_minor": 2
}
