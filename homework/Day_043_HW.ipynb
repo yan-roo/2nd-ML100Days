{
 "cells": [
  {
   "cell_type": "markdown",
   "metadata": {},
   "source": [
    "## [作業重點]\n",
    "了解隨機森林改善了決策樹的什麼缺點？是用什麼方法改進的？"
   ]
  },
  {
   "cell_type": "markdown",
   "metadata": {},
   "source": [
    "## 作業\n",
    "\n",
    "閱讀以下兩篇文獻，了解隨機森林原理，並試著回答後續的思考問題\n",
    "- [隨機森林 (random forest) - 中文](http://hhtucode.blogspot.tw/2013/06/ml-random-forest.html)\n",
    "- [how random forest works - 英文](https://medium.com/@Synced/how-random-forest-algorithm-works-in-machine-learning-3c0fe15b6674)"
   ]
  },
  {
   "cell_type": "markdown",
   "metadata": {},
   "source": [
    "\n",
    "1. 隨機森林中的每一棵樹，是希望能夠\n",
    "\n",
    "    - 沒有任何限制，讓樹可以持續生長 (讓樹生成很深，讓模型變得複雜)\n",
    "    \n",
    "    - 不要過度生長，避免 Overfitting\n",
    "    \n",
    "    \n",
    "**Your answer:** *希望底下每一顆決策樹能夠沒有限制持續生長, 再利用Ensemble投票的方式解決Overfitting的問題* <br><br>\n",
    "    Overfitting is one critical problem that may make the results worse, but for Random Forest algorithm, if there are enough trees in the forest, the classifier won’t overfit the model. "
   ]
  },
  {
   "cell_type": "markdown",
   "metadata": {},
   "source": [
    "2. 假設總共有 N 筆資料，每棵樹用取後放回的方式抽了總共 N 筆資料生成，請問這棵樹大約使用了多少 % 不重複的原資料生成?\n",
    "hint: 0.632 bootstrap\n",
    "\n",
    "**Your answer:**\n",
    "每次取到其中一筆資料的機率為$\\frac{1}{n}$ 不被選中的機率為$1-\\frac{1}{n}$ <br>\n",
    "一筆資料取n次都沒被選中的機率為$(1-\\frac{1}{n})^n$ <br>\n",
    "當樣本數夠大時$n \\to \\infty$ <br><br>\n",
    "$y = \\lim_{n \\to \\infty} (1-\\frac{1}{n})^n$ <br><br>\n",
    "$ln{y} = \\lim_{n \\to \\infty} n * ln(1-\\frac{1}{n})$ <br><br>\n",
    "$\\lim_{n \\to \\infty}  \\frac {ln(1-\\frac{1}{n})}{1/n}$ <br><br>\n",
    "$\\lim_{n \\to \\infty}  \\frac {\\frac{1}{1-\\frac{1}{n}}*\\frac{1}{n^2}}{-\\frac{1}{n^2}}$ <br> <br>\n",
    "$\\lim_{n \\to \\infty}  \\frac {\\frac{1}{n^2-n}}{-\\frac{1}{n^2}}$ <br><br>\n",
    "$\\lim_{n \\to \\infty}  \\frac {-n}{n-1} = -1$ <br><br>\n",
    "$ln{y} = -1$ <br><br>\n",
    "$y = e^{-1}$ <br><br>\n",
    "任一筆資料被選中的機率為$1 - e^{-1} \\approx 0.632$ <br><br>\n",
    "[自助法(bootstrap)的0.632是怎麼來的？](http://sofasofa.io/forum_main_post.php?postid=1000691)"
   ]
  },
  {
   "cell_type": "code",
   "execution_count": 1,
   "metadata": {},
   "outputs": [
    {
     "data": {
      "text/plain": [
       "0.6349"
      ]
     },
     "execution_count": 1,
     "metadata": {},
     "output_type": "execute_result"
    }
   ],
   "source": [
    "import numpy as np \n",
    "import pandas as pd\n",
    "\n",
    "data = pd.DataFrame(np.arange(10000)) #產生一萬筆不重複資料\n",
    "data.columns = ['Number']\n",
    "sample = data['Number'].sample(10000, replace=True).drop_duplicates().count() #bagging 取後放回 有重複\n",
    "sample / 10000"
   ]
  }
 ],
 "metadata": {
  "kernelspec": {
   "display_name": "Python 3",
   "language": "python",
   "name": "python3"
  },
  "language_info": {
   "codemirror_mode": {
    "name": "ipython",
    "version": 3
   },
   "file_extension": ".py",
   "mimetype": "text/x-python",
   "name": "python",
   "nbconvert_exporter": "python",
   "pygments_lexer": "ipython3",
   "version": "3.6.8"
  }
 },
 "nbformat": 4,
 "nbformat_minor": 2
}
