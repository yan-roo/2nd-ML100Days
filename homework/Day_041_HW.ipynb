{
 "cells": [
  {
   "cell_type": "markdown",
   "metadata": {},
   "source": [
    "## 作業\n",
    "\n",
    "\n",
    "\n",
    "閱讀以下兩篇文獻，了解決策樹原理，並試著回答後續的問題\n",
    "- [決策樹 (Decision Tree) - 中文](https://medium.com/@yehjames/%E8%B3%87%E6%96%99%E5%88%86%E6%9E%90-%E6%A9%9F%E5%99%A8%E5%AD%B8%E7%BF%92-%E7%AC%AC3-5%E8%AC%9B-%E6%B1%BA%E7%AD%96%E6%A8%B9-decision-tree-%E4%BB%A5%E5%8F%8A%E9%9A%A8%E6%A9%9F%E6%A3%AE%E6%9E%97-random-forest-%E4%BB%8B%E7%B4%B9-7079b0ddfbda)\n",
    "- [how decision tree works - 英文](http://dataaspirant.com/2017/01/30/how-decision-tree-algorithm-works/)\n",
    "\n",
    "1. 在分類問題中，若沒有任何限制，決策樹有辦法在訓練時將 training loss 完全降成 0 嗎？\n",
    "2. 決策樹只能用在分類問題嗎？還是可以用來解決回歸問題？\n"
   ]
  },
  {
   "cell_type": "markdown",
   "metadata": {},
   "source": [
    "#### 1. 在分類問題中，若沒有任何限制，決策樹有辦法在訓練時將 training loss 完全降成 0 嗎？<br>\n",
    "\n",
    "\n",
    "**Your answer:** *有辦法,如果沒有限制決策樹的深度,樹分支將一直向下切分,對於雜訊也會特別切分開來,讓training loss到達0,但也就是Overfitting的結果*<br>\n",
    "*而解決Overfitting的辦法就是限制深度,還有進行前剪枝(門檻,生成前),後剪枝(比對修剪,生成後)*\n",
    "\n",
    "The model is having an issue of overfitting is considered when the algorithm continues to go deeper and deeper in the to reduce the training set error but results with an increased test set error i.e, Accuracy of prediction for our model goes down. It generally happens when it builds many branches due to outliers and irregularities in data.<br>\n",
    "\n",
    "\n",
    "如下圖,如果沒有限制,將會把少數的雜訊藍點也進行劃分\n",
    "![img](https://cdn-images-1.medium.com/max/880/1*qcDSB6nu2UcU0UkywrNOng.png)"
   ]
  },
  {
   "cell_type": "markdown",
   "metadata": {},
   "source": [
    "#### 2. 決策樹只能用在分類問題嗎？還是可以用來解決回歸問題？<br>\n",
    "\n",
    "\n",
    "**Your answer:** *決策樹可用在分類與回歸問題,所以除了ID3, C4.5演算法外,還有CART(Classification and Regression Tree)*<br>\n",
    "\n",
    "Unlike other supervised learning algorithms, decision tree algorithm can be used for solving regression and classification problems too."
   ]
  }
 ],
 "metadata": {
  "kernelspec": {
   "display_name": "Python 3",
   "language": "python",
   "name": "python3"
  },
  "language_info": {
   "codemirror_mode": {
    "name": "ipython",
    "version": 3
   },
   "file_extension": ".py",
   "mimetype": "text/x-python",
   "name": "python",
   "nbconvert_exporter": "python",
   "pygments_lexer": "ipython3",
   "version": "3.6.8"
  }
 },
 "nbformat": 4,
 "nbformat_minor": 2
}
