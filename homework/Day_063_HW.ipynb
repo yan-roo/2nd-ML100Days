{
 "cells": [
  {
   "cell_type": "markdown",
   "metadata": {},
   "source": [
    "# 作業\n",
    "* 在精簡深度學習的方式上 : 卷積類神經 (CNN) 採用像素遠近，而遞歸類神經 (RNN) 採用著則是時間遠近\n",
    "* 那麼，既然有著類似的設計精神，兩者是否有可能互換應用呢?"
   ]
  },
  {
   "cell_type": "markdown",
   "metadata": {},
   "source": [
    "### 卷積類神經 (CNN)也可以用於時間序列, 稱為1D-CNN\n",
    "適合在固定長度週期內(感測器數據、訊號), 尋找特定特徵、波形振福, 或是用於NLP字詞分析<br>\n",
    "[用於時間序列的Keras中一維卷積神經網絡（1D CNN）的介紹](原文網址：https://kknews.cc/other/z5vg5oq.htmlhttps://kknews.cc/zh-tw/other/z5vg5oq.html)"
   ]
  },
  {
   "cell_type": "markdown",
   "metadata": {},
   "source": [
    "### 圖像可以融合CNN與RNN\n",
    "以CNN進行圖片特徵擷取辨識, 再將特徵餵給RNN產生特徵對應的字詞, 讓機器可以對圖片進行文字造句形容 (看圖說故事)<br>\n",
    "[Image Captioning](https://towardsdatascience.com/image-captioning-with-keras-teaching-computers-to-describe-pictures-c88a46a311b8)"
   ]
  },
  {
   "cell_type": "markdown",
   "metadata": {},
   "source": [
    "[人工智慧大歷史  林守德教授演講  / Mora Chen 筆記](https://medium.com/@suipichen/%E4%BA%BA%E5%B7%A5%E6%99%BA%E6%85%A7%E5%A4%A7%E6%AD%B7%E5%8F%B2-ffe46a350543)<br>\n",
    "[泛科學：3 分鐘搞懂深度學習到底在深什麼 節錄李宏毅老師演講](https://panx.asia/archives/53209)"
   ]
  }
 ],
 "metadata": {
  "kernelspec": {
   "display_name": "Python 3",
   "language": "python",
   "name": "python3"
  },
  "language_info": {
   "codemirror_mode": {
    "name": "ipython",
    "version": 3
   },
   "file_extension": ".py",
   "mimetype": "text/x-python",
   "name": "python",
   "nbconvert_exporter": "python",
   "pygments_lexer": "ipython3",
   "version": "3.6.8"
  }
 },
 "nbformat": 4,
 "nbformat_minor": 2
}
