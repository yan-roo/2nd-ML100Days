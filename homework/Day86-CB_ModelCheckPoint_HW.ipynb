{
 "cells": [
  {
   "cell_type": "markdown",
   "metadata": {},
   "source": [
    "## Work\n",
    "1. 試比較 save_best_only 與否的差異\n",
    "2. 請僅存入將 save_weights_only 設定為 True, 並嘗試 reset ipynb 並將模型與權重重新建回並預測 x_test"
   ]
  },
  {
   "cell_type": "code",
   "execution_count": 1,
   "metadata": {},
   "outputs": [
    {
     "name": "stderr",
     "output_type": "stream",
     "text": [
      "Using TensorFlow backend.\n"
     ]
    }
   ],
   "source": [
    "import os\n",
    "import keras\n",
    "\n",
    "# Disable GPU\n",
    "os.environ[\"CUDA_VISIBLE_DEVICES\"] = \"\""
   ]
  },
  {
   "cell_type": "code",
   "execution_count": 2,
   "metadata": {},
   "outputs": [],
   "source": [
    "train, test = keras.datasets.cifar10.load_data()"
   ]
  },
  {
   "cell_type": "code",
   "execution_count": 3,
   "metadata": {},
   "outputs": [],
   "source": [
    "## 資料前處理\n",
    "def preproc_x(x, flatten=True):\n",
    "    x = x / 255.\n",
    "    if flatten:\n",
    "        x = x.reshape((len(x), -1))\n",
    "    return x\n",
    "\n",
    "def preproc_y(y, num_classes=10):\n",
    "    if y.shape[-1] == 1:\n",
    "        y = keras.utils.to_categorical(y, num_classes)\n",
    "    return y    "
   ]
  },
  {
   "cell_type": "code",
   "execution_count": 4,
   "metadata": {},
   "outputs": [],
   "source": [
    "x_train, y_train = train\n",
    "x_test, y_test = test\n",
    "\n",
    "# Preproc the inputs\n",
    "x_train = preproc_x(x_train)\n",
    "x_test = preproc_x(x_test)\n",
    "\n",
    "# Preprc the outputs\n",
    "y_train = preproc_y(y_train)\n",
    "y_test = preproc_y(y_test)"
   ]
  },
  {
   "cell_type": "code",
   "execution_count": 5,
   "metadata": {},
   "outputs": [],
   "source": [
    "from keras.layers import BatchNormalization\n",
    "\n",
    "def build_mlp(input_shape, output_unit=10, num=[512,256,128]):\n",
    "    \"\"\"Code Here\n",
    "    建立你的神經網路\n",
    "    \"\"\"\n",
    "    input_layer = keras.layers.Input(input_shape)\n",
    "    \n",
    "    for i, n in enumerate(num):\n",
    "        if i ==0:\n",
    "            x = keras.layers.Dense(units=n, activation='relu', name='hidden_layer'+str(i))(input_layer)\n",
    "            x = BatchNormalization()(x)\n",
    "        else:\n",
    "            x = keras.layers.Dense(units=n, activation='relu', name='hidden_layer'+str(i))(x)\n",
    "            x = BatchNormalization()(x)\n",
    "            \n",
    "    out = keras.layers.Dense(units=output_unit, activation='softmax', name='output_layer')(x)\n",
    "    \n",
    "    model = keras.models.Model(inputs=[input_layer], outputs=[out])\n",
    "    \n",
    "    return model"
   ]
  },
  {
   "cell_type": "code",
   "execution_count": 6,
   "metadata": {},
   "outputs": [],
   "source": [
    "## 超參數設定\n",
    "LEARNING_RATE = 1e-3\n",
    "EPOCHS = 50\n",
    "BATCH_SIZE = 1024\n",
    "MOMENTUM = 0.95"
   ]
  },
  {
   "cell_type": "markdown",
   "metadata": {},
   "source": [
    "### ModelCheckpoint\n",
    "- filepath: 字串，保存模型的路徑。\n",
    "- monitor: 被監測的資料。\n",
    "- verbose: 詳細資訊模式，0 或者 1 。\n",
    "- save_best_only: 如果 save_best_only=True， 被監測資料的最佳模型就不會被覆蓋。\n",
    "- save_weights_only: 如果 True，那麼只有模型的權重會被保存 (model.save_weights(filepath))， 否則的話，整個模型會被保存 (model.save(filepath))。\n",
    "- period: 每個檢查點之間的間隔（訓練輪數）。\n"
   ]
  },
  {
   "cell_type": "markdown",
   "metadata": {},
   "source": [
    "#### save_best_only=True"
   ]
  },
  {
   "cell_type": "code",
   "execution_count": 7,
   "metadata": {},
   "outputs": [],
   "source": [
    "# 載入 Callbacks\n",
    "from keras.callbacks import ModelCheckpoint\n",
    "\"\"\"Code Here\n",
    "設定 callbacks: model checkpoint\n",
    "\"\"\"\n",
    "\n",
    "results = {}\n",
    "\"\"\"Code Here\n",
    "撰寫你的訓練流程並將結果用 dictionary 紀錄\n",
    "\"\"\"\n",
    "model_ckpt = ModelCheckpoint(filepath=\"./tmp.h5\", \n",
    "                             monitor=\"val_loss\", \n",
    "                             save_best_only=True)"
   ]
  },
  {
   "cell_type": "code",
   "execution_count": 8,
   "metadata": {},
   "outputs": [
    {
     "name": "stdout",
     "output_type": "stream",
     "text": [
      "_________________________________________________________________\n",
      "Layer (type)                 Output Shape              Param #   \n",
      "=================================================================\n",
      "input_1 (InputLayer)         (None, 3072)              0         \n",
      "_________________________________________________________________\n",
      "hidden_layer0 (Dense)        (None, 512)               1573376   \n",
      "_________________________________________________________________\n",
      "batch_normalization_1 (Batch (None, 512)               2048      \n",
      "_________________________________________________________________\n",
      "hidden_layer1 (Dense)        (None, 256)               131328    \n",
      "_________________________________________________________________\n",
      "batch_normalization_2 (Batch (None, 256)               1024      \n",
      "_________________________________________________________________\n",
      "hidden_layer2 (Dense)        (None, 128)               32896     \n",
      "_________________________________________________________________\n",
      "batch_normalization_3 (Batch (None, 128)               512       \n",
      "_________________________________________________________________\n",
      "output_layer (Dense)         (None, 10)                1290      \n",
      "=================================================================\n",
      "Total params: 1,742,474\n",
      "Trainable params: 1,740,682\n",
      "Non-trainable params: 1,792\n",
      "_________________________________________________________________\n",
      "Train on 50000 samples, validate on 10000 samples\n",
      "Epoch 1/50\n",
      "50000/50000 [==============================] - 12s 234us/step - loss: 2.1781 - acc: 0.2784 - val_loss: 2.0210 - val_acc: 0.3387\n",
      "Epoch 2/50\n",
      "50000/50000 [==============================] - 5s 101us/step - loss: 1.7312 - acc: 0.3931 - val_loss: 1.7942 - val_acc: 0.3923\n",
      "Epoch 3/50\n",
      "50000/50000 [==============================] - 5s 102us/step - loss: 1.6180 - acc: 0.4306 - val_loss: 1.7015 - val_acc: 0.4132\n",
      "Epoch 4/50\n",
      "50000/50000 [==============================] - 5s 101us/step - loss: 1.5507 - acc: 0.4545 - val_loss: 1.6353 - val_acc: 0.4293\n",
      "Epoch 5/50\n",
      "50000/50000 [==============================] - 5s 102us/step - loss: 1.4949 - acc: 0.4751 - val_loss: 1.6077 - val_acc: 0.4407\n",
      "Epoch 6/50\n",
      "50000/50000 [==============================] - 5s 102us/step - loss: 1.4496 - acc: 0.4917 - val_loss: 1.5751 - val_acc: 0.4503\n",
      "Epoch 7/50\n",
      "50000/50000 [==============================] - 5s 101us/step - loss: 1.4106 - acc: 0.5063 - val_loss: 1.5570 - val_acc: 0.4512\n",
      "Epoch 8/50\n",
      "50000/50000 [==============================] - 5s 100us/step - loss: 1.3758 - acc: 0.5189 - val_loss: 1.5580 - val_acc: 0.4524\n",
      "Epoch 9/50\n",
      "50000/50000 [==============================] - 5s 102us/step - loss: 1.3428 - acc: 0.5314 - val_loss: 1.5392 - val_acc: 0.4561\n",
      "Epoch 10/50\n",
      "50000/50000 [==============================] - 5s 103us/step - loss: 1.3131 - acc: 0.5416 - val_loss: 1.5143 - val_acc: 0.4653\n",
      "Epoch 11/50\n",
      "50000/50000 [==============================] - 5s 101us/step - loss: 1.2831 - acc: 0.5524 - val_loss: 1.5088 - val_acc: 0.4666\n",
      "Epoch 12/50\n",
      "50000/50000 [==============================] - 5s 101us/step - loss: 1.2562 - acc: 0.5637 - val_loss: 1.5165 - val_acc: 0.4630 2s - l\n",
      "Epoch 13/50\n",
      "50000/50000 [==============================] - 5s 102us/step - loss: 1.2318 - acc: 0.5743 - val_loss: 1.4953 - val_acc: 0.4703\n",
      "Epoch 14/50\n",
      "50000/50000 [==============================] - 5s 101us/step - loss: 1.2047 - acc: 0.5848 - val_loss: 1.4878 - val_acc: 0.4786\n",
      "Epoch 15/50\n",
      "50000/50000 [==============================] - 5s 102us/step - loss: 1.1814 - acc: 0.5917 - val_loss: 1.4849 - val_acc: 0.4768\n",
      "Epoch 16/50\n",
      "50000/50000 [==============================] - 5s 101us/step - loss: 1.1564 - acc: 0.6024 - val_loss: 1.4804 - val_acc: 0.4761\n",
      "Epoch 17/50\n",
      "50000/50000 [==============================] - 6s 113us/step - loss: 1.1331 - acc: 0.6117 - val_loss: 1.4779 - val_acc: 0.4821\n",
      "Epoch 18/50\n",
      "50000/50000 [==============================] - 5s 102us/step - loss: 1.1097 - acc: 0.6210 - val_loss: 1.4773 - val_acc: 0.4834\n",
      "Epoch 19/50\n",
      "50000/50000 [==============================] - 5s 102us/step - loss: 1.0873 - acc: 0.6282 - val_loss: 1.4817 - val_acc: 0.4810\n",
      "Epoch 20/50\n",
      "50000/50000 [==============================] - 5s 102us/step - loss: 1.0639 - acc: 0.6385 - val_loss: 1.4701 - val_acc: 0.4850\n",
      "Epoch 21/50\n",
      "50000/50000 [==============================] - 5s 105us/step - loss: 1.0425 - acc: 0.6447 - val_loss: 1.4878 - val_acc: 0.4854\n",
      "Epoch 22/50\n",
      "50000/50000 [==============================] - 6s 115us/step - loss: 1.0211 - acc: 0.6551 - val_loss: 1.4766 - val_acc: 0.4843\n",
      "Epoch 23/50\n",
      "50000/50000 [==============================] - 6s 113us/step - loss: 0.9976 - acc: 0.6634 - val_loss: 1.4899 - val_acc: 0.4835\n",
      "Epoch 24/50\n",
      "50000/50000 [==============================] - 6s 112us/step - loss: 0.9785 - acc: 0.6693 - val_loss: 1.4799 - val_acc: 0.4885\n",
      "Epoch 25/50\n",
      "50000/50000 [==============================] - 5s 104us/step - loss: 0.9575 - acc: 0.6782 - val_loss: 1.4921 - val_acc: 0.4836\n",
      "Epoch 26/50\n",
      "50000/50000 [==============================] - 5s 102us/step - loss: 0.9359 - acc: 0.6858 - val_loss: 1.4888 - val_acc: 0.4874\n",
      "Epoch 27/50\n",
      "50000/50000 [==============================] - 5s 102us/step - loss: 0.9132 - acc: 0.6950 - val_loss: 1.4834 - val_acc: 0.4912\n",
      "Epoch 28/50\n",
      "50000/50000 [==============================] - 5s 105us/step - loss: 0.8951 - acc: 0.7031 - val_loss: 1.5099 - val_acc: 0.4803\n",
      "Epoch 29/50\n",
      "50000/50000 [==============================] - 5s 105us/step - loss: 0.8745 - acc: 0.7089 - val_loss: 1.5171 - val_acc: 0.4864\n",
      "Epoch 30/50\n",
      "50000/50000 [==============================] - 5s 104us/step - loss: 0.8544 - acc: 0.7187 - val_loss: 1.5164 - val_acc: 0.4867\n",
      "Epoch 31/50\n",
      "50000/50000 [==============================] - 5s 102us/step - loss: 0.8338 - acc: 0.7264 - val_loss: 1.5171 - val_acc: 0.4870\n",
      "Epoch 32/50\n",
      "50000/50000 [==============================] - 5s 102us/step - loss: 0.8137 - acc: 0.7350 - val_loss: 1.5156 - val_acc: 0.4860\n",
      "Epoch 33/50\n",
      "50000/50000 [==============================] - 5s 102us/step - loss: 0.7929 - acc: 0.7434 - val_loss: 1.5373 - val_acc: 0.4829\n",
      "Epoch 34/50\n",
      "50000/50000 [==============================] - 5s 102us/step - loss: 0.7743 - acc: 0.7499 - val_loss: 1.5351 - val_acc: 0.4894\n",
      "Epoch 35/50\n",
      "50000/50000 [==============================] - 5s 102us/step - loss: 0.7544 - acc: 0.7576 - val_loss: 1.5445 - val_acc: 0.4878\n",
      "Epoch 36/50\n",
      "50000/50000 [==============================] - 5s 102us/step - loss: 0.7330 - acc: 0.7679 - val_loss: 1.5440 - val_acc: 0.4888\n",
      "Epoch 37/50\n",
      "50000/50000 [==============================] - 5s 102us/step - loss: 0.7153 - acc: 0.7737 - val_loss: 1.5608 - val_acc: 0.4906\n",
      "Epoch 38/50\n",
      "50000/50000 [==============================] - 5s 104us/step - loss: 0.6960 - acc: 0.7816 - val_loss: 1.5851 - val_acc: 0.4820\n",
      "Epoch 39/50\n",
      "50000/50000 [==============================] - 5s 102us/step - loss: 0.6777 - acc: 0.7887 - val_loss: 1.5786 - val_acc: 0.4925\n",
      "Epoch 40/50\n",
      "50000/50000 [==============================] - 5s 103us/step - loss: 0.6607 - acc: 0.7937 - val_loss: 1.5790 - val_acc: 0.4884\n",
      "Epoch 41/50\n",
      "50000/50000 [==============================] - 5s 103us/step - loss: 0.6403 - acc: 0.8035 - val_loss: 1.5906 - val_acc: 0.4875\n",
      "Epoch 42/50\n",
      "50000/50000 [==============================] - 5s 103us/step - loss: 0.6226 - acc: 0.8106 - val_loss: 1.6084 - val_acc: 0.4823\n",
      "Epoch 43/50\n",
      "50000/50000 [==============================] - 5s 102us/step - loss: 0.6055 - acc: 0.8165 - val_loss: 1.6212 - val_acc: 0.4807\n",
      "Epoch 44/50\n",
      "50000/50000 [==============================] - 5s 104us/step - loss: 0.5874 - acc: 0.8246 - val_loss: 1.6210 - val_acc: 0.4849oss: 0.5837 - acc: 0 - ETA: 0s - loss: 0.5853 - acc: 0.\n",
      "Epoch 45/50\n",
      "50000/50000 [==============================] - 5s 103us/step - loss: 0.5678 - acc: 0.8320 - val_loss: 1.6329 - val_acc: 0.4905\n",
      "Epoch 46/50\n",
      "50000/50000 [==============================] - 5s 103us/step - loss: 0.5516 - acc: 0.8388 - val_loss: 1.6714 - val_acc: 0.4837\n",
      "Epoch 47/50\n",
      "50000/50000 [==============================] - 5s 104us/step - loss: 0.5371 - acc: 0.8434 - val_loss: 1.6635 - val_acc: 0.4798\n",
      "Epoch 48/50\n",
      "50000/50000 [==============================] - 5s 106us/step - loss: 0.5203 - acc: 0.8510 - val_loss: 1.6874 - val_acc: 0.4827\n",
      "Epoch 49/50\n"
     ]
    },
    {
     "name": "stdout",
     "output_type": "stream",
     "text": [
      "50000/50000 [==============================] - 5s 103us/step - loss: 0.5023 - acc: 0.8598 - val_loss: 1.6949 - val_acc: 0.4866\n",
      "Epoch 50/50\n",
      "50000/50000 [==============================] - 5s 102us/step - loss: 0.4872 - acc: 0.8647 - val_loss: 1.7082 - val_acc: 0.4822\n",
      "10000/10000 [==============================] - 2s 189us/step\n"
     ]
    }
   ],
   "source": [
    "model = build_mlp(input_shape=x_train.shape[1:])\n",
    "model.summary()\n",
    "optimizer = keras.optimizers.SGD(lr=LEARNING_RATE, nesterov=True, momentum=MOMENTUM)\n",
    "model.compile(loss=\"categorical_crossentropy\", metrics=[\"accuracy\"], optimizer=optimizer)\n",
    "\n",
    "model.fit(x_train, y_train, \n",
    "          epochs=EPOCHS, \n",
    "          batch_size=BATCH_SIZE, \n",
    "          validation_data=(x_test, y_test), \n",
    "          shuffle=True,\n",
    "          callbacks=[model_ckpt]\n",
    "         )\n",
    "\n",
    "# Collect results\n",
    "train_loss = model.history.history[\"loss\"]\n",
    "valid_loss = model.history.history[\"val_loss\"]\n",
    "train_acc = model.history.history[\"acc\"]\n",
    "valid_acc = model.history.history[\"val_acc\"]\n",
    "\n",
    "# Load back\n",
    "model = keras.models.load_model(\"./tmp.h5\")\n",
    "loss_loadback, acc_loadback = model.evaluate(x_test, y_test)"
   ]
  },
  {
   "cell_type": "code",
   "execution_count": 9,
   "metadata": {
    "scrolled": true
   },
   "outputs": [
    {
     "data": {
      "image/png": "[encoded data removed]",
      "text/plain": [
       "<Figure size 432x288 with 1 Axes>"
      ]
     },
     "metadata": {
      "needs_background": "light"
     },
     "output_type": "display_data"
    },
    {
     "data": {
      "image/png": "[encoded data removed]",
      "text/plain": [
       "<Figure size 432x288 with 1 Axes>"
      ]
     },
     "metadata": {
      "needs_background": "light"
     },
     "output_type": "display_data"
    }
   ],
   "source": [
    "import matplotlib.pyplot as plt\n",
    "%matplotlib inline\n",
    "\"\"\"Code Here\n",
    "將結果繪出\n",
    "\"\"\"\n",
    "plt.plot(range(len(train_loss)), train_loss, label=\"train loss\")\n",
    "plt.plot(range(len(valid_loss)), valid_loss, label=\"valid loss\")\n",
    "plt.hlines(y=loss_loadback, xmin=0, xmax=len(train_loss), colors='r', linestyles='--')\n",
    "plt.legend()\n",
    "plt.title(\"Loss\")\n",
    "plt.show()\n",
    "\n",
    "plt.plot(range(len(train_acc)), train_acc, label=\"train accuracy\")\n",
    "plt.plot(range(len(valid_acc)), valid_acc, label=\"valid accuracy\")\n",
    "plt.hlines(y=acc_loadback, xmin=0, xmax=len(train_loss), colors='r', linestyles='--')\n",
    "plt.legend()\n",
    "plt.title(\"Accuracy\")\n",
    "plt.show()"
   ]
  },
  {
   "cell_type": "markdown",
   "metadata": {},
   "source": [
    "#### save_best_only=False"
   ]
  },
  {
   "cell_type": "code",
   "execution_count": 10,
   "metadata": {},
   "outputs": [
    {
     "name": "stdout",
     "output_type": "stream",
     "text": [
      "Train on 50000 samples, validate on 10000 samples\n",
      "Epoch 1/50\n",
      "50000/50000 [==============================] - 6s 128us/step - loss: 1.0428 - acc: 0.6467 - val_loss: 1.5010 - val_acc: 0.4827\n",
      "Epoch 2/50\n",
      "50000/50000 [==============================] - 5s 102us/step - loss: 1.0222 - acc: 0.6544 - val_loss: 1.4761 - val_acc: 0.4915\n",
      "Epoch 3/50\n",
      "50000/50000 [==============================] - 5s 103us/step - loss: 1.0002 - acc: 0.6609 - val_loss: 1.4908 - val_acc: 0.4839\n",
      "Epoch 4/50\n",
      "50000/50000 [==============================] - 5s 106us/step - loss: 0.9777 - acc: 0.6684 - val_loss: 1.4858 - val_acc: 0.4864\n",
      "Epoch 5/50\n",
      "50000/50000 [==============================] - 5s 109us/step - loss: 0.9558 - acc: 0.6797 - val_loss: 1.4893 - val_acc: 0.4851\n",
      "Epoch 6/50\n",
      "50000/50000 [==============================] - 6s 122us/step - loss: 0.9349 - acc: 0.6872 - val_loss: 1.4881 - val_acc: 0.4873\n",
      "Epoch 7/50\n",
      "50000/50000 [==============================] - 6s 118us/step - loss: 0.9146 - acc: 0.6945 - val_loss: 1.4884 - val_acc: 0.4893\n",
      "Epoch 8/50\n",
      "50000/50000 [==============================] - 6s 120us/step - loss: 0.8950 - acc: 0.7034 - val_loss: 1.5044 - val_acc: 0.4911\n",
      "Epoch 9/50\n",
      "50000/50000 [==============================] - 6s 120us/step - loss: 0.8768 - acc: 0.7090 - val_loss: 1.5053 - val_acc: 0.4892\n",
      "Epoch 10/50\n",
      "50000/50000 [==============================] - 7s 131us/step - loss: 0.8552 - acc: 0.7189 - val_loss: 1.5117 - val_acc: 0.4879\n",
      "Epoch 11/50\n",
      "50000/50000 [==============================] - 6s 123us/step - loss: 0.8335 - acc: 0.7260 - val_loss: 1.5276 - val_acc: 0.4806\n",
      "Epoch 12/50\n",
      "50000/50000 [==============================] - 7s 134us/step - loss: 0.8153 - acc: 0.7336 - val_loss: 1.5204 - val_acc: 0.4866\n",
      "Epoch 13/50\n",
      "50000/50000 [==============================] - 6s 115us/step - loss: 0.7939 - acc: 0.7415 - val_loss: 1.5370 - val_acc: 0.4900\n",
      "Epoch 14/50\n",
      "50000/50000 [==============================] - 5s 105us/step - loss: 0.7744 - acc: 0.7504 - val_loss: 1.5361 - val_acc: 0.4879\n",
      "Epoch 15/50\n",
      "50000/50000 [==============================] - 5s 107us/step - loss: 0.7548 - acc: 0.7571 - val_loss: 1.5471 - val_acc: 0.4859\n",
      "Epoch 16/50\n",
      "50000/50000 [==============================] - 6s 122us/step - loss: 0.7366 - acc: 0.7635 - val_loss: 1.5441 - val_acc: 0.4887\n",
      "Epoch 17/50\n",
      "50000/50000 [==============================] - 6s 118us/step - loss: 0.7168 - acc: 0.7724 - val_loss: 1.5572 - val_acc: 0.4811\n",
      "Epoch 18/50\n",
      "50000/50000 [==============================] - 6s 115us/step - loss: 0.6987 - acc: 0.7805 - val_loss: 1.5883 - val_acc: 0.4825\n",
      "Epoch 19/50\n",
      "50000/50000 [==============================] - 6s 112us/step - loss: 0.6789 - acc: 0.7878 - val_loss: 1.5746 - val_acc: 0.4856\n",
      "Epoch 20/50\n",
      "50000/50000 [==============================] - 5s 106us/step - loss: 0.6610 - acc: 0.7945 - val_loss: 1.5913 - val_acc: 0.4830\n",
      "Epoch 21/50\n",
      "50000/50000 [==============================] - 6s 119us/step - loss: 0.6425 - acc: 0.8013 - val_loss: 1.6081 - val_acc: 0.4795\n",
      "Epoch 22/50\n",
      "50000/50000 [==============================] - 6s 126us/step - loss: 0.6230 - acc: 0.8100 - val_loss: 1.6100 - val_acc: 0.4867\n",
      "Epoch 23/50\n",
      "50000/50000 [==============================] - 6s 120us/step - loss: 0.6048 - acc: 0.8183 - val_loss: 1.6241 - val_acc: 0.4879\n",
      "Epoch 24/50\n",
      "50000/50000 [==============================] - 6s 111us/step - loss: 0.5877 - acc: 0.8233 - val_loss: 1.6191 - val_acc: 0.4836\n",
      "Epoch 25/50\n",
      "50000/50000 [==============================] - 6s 116us/step - loss: 0.5695 - acc: 0.8305 - val_loss: 1.6318 - val_acc: 0.4829\n",
      "Epoch 26/50\n",
      "50000/50000 [==============================] - 6s 110us/step - loss: 0.5526 - acc: 0.8379 - val_loss: 1.6596 - val_acc: 0.4787\n",
      "Epoch 27/50\n",
      "50000/50000 [==============================] - 6s 116us/step - loss: 0.5342 - acc: 0.8467 - val_loss: 1.6550 - val_acc: 0.4916\n",
      "Epoch 28/50\n",
      "50000/50000 [==============================] - 6s 111us/step - loss: 0.5189 - acc: 0.8506 - val_loss: 1.6983 - val_acc: 0.4782\n",
      "Epoch 29/50\n",
      "50000/50000 [==============================] - 6s 112us/step - loss: 0.5021 - acc: 0.8587 - val_loss: 1.6964 - val_acc: 0.4761\n",
      "Epoch 30/50\n",
      "50000/50000 [==============================] - 6s 116us/step - loss: 0.4850 - acc: 0.8654 - val_loss: 1.6999 - val_acc: 0.4859\n",
      "Epoch 31/50\n",
      "50000/50000 [==============================] - 6s 114us/step - loss: 0.4699 - acc: 0.8709 - val_loss: 1.7230 - val_acc: 0.4781\n",
      "Epoch 32/50\n",
      "50000/50000 [==============================] - 5s 110us/step - loss: 0.4548 - acc: 0.8757 - val_loss: 1.7272 - val_acc: 0.4859\n",
      "Epoch 33/50\n",
      "50000/50000 [==============================] - 6s 117us/step - loss: 0.4385 - acc: 0.8832 - val_loss: 1.7505 - val_acc: 0.4800\n",
      "Epoch 34/50\n",
      "50000/50000 [==============================] - 6s 119us/step - loss: 0.4228 - acc: 0.8906 - val_loss: 1.7820 - val_acc: 0.4816\n",
      "Epoch 35/50\n",
      "50000/50000 [==============================] - 6s 120us/step - loss: 0.4091 - acc: 0.8941 - val_loss: 1.7652 - val_acc: 0.4779\n",
      "Epoch 36/50\n",
      "50000/50000 [==============================] - 6s 119us/step - loss: 0.3943 - acc: 0.9010 - val_loss: 1.7854 - val_acc: 0.4859\n",
      "Epoch 37/50\n",
      "50000/50000 [==============================] - 6s 121us/step - loss: 0.3805 - acc: 0.9051 - val_loss: 1.7931 - val_acc: 0.4866\n",
      "Epoch 38/50\n",
      "50000/50000 [==============================] - 6s 121us/step - loss: 0.3635 - acc: 0.9125 - val_loss: 1.8238 - val_acc: 0.4758\n",
      "Epoch 39/50\n",
      "50000/50000 [==============================] - 6s 122us/step - loss: 0.3521 - acc: 0.9158 - val_loss: 1.8302 - val_acc: 0.4843\n",
      "Epoch 40/50\n",
      "50000/50000 [==============================] - 6s 118us/step - loss: 0.3369 - acc: 0.9220 - val_loss: 1.8480 - val_acc: 0.4801\n",
      "Epoch 41/50\n",
      "50000/50000 [==============================] - 6s 120us/step - loss: 0.3258 - acc: 0.9257 - val_loss: 1.9093 - val_acc: 0.4722\n",
      "Epoch 42/50\n",
      "50000/50000 [==============================] - 6s 120us/step - loss: 0.3120 - acc: 0.9312 - val_loss: 1.8883 - val_acc: 0.4797\n",
      "Epoch 43/50\n",
      "50000/50000 [==============================] - 6s 119us/step - loss: 0.3010 - acc: 0.9359 - val_loss: 1.8979 - val_acc: 0.4801\n",
      "Epoch 44/50\n",
      "50000/50000 [==============================] - 6s 118us/step - loss: 0.2896 - acc: 0.9378 - val_loss: 1.9463 - val_acc: 0.4662\n",
      "Epoch 45/50\n",
      "50000/50000 [==============================] - 6s 116us/step - loss: 0.2764 - acc: 0.9438 - val_loss: 1.9413 - val_acc: 0.4767\n",
      "Epoch 46/50\n",
      "50000/50000 [==============================] - 6s 118us/step - loss: 0.2670 - acc: 0.9469 - val_loss: 1.9718 - val_acc: 0.4716\n",
      "Epoch 47/50\n",
      "50000/50000 [==============================] - 6s 117us/step - loss: 0.2554 - acc: 0.9497 - val_loss: 1.9839 - val_acc: 0.4754\n",
      "Epoch 48/50\n",
      "50000/50000 [==============================] - 6s 119us/step - loss: 0.2474 - acc: 0.9529 - val_loss: 2.0064 - val_acc: 0.4707\n",
      "Epoch 49/50\n",
      "50000/50000 [==============================] - 8s 159us/step - loss: 0.2358 - acc: 0.9574 - val_loss: 1.9989 - val_acc: 0.4755\n",
      "Epoch 50/50\n",
      "50000/50000 [==============================] - 8s 151us/step - loss: 0.2247 - acc: 0.9603 - val_loss: 2.0580 - val_acc: 0.4683\n"
     ]
    }
   ],
   "source": [
    "model_ckpt = ModelCheckpoint(filepath=\"./tmp.h5\", \n",
    "                             monitor=\"val_loss\", \n",
    "                             save_best_only=False)\n",
    "model.fit(x_train, y_train, \n",
    "          epochs=EPOCHS, \n",
    "          batch_size=BATCH_SIZE, \n",
    "          validation_data=(x_test, y_test), \n",
    "          shuffle=True,\n",
    "          callbacks=[model_ckpt]\n",
    "         )\n",
    "\n",
    "# Collect results\n",
    "train_loss = model.history.history[\"loss\"]\n",
    "valid_loss = model.history.history[\"val_loss\"]\n",
    "train_acc = model.history.history[\"acc\"]\n",
    "valid_acc = model.history.history[\"val_acc\"]"
   ]
  },
  {
   "cell_type": "code",
   "execution_count": 11,
   "metadata": {},
   "outputs": [
    {
     "data": {
      "image/png": "[encoded data removed]",
      "text/plain": [
       "<Figure size 432x288 with 1 Axes>"
      ]
     },
     "metadata": {
      "needs_background": "light"
     },
     "output_type": "display_data"
    },
    {
     "data": {
      "image/png": "[encoded data removed]",
      "text/plain": [
       "<Figure size 432x288 with 1 Axes>"
      ]
     },
     "metadata": {
      "needs_background": "light"
     },
     "output_type": "display_data"
    }
   ],
   "source": [
    "plt.plot(range(len(train_loss)), train_loss, label=\"train loss\")\n",
    "plt.plot(range(len(valid_loss)), valid_loss, label=\"valid loss\")\n",
    "plt.hlines(y=loss_loadback, xmin=0, xmax=len(train_loss), colors='r', linestyles='--')\n",
    "plt.legend()\n",
    "plt.title(\"Loss\")\n",
    "plt.show()\n",
    "\n",
    "plt.plot(range(len(train_acc)), train_acc, label=\"train accuracy\")\n",
    "plt.plot(range(len(valid_acc)), valid_acc, label=\"valid accuracy\")\n",
    "plt.hlines(y=acc_loadback, xmin=0, xmax=len(train_loss), colors='r', linestyles='--')\n",
    "plt.legend()\n",
    "plt.title(\"Accuracy\")\n",
    "plt.show()"
   ]
  },
  {
   "cell_type": "markdown",
   "metadata": {},
   "source": [
    "#### save_weights_only=True"
   ]
  },
  {
   "cell_type": "code",
   "execution_count": 15,
   "metadata": {},
   "outputs": [
    {
     "name": "stdout",
     "output_type": "stream",
     "text": [
      "Train on 50000 samples, validate on 10000 samples\n",
      "Epoch 1/50\n",
      "50000/50000 [==============================] - 6s 118us/step - loss: 0.0326 - acc: 0.9995 - val_loss: 2.7107 - val_acc: 0.4709\n",
      "Epoch 2/50\n",
      "50000/50000 [==============================] - 6s 116us/step - loss: 0.0311 - acc: 0.9997 - val_loss: 2.7234 - val_acc: 0.4692\n",
      "Epoch 3/50\n",
      "50000/50000 [==============================] - 6s 112us/step - loss: 0.0307 - acc: 0.9997 - val_loss: 2.7681 - val_acc: 0.4696\n",
      "Epoch 4/50\n",
      "50000/50000 [==============================] - 6s 120us/step - loss: 0.0293 - acc: 0.9998 - val_loss: 2.7515 - val_acc: 0.4744\n",
      "Epoch 5/50\n",
      "50000/50000 [==============================] - 6s 129us/step - loss: 0.0287 - acc: 0.9998 - val_loss: 2.7640 - val_acc: 0.4674\n",
      "Epoch 6/50\n",
      "50000/50000 [==============================] - 6s 120us/step - loss: 0.0282 - acc: 0.9998 - val_loss: 2.7575 - val_acc: 0.4697\n",
      "Epoch 7/50\n",
      "50000/50000 [==============================] - 6s 112us/step - loss: 0.0272 - acc: 0.9999 - val_loss: 2.7759 - val_acc: 0.4714\n",
      "Epoch 8/50\n",
      "50000/50000 [==============================] - 6s 115us/step - loss: 0.0266 - acc: 0.9998 - val_loss: 2.8084 - val_acc: 0.4708\n",
      "Epoch 9/50\n",
      "50000/50000 [==============================] - 6s 112us/step - loss: 0.0259 - acc: 0.9998 - val_loss: 2.7837 - val_acc: 0.4717\n",
      "Epoch 10/50\n",
      "50000/50000 [==============================] - 6s 114us/step - loss: 0.0255 - acc: 0.9998 - val_loss: 2.8143 - val_acc: 0.4690\n",
      "Epoch 11/50\n",
      "50000/50000 [==============================] - 6s 115us/step - loss: 0.0249 - acc: 0.9999 - val_loss: 2.7895 - val_acc: 0.4700\n",
      "Epoch 12/50\n",
      "50000/50000 [==============================] - 6s 114us/step - loss: 0.0242 - acc: 0.9999 - val_loss: 2.8163 - val_acc: 0.4705\n",
      "Epoch 13/50\n",
      "50000/50000 [==============================] - 6s 117us/step - loss: 0.0239 - acc: 0.9999 - val_loss: 2.8183 - val_acc: 0.4710\n",
      "Epoch 14/50\n",
      "50000/50000 [==============================] - 5s 110us/step - loss: 0.0233 - acc: 0.9999 - val_loss: 2.8288 - val_acc: 0.4716\n",
      "Epoch 15/50\n",
      "50000/50000 [==============================] - 6s 112us/step - loss: 0.0232 - acc: 0.9999 - val_loss: 2.8605 - val_acc: 0.4729\n",
      "Epoch 16/50\n",
      "50000/50000 [==============================] - 6s 116us/step - loss: 0.0227 - acc: 0.9999 - val_loss: 2.8525 - val_acc: 0.4713\n",
      "Epoch 17/50\n",
      "50000/50000 [==============================] - 6s 117us/step - loss: 0.0221 - acc: 0.9999 - val_loss: 2.8424 - val_acc: 0.4745\n",
      "Epoch 18/50\n",
      "50000/50000 [==============================] - 6s 127us/step - loss: 0.0214 - acc: 0.9999 - val_loss: 2.8471 - val_acc: 0.4720\n",
      "Epoch 19/50\n",
      "50000/50000 [==============================] - 7s 137us/step - loss: 0.0206 - acc: 0.9999 - val_loss: 2.8672 - val_acc: 0.4770\n",
      "Epoch 20/50\n",
      "50000/50000 [==============================] - 7s 130us/step - loss: 0.0204 - acc: 1.0000 - val_loss: 2.8850 - val_acc: 0.4724\n",
      "Epoch 21/50\n",
      "50000/50000 [==============================] - 6s 120us/step - loss: 0.0204 - acc: 0.9999 - val_loss: 2.8719 - val_acc: 0.4714\n",
      "Epoch 22/50\n",
      "50000/50000 [==============================] - 6s 122us/step - loss: 0.0198 - acc: 0.9999 - val_loss: 2.8996 - val_acc: 0.4724\n",
      "Epoch 23/50\n",
      "50000/50000 [==============================] - 6s 126us/step - loss: 0.0192 - acc: 1.0000 - val_loss: 2.8865 - val_acc: 0.4695\n",
      "Epoch 24/50\n",
      "50000/50000 [==============================] - 6s 126us/step - loss: 0.0187 - acc: 0.9999 - val_loss: 2.8947 - val_acc: 0.4709\n",
      "Epoch 25/50\n",
      "50000/50000 [==============================] - 6s 122us/step - loss: 0.0186 - acc: 0.9999 - val_loss: 2.9141 - val_acc: 0.4708\n",
      "Epoch 26/50\n",
      "50000/50000 [==============================] - 6s 117us/step - loss: 0.0182 - acc: 1.0000 - val_loss: 2.9028 - val_acc: 0.4694\n",
      "Epoch 27/50\n",
      "50000/50000 [==============================] - 6s 121us/step - loss: 0.0176 - acc: 1.0000 - val_loss: 2.9119 - val_acc: 0.4741\n",
      "Epoch 28/50\n",
      "50000/50000 [==============================] - 7s 135us/step - loss: 0.0176 - acc: 1.0000 - val_loss: 2.9199 - val_acc: 0.4692\n",
      "Epoch 29/50\n",
      "50000/50000 [==============================] - 6s 125us/step - loss: 0.0170 - acc: 0.9999 - val_loss: 2.9157 - val_acc: 0.4727\n",
      "Epoch 30/50\n",
      "50000/50000 [==============================] - 6s 124us/step - loss: 0.0170 - acc: 0.9999 - val_loss: 2.9219 - val_acc: 0.4748\n",
      "Epoch 31/50\n",
      "50000/50000 [==============================] - 6s 126us/step - loss: 0.0167 - acc: 0.9999 - val_loss: 2.9511 - val_acc: 0.4705\n",
      "Epoch 32/50\n",
      "50000/50000 [==============================] - 6s 123us/step - loss: 0.0163 - acc: 1.0000 - val_loss: 2.9480 - val_acc: 0.4709\n",
      "Epoch 33/50\n",
      "50000/50000 [==============================] - 6s 122us/step - loss: 0.0158 - acc: 1.0000 - val_loss: 2.9491 - val_acc: 0.4710\n",
      "Epoch 34/50\n",
      "50000/50000 [==============================] - 6s 124us/step - loss: 0.0157 - acc: 1.0000 - val_loss: 2.9690 - val_acc: 0.4705\n",
      "Epoch 35/50\n",
      "50000/50000 [==============================] - 6s 128us/step - loss: 0.0153 - acc: 0.9999 - val_loss: 2.9541 - val_acc: 0.4703\n",
      "Epoch 36/50\n",
      "50000/50000 [==============================] - 6s 125us/step - loss: 0.0153 - acc: 1.0000 - val_loss: 2.9733 - val_acc: 0.4711\n",
      "Epoch 37/50\n",
      "50000/50000 [==============================] - 6s 124us/step - loss: 0.0147 - acc: 1.0000 - val_loss: 2.9736 - val_acc: 0.4754\n",
      "Epoch 38/50\n",
      "50000/50000 [==============================] - 6s 124us/step - loss: 0.0145 - acc: 1.0000 - val_loss: 2.9734 - val_acc: 0.4715\n",
      "Epoch 39/50\n",
      "50000/50000 [==============================] - 6s 124us/step - loss: 0.0148 - acc: 1.0000 - val_loss: 2.9742 - val_acc: 0.4698\n",
      "Epoch 40/50\n",
      "50000/50000 [==============================] - 6s 120us/step - loss: 0.0143 - acc: 1.0000 - val_loss: 2.9984 - val_acc: 0.4720\n",
      "Epoch 41/50\n",
      "50000/50000 [==============================] - 6s 124us/step - loss: 0.0138 - acc: 1.0000 - val_loss: 3.0104 - val_acc: 0.4691\n",
      "Epoch 42/50\n",
      "50000/50000 [==============================] - 7s 134us/step - loss: 0.0138 - acc: 1.0000 - val_loss: 3.0008 - val_acc: 0.4706\n",
      "Epoch 43/50\n",
      "50000/50000 [==============================] - 6s 129us/step - loss: 0.0136 - acc: 1.0000 - val_loss: 3.0009 - val_acc: 0.4664\n",
      "Epoch 44/50\n",
      "50000/50000 [==============================] - 6s 125us/step - loss: 0.0135 - acc: 1.0000 - val_loss: 3.0023 - val_acc: 0.4701\n",
      "Epoch 45/50\n",
      "50000/50000 [==============================] - 6s 127us/step - loss: 0.0129 - acc: 1.0000 - val_loss: 3.0212 - val_acc: 0.4691\n",
      "Epoch 46/50\n",
      "50000/50000 [==============================] - 6s 127us/step - loss: 0.0128 - acc: 1.0000 - val_loss: 3.0235 - val_acc: 0.4697\n",
      "Epoch 47/50\n",
      "50000/50000 [==============================] - 6s 126us/step - loss: 0.0126 - acc: 1.0000 - val_loss: 3.0225 - val_acc: 0.4687\n",
      "Epoch 48/50\n",
      "50000/50000 [==============================] - 6s 130us/step - loss: 0.0126 - acc: 1.0000 - val_loss: 3.0405 - val_acc: 0.4684\n",
      "Epoch 49/50\n",
      "50000/50000 [==============================] - 6s 124us/step - loss: 0.0123 - acc: 1.0000 - val_loss: 3.0369 - val_acc: 0.4694\n",
      "Epoch 50/50\n",
      "50000/50000 [==============================] - 7s 147us/step - loss: 0.0122 - acc: 1.0000 - val_loss: 3.0530 - val_acc: 0.4667\n"
     ]
    },
    {
     "ename": "RuntimeError",
     "evalue": "You must compile a model before training/testing. Use `model.compile(optimizer, loss)`.",
     "output_type": "error",
     "traceback": [
      "\u001b[1;31m---------------------------------------------------------------------------\u001b[0m",
      "\u001b[1;31mRuntimeError\u001b[0m                              Traceback (most recent call last)",
      "\u001b[1;32m<ipython-input-15-a9f7a8890ec2>\u001b[0m in \u001b[0;36m<module>\u001b[1;34m\u001b[0m\n\u001b[0;32m     19\u001b[0m \u001b[0mmodel\u001b[0m \u001b[1;33m=\u001b[0m \u001b[0mbuild_mlp\u001b[0m\u001b[1;33m(\u001b[0m\u001b[0minput_shape\u001b[0m\u001b[1;33m=\u001b[0m\u001b[0mx_train\u001b[0m\u001b[1;33m.\u001b[0m\u001b[0mshape\u001b[0m\u001b[1;33m[\u001b[0m\u001b[1;36m1\u001b[0m\u001b[1;33m:\u001b[0m\u001b[1;33m]\u001b[0m\u001b[1;33m)\u001b[0m\u001b[1;33m\u001b[0m\u001b[1;33m\u001b[0m\u001b[0m\n\u001b[0;32m     20\u001b[0m \u001b[0mmodel\u001b[0m\u001b[1;33m.\u001b[0m\u001b[0mload_weights\u001b[0m\u001b[1;33m(\u001b[0m\u001b[1;34m\"./tmp.h5\"\u001b[0m\u001b[1;33m)\u001b[0m\u001b[1;33m\u001b[0m\u001b[1;33m\u001b[0m\u001b[0m\n\u001b[1;32m---> 21\u001b[1;33m \u001b[0mloss_loadback\u001b[0m\u001b[1;33m,\u001b[0m \u001b[0macc_loadback\u001b[0m \u001b[1;33m=\u001b[0m \u001b[0mmodel\u001b[0m\u001b[1;33m.\u001b[0m\u001b[0mevaluate\u001b[0m\u001b[1;33m(\u001b[0m\u001b[0mx_test\u001b[0m\u001b[1;33m,\u001b[0m \u001b[0my_test\u001b[0m\u001b[1;33m)\u001b[0m\u001b[1;33m\u001b[0m\u001b[1;33m\u001b[0m\u001b[0m\n\u001b[0m",
      "\u001b[1;32m~\\Anaconda3\\lib\\site-packages\\keras\\engine\\training.py\u001b[0m in \u001b[0;36mevaluate\u001b[1;34m(self, x, y, batch_size, verbose, sample_weight, steps)\u001b[0m\n\u001b[0;32m   1100\u001b[0m             \u001b[0mx\u001b[0m\u001b[1;33m,\u001b[0m \u001b[0my\u001b[0m\u001b[1;33m,\u001b[0m\u001b[1;33m\u001b[0m\u001b[1;33m\u001b[0m\u001b[0m\n\u001b[0;32m   1101\u001b[0m             \u001b[0msample_weight\u001b[0m\u001b[1;33m=\u001b[0m\u001b[0msample_weight\u001b[0m\u001b[1;33m,\u001b[0m\u001b[1;33m\u001b[0m\u001b[1;33m\u001b[0m\u001b[0m\n\u001b[1;32m-> 1102\u001b[1;33m             batch_size=batch_size)\n\u001b[0m\u001b[0;32m   1103\u001b[0m         \u001b[1;31m# Prepare inputs, delegate logic to `test_loop`.\u001b[0m\u001b[1;33m\u001b[0m\u001b[1;33m\u001b[0m\u001b[1;33m\u001b[0m\u001b[0m\n\u001b[0;32m   1104\u001b[0m         \u001b[1;32mif\u001b[0m \u001b[0mself\u001b[0m\u001b[1;33m.\u001b[0m\u001b[0m_uses_dynamic_learning_phase\u001b[0m\u001b[1;33m(\u001b[0m\u001b[1;33m)\u001b[0m\u001b[1;33m:\u001b[0m\u001b[1;33m\u001b[0m\u001b[1;33m\u001b[0m\u001b[0m\n",
      "\u001b[1;32m~\\Anaconda3\\lib\\site-packages\\keras\\engine\\training.py\u001b[0m in \u001b[0;36m_standardize_user_data\u001b[1;34m(self, x, y, sample_weight, class_weight, check_array_lengths, batch_size)\u001b[0m\n\u001b[0;32m    679\u001b[0m         \u001b[1;32mif\u001b[0m \u001b[0my\u001b[0m \u001b[1;32mis\u001b[0m \u001b[1;32mnot\u001b[0m \u001b[1;32mNone\u001b[0m\u001b[1;33m:\u001b[0m\u001b[1;33m\u001b[0m\u001b[1;33m\u001b[0m\u001b[0m\n\u001b[0;32m    680\u001b[0m             \u001b[1;32mif\u001b[0m \u001b[1;32mnot\u001b[0m \u001b[0mself\u001b[0m\u001b[1;33m.\u001b[0m\u001b[0moptimizer\u001b[0m\u001b[1;33m:\u001b[0m\u001b[1;33m\u001b[0m\u001b[1;33m\u001b[0m\u001b[0m\n\u001b[1;32m--> 681\u001b[1;33m                 raise RuntimeError('You must compile a model before '\n\u001b[0m\u001b[0;32m    682\u001b[0m                                    \u001b[1;34m'training/testing. '\u001b[0m\u001b[1;33m\u001b[0m\u001b[1;33m\u001b[0m\u001b[0m\n\u001b[0;32m    683\u001b[0m                                    'Use `model.compile(optimizer, loss)`.')\n",
      "\u001b[1;31mRuntimeError\u001b[0m: You must compile a model before training/testing. Use `model.compile(optimizer, loss)`."
     ]
    }
   ],
   "source": [
    "model_ckpt = ModelCheckpoint(filepath=\"./tmp.h5\", \n",
    "                             monitor=\"val_loss\", \n",
    "                             save_weights_only=True)\n",
    "model.fit(x_train, y_train, \n",
    "          epochs=EPOCHS, \n",
    "          batch_size=BATCH_SIZE, \n",
    "          validation_data=(x_test, y_test), \n",
    "          shuffle=True,\n",
    "          callbacks=[model_ckpt]\n",
    "         )\n",
    "\n",
    "# Collect results\n",
    "train_loss = model.history.history[\"loss\"]\n",
    "valid_loss = model.history.history[\"val_loss\"]\n",
    "train_acc = model.history.history[\"acc\"]\n",
    "valid_acc = model.history.history[\"val_acc\"]\n",
    "\n",
    "# Load back\n",
    "model = build_mlp(input_shape=x_train.shape[1:])\n",
    "model.load_weights(\"./tmp.h5\")\n",
    "loss_loadback, acc_loadback = model.evaluate(x_test, y_test)"
   ]
  },
  {
   "cell_type": "code",
   "execution_count": 16,
   "metadata": {},
   "outputs": [
    {
     "data": {
      "image/png": "[encoded data removed]",
      "text/plain": [
       "<Figure size 432x288 with 1 Axes>"
      ]
     },
     "metadata": {
      "needs_background": "light"
     },
     "output_type": "display_data"
    },
    {
     "data": {
      "image/png": "[encoded data removed]",
      "text/plain": [
       "<Figure size 432x288 with 1 Axes>"
      ]
     },
     "metadata": {
      "needs_background": "light"
     },
     "output_type": "display_data"
    }
   ],
   "source": [
    "plt.plot(range(len(train_loss)), train_loss, label=\"train loss\")\n",
    "plt.plot(range(len(valid_loss)), valid_loss, label=\"valid loss\")\n",
    "plt.hlines(y=loss_loadback, xmin=0, xmax=len(train_loss), colors='r', linestyles='--')\n",
    "plt.legend()\n",
    "plt.title(\"Loss\")\n",
    "plt.show()\n",
    "\n",
    "plt.plot(range(len(train_acc)), train_acc, label=\"train accuracy\")\n",
    "plt.plot(range(len(valid_acc)), valid_acc, label=\"valid accuracy\")\n",
    "plt.hlines(y=acc_loadback, xmin=0, xmax=len(train_loss), colors='r', linestyles='--')\n",
    "plt.legend()\n",
    "plt.title(\"Accuracy\")\n",
    "plt.show()"
   ]
  },
  {
   "cell_type": "markdown",
   "metadata": {},
   "source": [
    "### Result\n",
    "- save_best_only顧名思義會將最佳模型儲存下來\n",
    "- save_weight_only只保留參數, 不保留模型"
   ]
  }
 ],
 "metadata": {
  "kernelspec": {
   "display_name": "Python 3",
   "language": "python",
   "name": "python3"
  },
  "language_info": {
   "codemirror_mode": {
    "name": "ipython",
    "version": 3
   },
   "file_extension": ".py",
   "mimetype": "text/x-python",
   "name": "python",
   "nbconvert_exporter": "python",
   "pygments_lexer": "ipython3",
   "version": "3.6.8"
  }
 },
 "nbformat": 4,
 "nbformat_minor": 2
}
