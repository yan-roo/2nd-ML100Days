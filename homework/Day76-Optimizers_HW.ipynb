{
 "cells": [
  {
   "cell_type": "markdown",
   "metadata": {},
   "source": [
    "# 課程重點:\n",
    "    \n",
    "    利用Keras 建立神經網路模型\n",
    "    \n",
    "    查看優化器的結果"
   ]
  },
  {
   "cell_type": "markdown",
   "metadata": {},
   "source": [
    "# 範例目標:\n",
    "    \n",
    "    使用CIFAR-10圖庫, 看看完整神經網路"
   ]
  },
  {
   "cell_type": "code",
   "execution_count": 1,
   "metadata": {},
   "outputs": [
    {
     "name": "stderr",
     "output_type": "stream",
     "text": [
      "Using TensorFlow backend.\n"
     ]
    }
   ],
   "source": [
    "from __future__ import print_function\n",
    "import keras\n",
    "from keras.datasets import cifar10\n",
    "from keras.preprocessing.image import ImageDataGenerator\n",
    "from keras.models import Sequential\n",
    "from keras.layers import Dense, Dropout, Activation, Flatten\n",
    "from keras.layers import Conv2D, MaxPooling2D\n",
    "import os\n"
   ]
  },
  {
   "cell_type": "code",
   "execution_count": 2,
   "metadata": {},
   "outputs": [],
   "source": [
    "#Blas GEMM launch failed , 避免動態分配GPU / CPU, 出現問題\n",
    "import tensorflow as tf\n",
    "gpu_options = tf.GPUOptions(per_process_gpu_memory_fraction=0.333)\n",
    "sess = tf.Session(config=tf.ConfigProto(gpu_options=gpu_options))\n"
   ]
  },
  {
   "cell_type": "code",
   "execution_count": 3,
   "metadata": {},
   "outputs": [],
   "source": [
    "batch_size = 32\n",
    "num_classes = 10\n",
    "epochs = 20\n",
    "data_augmentation = True\n",
    "num_predictions = 20\n",
    "save_dir = os.path.join(os.getcwd(), 'saved_models')\n"
   ]
  },
  {
   "cell_type": "code",
   "execution_count": 4,
   "metadata": {},
   "outputs": [
    {
     "name": "stdout",
     "output_type": "stream",
     "text": [
      "x_train shape: (50000, 32, 32, 3)\n",
      "50000 train samples\n",
      "10000 test samples\n"
     ]
    }
   ],
   "source": [
    "# 檢查Dataset 的描述與資訊\n",
    "# The data, split between train and test sets:\n",
    "(x_train, y_train), (x_test, y_test) = cifar10.load_data()\n",
    "print('x_train shape:', x_train.shape)\n",
    "print(x_train.shape[0], 'train samples')\n",
    "print(x_test.shape[0], 'test samples')\n",
    "\n",
    "# Convert class vectors to binary class matrices.\n",
    "y_train = keras.utils.to_categorical(y_train, num_classes)\n",
    "y_test = keras.utils.to_categorical(y_test, num_classes)"
   ]
  },
  {
   "cell_type": "markdown",
   "metadata": {},
   "source": [
    "##    第一步：選擇模型, 順序模型是多個網絡層的線性堆疊"
   ]
  },
  {
   "cell_type": "code",
   "execution_count": 5,
   "metadata": {},
   "outputs": [],
   "source": [
    "model = Sequential()"
   ]
  },
  {
   "cell_type": "markdown",
   "metadata": {},
   "source": [
    "##   第二步：構建網絡層"
   ]
  },
  {
   "cell_type": "code",
   "execution_count": 6,
   "metadata": {},
   "outputs": [],
   "source": [
    "model.add(Conv2D(32, (3, 3), padding='same',\n",
    "                 input_shape=x_train.shape[1:]))\n",
    "model.add(Activation('relu'))\n",
    "model.add(Conv2D(32, (3, 3)))\n",
    "model.add(Activation('relu'))\n",
    "model.add(MaxPooling2D(pool_size=(2, 2)))\n",
    "model.add(Dropout(0.25))\n",
    "\n",
    "model.add(Conv2D(64, (3, 3), padding='same'))\n",
    "model.add(Activation('relu'))\n",
    "model.add(Conv2D(64, (3, 3)))\n",
    "model.add(Activation('relu'))\n",
    "model.add(MaxPooling2D(pool_size=(2, 2)))\n",
    "model.add(Dropout(0.25))\n",
    "\n",
    "model.add(Flatten())\n",
    "model.add(Dense(512))\n",
    "model.add(Activation('relu'))\n",
    "model.add(Dropout(0.5))\n",
    "\n",
    "model.add(Dense( 10)) # 輸出結果是10個類別，所以維度是10   \n",
    "model.add(Activation('softmax')) # 最後一層用softmax作為激活函數"
   ]
  },
  {
   "cell_type": "code",
   "execution_count": 7,
   "metadata": {},
   "outputs": [
    {
     "name": "stdout",
     "output_type": "stream",
     "text": [
      "Total Parameters：1250858\n"
     ]
    }
   ],
   "source": [
    "# 模型建立完成後，統計參數總量\n",
    "print(\"Total Parameters：%d\" % model.count_params())"
   ]
  },
  {
   "cell_type": "code",
   "execution_count": 8,
   "metadata": {},
   "outputs": [
    {
     "name": "stdout",
     "output_type": "stream",
     "text": [
      "_________________________________________________________________\n",
      "Layer (type)                 Output Shape              Param #   \n",
      "=================================================================\n",
      "conv2d_1 (Conv2D)            (None, 32, 32, 32)        896       \n",
      "_________________________________________________________________\n",
      "activation_1 (Activation)    (None, 32, 32, 32)        0         \n",
      "_________________________________________________________________\n",
      "conv2d_2 (Conv2D)            (None, 30, 30, 32)        9248      \n",
      "_________________________________________________________________\n",
      "activation_2 (Activation)    (None, 30, 30, 32)        0         \n",
      "_________________________________________________________________\n",
      "max_pooling2d_1 (MaxPooling2 (None, 15, 15, 32)        0         \n",
      "_________________________________________________________________\n",
      "dropout_1 (Dropout)          (None, 15, 15, 32)        0         \n",
      "_________________________________________________________________\n",
      "conv2d_3 (Conv2D)            (None, 15, 15, 64)        18496     \n",
      "_________________________________________________________________\n",
      "activation_3 (Activation)    (None, 15, 15, 64)        0         \n",
      "_________________________________________________________________\n",
      "conv2d_4 (Conv2D)            (None, 13, 13, 64)        36928     \n",
      "_________________________________________________________________\n",
      "activation_4 (Activation)    (None, 13, 13, 64)        0         \n",
      "_________________________________________________________________\n",
      "max_pooling2d_2 (MaxPooling2 (None, 6, 6, 64)          0         \n",
      "_________________________________________________________________\n",
      "dropout_2 (Dropout)          (None, 6, 6, 64)          0         \n",
      "_________________________________________________________________\n",
      "flatten_1 (Flatten)          (None, 2304)              0         \n",
      "_________________________________________________________________\n",
      "dense_1 (Dense)              (None, 512)               1180160   \n",
      "_________________________________________________________________\n",
      "activation_5 (Activation)    (None, 512)               0         \n",
      "_________________________________________________________________\n",
      "dropout_3 (Dropout)          (None, 512)               0         \n",
      "_________________________________________________________________\n",
      "dense_2 (Dense)              (None, 10)                5130      \n",
      "_________________________________________________________________\n",
      "activation_6 (Activation)    (None, 10)                0         \n",
      "=================================================================\n",
      "Total params: 1,250,858\n",
      "Trainable params: 1,250,858\n",
      "Non-trainable params: 0\n",
      "_________________________________________________________________\n"
     ]
    }
   ],
   "source": [
    "# 輸出模型摘要資訊\n",
    "model.summary()"
   ]
  },
  {
   "cell_type": "markdown",
   "metadata": {},
   "source": [
    "## 第三步：編譯"
   ]
  },
  {
   "cell_type": "code",
   "execution_count": 9,
   "metadata": {},
   "outputs": [
    {
     "name": "stderr",
     "output_type": "stream",
     "text": [
      "C:\\Users\\tony8\\Anaconda3\\lib\\site-packages\\keras\\engine\\saving.py:292: UserWarning: No training configuration found in save file: the model was *not* compiled. Compile it manually.\n",
      "  warnings.warn('No training configuration found in save file: '\n"
     ]
    }
   ],
   "source": [
    "import copy\n",
    "\n",
    "Adam_model = copy.deepcopy(model)\n",
    "\n",
    "Adam_model.compile(optimizer = 'adam', loss = 'categorical_crossentropy', metrics = ['accuracy'])"
   ]
  },
  {
   "cell_type": "code",
   "execution_count": 10,
   "metadata": {},
   "outputs": [],
   "source": [
    "# 資料正規化\n",
    "x_train = x_train.astype('float32')\n",
    "x_test = x_test.astype('float32')\n",
    "x_train /= 255\n",
    "x_test /= 255\n"
   ]
  },
  {
   "cell_type": "markdown",
   "metadata": {},
   "source": [
    "\n",
    "##   第四步：訓練\n",
    "*   .fit的一些參數\n",
    "*   batch_size：對總的樣本數進行分組，每組包含的樣本數量\n",
    "*   epochs ：訓練次數\n",
    "*   shuffle：是否把數據隨機打亂之後再進行訓練\n",
    "*   validation_split：拿出百分之多少用來做交叉驗證\n",
    "*   verbose：屏顯模式 - 0：不輸出, 1：輸出進度, 2：輸出每次的訓練結果\n",
    "    "
   ]
  },
  {
   "cell_type": "markdown",
   "metadata": {},
   "source": [
    "### 從現有圖片再新增資料\n",
    "- 隨機水平移動\n",
    "- 隨機垂直移動\n",
    "- 隨機水平翻轉"
   ]
  },
  {
   "cell_type": "code",
   "execution_count": 11,
   "metadata": {},
   "outputs": [
    {
     "name": "stdout",
     "output_type": "stream",
     "text": [
      "Using real-time data augmentation.\n",
      "\n",
      "Train on 50000 samples, validate on 10000 samples\n",
      "Epoch 1/20\n",
      "50000/50000 [==============================] - 18s 358us/step - loss: 1.5149 - acc: 0.4484 - val_loss: 1.1603 - val_acc: 0.5853\n",
      "Epoch 2/20\n",
      "50000/50000 [==============================] - 15s 309us/step - loss: 1.1110 - acc: 0.6064 - val_loss: 0.9203 - val_acc: 0.6771\n",
      "Epoch 3/20\n",
      "50000/50000 [==============================] - 15s 310us/step - loss: 0.9492 - acc: 0.6666 - val_loss: 0.8454 - val_acc: 0.6968\n",
      "Epoch 4/20\n",
      "50000/50000 [==============================] - 16s 310us/step - loss: 0.8617 - acc: 0.6964 - val_loss: 0.7593 - val_acc: 0.7370\n",
      "Epoch 5/20\n",
      "50000/50000 [==============================] - 16s 311us/step - loss: 0.8008 - acc: 0.7196 - val_loss: 0.7146 - val_acc: 0.7507\n",
      "Epoch 6/20\n",
      "50000/50000 [==============================] - 16s 312us/step - loss: 0.7581 - acc: 0.7349 - val_loss: 0.7169 - val_acc: 0.7516\n",
      "Epoch 7/20\n",
      "50000/50000 [==============================] - 16s 313us/step - loss: 0.7259 - acc: 0.7467 - val_loss: 0.7095 - val_acc: 0.7539\n",
      "Epoch 8/20\n",
      "50000/50000 [==============================] - 16s 312us/step - loss: 0.6864 - acc: 0.7577 - val_loss: 0.6666 - val_acc: 0.7707\n",
      "Epoch 9/20\n",
      "50000/50000 [==============================] - 16s 314us/step - loss: 0.6666 - acc: 0.7656 - val_loss: 0.6887 - val_acc: 0.7638\n",
      "Epoch 10/20\n",
      "50000/50000 [==============================] - 16s 318us/step - loss: 0.6344 - acc: 0.7757 - val_loss: 0.6886 - val_acc: 0.7628\n",
      "Epoch 11/20\n",
      "50000/50000 [==============================] - 16s 313us/step - loss: 0.6125 - acc: 0.7838 - val_loss: 0.6841 - val_acc: 0.7679\n",
      "Epoch 12/20\n",
      "50000/50000 [==============================] - 16s 317us/step - loss: 0.6096 - acc: 0.7862 - val_loss: 0.6652 - val_acc: 0.7701\n",
      "Epoch 13/20\n",
      "50000/50000 [==============================] - 16s 311us/step - loss: 0.5850 - acc: 0.7949 - val_loss: 0.6579 - val_acc: 0.7757\n",
      "Epoch 14/20\n",
      "50000/50000 [==============================] - 16s 313us/step - loss: 0.5699 - acc: 0.8000 - val_loss: 0.6466 - val_acc: 0.7815\n",
      "Epoch 15/20\n",
      "50000/50000 [==============================] - 16s 311us/step - loss: 0.5572 - acc: 0.8051 - val_loss: 0.6527 - val_acc: 0.7768\n",
      "Epoch 16/20\n",
      "50000/50000 [==============================] - 16s 312us/step - loss: 0.5411 - acc: 0.8088 - val_loss: 0.6388 - val_acc: 0.7877\n",
      "Epoch 17/20\n",
      "50000/50000 [==============================] - 16s 312us/step - loss: 0.5334 - acc: 0.8145 - val_loss: 0.6751 - val_acc: 0.7773\n",
      "Epoch 18/20\n",
      "50000/50000 [==============================] - 16s 312us/step - loss: 0.5272 - acc: 0.8161 - val_loss: 0.6512 - val_acc: 0.7818\n",
      "Epoch 19/20\n",
      "50000/50000 [==============================] - 16s 312us/step - loss: 0.5077 - acc: 0.8209 - val_loss: 0.6757 - val_acc: 0.7802\n",
      "Epoch 20/20\n",
      "50000/50000 [==============================] - 16s 312us/step - loss: 0.5001 - acc: 0.8238 - val_loss: 0.6571 - val_acc: 0.7856\n"
     ]
    }
   ],
   "source": [
    "# 是否要做資料處理\n",
    "if not data_augmentation:\n",
    "    print('Not using data augmentation.')\n",
    "    history=model.fit(x_train, y_train,\n",
    "              batch_size=batch_size,\n",
    "              epochs=epochs,\n",
    "              validation_data=(x_test, y_test),\n",
    "              shuffle=True)\n",
    "else:\n",
    "    print('Using real-time data augmentation.')\n",
    "    print('')\n",
    "        \n",
    "    # This will do preprocessing and realtime data augmentation:\n",
    "    datagen = ImageDataGenerator(\n",
    "        featurewise_center=False,  # set input mean to 0 over the dataset 將資料集的輸入平均值設為0\n",
    "        samplewise_center=False,  # set each sample mean to 0 將每個樣本資料平均值設為0\n",
    "        featurewise_std_normalization=False,  # divide inputs by std of the dataset 資料集除以所有輸入的標準差\n",
    "        samplewise_std_normalization=False,  # divide each input by its std 樣本除以自己的標準差\n",
    "        zca_whitening=False,  # apply ZCA whitening ZCA白化\n",
    "        zca_epsilon=1e-06,  # epsilon for ZCA whitening 白化數值\n",
    "        rotation_range=0,  # randomly rotate images in the range (degrees, 0 to 180) 隨機旋轉度數範圍\n",
    "        # randomly shift images horizontally (fraction of total width) 隨機水平移動百分比\n",
    "        width_shift_range=0.1, \n",
    "        # randomly shift images vertically (fraction of total height) 隨機垂直移動百分比\n",
    "        height_shift_range=0.1,\n",
    "        shear_range=0.,  # set range for random shear 剪切強度\n",
    "        zoom_range=0.,  # set range for random zoom 縮放強度\n",
    "        channel_shift_range=0.,  # set range for random channel shifts 隨機通道轉換範圍\n",
    "        # set mode for filling points outside the input boundaries 邊界外的點填充模式\n",
    "        fill_mode='nearest',\n",
    "        cval=0.,  # value used for fill_mode = \"constant\" 邊界外點的值\n",
    "        horizontal_flip=True,  # randomly flip images 隨機水平翻轉\n",
    "        vertical_flip=False,  # randomly flip images 隨機垂直翻轉\n",
    "        # set rescaling factor (applied before any other transformation) 縮放\n",
    "        rescale=None,\n",
    "        # set function that will be applied on each input 針對每個輸入進行處理\n",
    "        preprocessing_function=None,\n",
    "        # image data format, either \"channels_first\" or \"channels_last\" 圖片數據格式\n",
    "        # channels_last(samples, height, width, channels); channels_first(samples, channels, height, width)\n",
    "        data_format=None,\n",
    "        # fraction of images reserved for validation (strictly between 0 and 1) 用於驗證集資料的比例\n",
    "        validation_split=0.0)\n",
    "\n",
    "    # Compute quantities required for feature-wise normalization\n",
    "    # (std, mean, and principal components if ZCA whitening is applied).\n",
    "    datagen.fit(x_train)\n",
    "    Adam_history=Adam_model.fit(x_train, y_train,\n",
    "              batch_size=batch_size,\n",
    "              epochs=epochs,\n",
    "              validation_data=(x_test, y_test),\n",
    "              shuffle=True)   "
   ]
  },
  {
   "cell_type": "markdown",
   "metadata": {},
   "source": [
    "## 第五步：儲存模型與參數"
   ]
  },
  {
   "cell_type": "code",
   "execution_count": 12,
   "metadata": {},
   "outputs": [
    {
     "name": "stdout",
     "output_type": "stream",
     "text": [
      "Saved trained model at C:\\Users\\tony8\\OneDrive\\文件\\Machine_Learning\\D76\\saved_models\\keras_cifar10_Adam_model.h5 \n"
     ]
    }
   ],
   "source": [
    "model_name_Adam = 'keras_cifar10_Adam_model.h5'\n",
    "\n",
    "if not os.path.isdir(save_dir):\n",
    "    os.makedirs(save_dir)\n",
    "model_path = os.path.join(save_dir, model_name_Adam)\n",
    "Adam_model.save(model_path)\n",
    "print('Saved trained model at %s ' % model_path)"
   ]
  },
  {
   "cell_type": "markdown",
   "metadata": {},
   "source": [
    "##    第六步：輸出"
   ]
  },
  {
   "cell_type": "code",
   "execution_count": 13,
   "metadata": {},
   "outputs": [
    {
     "name": "stdout",
     "output_type": "stream",
     "text": [
      "10000/10000 [==============================] - 1s 102us/step\n",
      "Test loss: 0.6570931728839874\n",
      "Test accuracy: 0.7856\n"
     ]
    }
   ],
   "source": [
    "# Score trained model.\n",
    "Adam_scores = Adam_model.evaluate(x_test, y_test, verbose=1)\n",
    "print('Test loss:', Adam_scores[0])\n",
    "print('Test accuracy:', Adam_scores[1])"
   ]
  },
  {
   "cell_type": "code",
   "execution_count": 14,
   "metadata": {},
   "outputs": [
    {
     "data": {
      "image/png": "[encoded data removed]",
      "text/plain": [
       "<Figure size 432x288 with 1 Axes>"
      ]
     },
     "metadata": {
      "needs_background": "light"
     },
     "output_type": "display_data"
    },
    {
     "data": {
      "image/png": "[encoded data removed]",
      "text/plain": [
       "<Figure size 432x288 with 1 Axes>"
      ]
     },
     "metadata": {
      "needs_background": "light"
     },
     "output_type": "display_data"
    }
   ],
   "source": [
    "import matplotlib.pyplot as plt\n",
    "%matplotlib inline\n",
    "\n",
    "# Plot training & validation accuracy values\n",
    "plt.plot(Adam_history.history['acc'])\n",
    "plt.plot(Adam_history.history['val_acc'])\n",
    "plt.title('Adam Model accuracy')\n",
    "plt.ylabel('Accuracy')\n",
    "plt.xlabel('Epoch')\n",
    "plt.legend(['Train', 'Valiidation'], loc='upper left')\n",
    "plt.show()\n",
    "\n",
    "# Plot training & validation loss values\n",
    "plt.plot(Adam_history.history['loss'])\n",
    "plt.plot(Adam_history.history['val_loss'])\n",
    "plt.title('Adam Model loss')\n",
    "plt.ylabel('Loss')\n",
    "plt.xlabel('Epoch')\n",
    "plt.legend(['Train', 'Valiidation'], loc='upper left')\n",
    "plt.show()"
   ]
  },
  {
   "cell_type": "markdown",
   "metadata": {},
   "source": [
    "# 作業重點:\n",
    "\n",
    "(1)以, Adam, 為例, 調整 batch_size, epoch , 觀察accurancy, loss 的變化\n",
    "\n",
    "(2)以同一模型, 分別驗證 SGD, Adam, Rmsprop 的 accurancy"
   ]
  },
  {
   "cell_type": "markdown",
   "metadata": {},
   "source": [
    "# 作業目標:\n",
    "    \n",
    "    取得各種優化器的運算結果"
   ]
  },
  {
   "cell_type": "markdown",
   "metadata": {},
   "source": [
    "\n",
    "### SGD(隨機梯度下降) - Arguments\n",
    "- lr: float >= 0. Learning rate.\n",
    "- momentum: float >= 0. Parameter that accelerates SGD in the relevant direction and dampens oscillations.\n",
    "- decay: float >= 0. Learning rate decay over each update.\n",
    "- nesterov: boolean. Whether to apply Nesterov momentum.\n",
    "\n",
    "### RMSprop- Arguments\n",
    "- lr: float >= 0. Learning rate.\n",
    "- rho: float >= 0.\n",
    "- epsilon: float >= 0. Fuzz factor. If None, defaults to K.epsilon().\n",
    "- decay: float >= 0. Learning rate decay over each update."
   ]
  },
  {
   "cell_type": "code",
   "execution_count": 15,
   "metadata": {},
   "outputs": [
    {
     "name": "stderr",
     "output_type": "stream",
     "text": [
      "C:\\Users\\tony8\\Anaconda3\\lib\\site-packages\\keras\\engine\\saving.py:292: UserWarning: No training configuration found in save file: the model was *not* compiled. Compile it manually.\n",
      "  warnings.warn('No training configuration found in save file: '\n"
     ]
    }
   ],
   "source": [
    "#第三步編譯\n",
    "from keras import optimizers\n",
    "import copy\n",
    "\n",
    "\n",
    "SGD_model = copy.deepcopy(model)\n",
    "RMSprop_model = copy.deepcopy(model)\n",
    "\n",
    "sgd = optimizers.SGD(lr=0.01, decay=1e-6, momentum=0.9, nesterov=True)\n",
    "rmsprop = optimizers.RMSprop(lr=0.0001, rho=0.9, epsilon=None, decay=1e-6)\n",
    "\n",
    "\n",
    "#model.compile(optimizer = opt, loss = 'categorical_crossentropy', metrics = ['accuracy'])\n",
    "SGD_model.compile(optimizer = sgd, loss = 'categorical_crossentropy', metrics = ['accuracy'])\n",
    "RMSprop_model.compile(optimizer = rmsprop, loss = 'categorical_crossentropy', metrics = ['accuracy'])\n"
   ]
  },
  {
   "cell_type": "code",
   "execution_count": 16,
   "metadata": {},
   "outputs": [
    {
     "name": "stdout",
     "output_type": "stream",
     "text": [
      "Train on 50000 samples, validate on 10000 samples\n",
      "Epoch 1/20\n",
      "50000/50000 [==============================] - 14s 285us/step - loss: 1.7443 - acc: 0.3601 - val_loss: 1.5155 - val_acc: 0.4546\n",
      "Epoch 2/20\n",
      "50000/50000 [==============================] - 14s 275us/step - loss: 1.3239 - acc: 0.5228 - val_loss: 1.0728 - val_acc: 0.6219\n",
      "Epoch 3/20\n",
      "50000/50000 [==============================] - 14s 275us/step - loss: 1.1438 - acc: 0.5932 - val_loss: 0.9597 - val_acc: 0.6618\n",
      "Epoch 4/20\n",
      "50000/50000 [==============================] - 14s 273us/step - loss: 1.0262 - acc: 0.6363 - val_loss: 0.9226 - val_acc: 0.6775\n",
      "Epoch 5/20\n",
      "50000/50000 [==============================] - 14s 273us/step - loss: 0.9470 - acc: 0.6683 - val_loss: 0.8352 - val_acc: 0.7110\n",
      "Epoch 6/20\n",
      "50000/50000 [==============================] - 14s 274us/step - loss: 0.8919 - acc: 0.6886 - val_loss: 0.7917 - val_acc: 0.7280\n",
      "Epoch 7/20\n",
      "50000/50000 [==============================] - 14s 273us/step - loss: 0.8508 - acc: 0.6999 - val_loss: 0.8040 - val_acc: 0.7231\n",
      "Epoch 8/20\n",
      "50000/50000 [==============================] - 14s 274us/step - loss: 0.8172 - acc: 0.7137 - val_loss: 0.7733 - val_acc: 0.7279\n",
      "Epoch 9/20\n",
      "50000/50000 [==============================] - 14s 283us/step - loss: 0.7879 - acc: 0.7258 - val_loss: 0.7969 - val_acc: 0.7300\n",
      "Epoch 10/20\n",
      "50000/50000 [==============================] - 14s 286us/step - loss: 0.7703 - acc: 0.7299 - val_loss: 0.7274 - val_acc: 0.7500\n",
      "Epoch 11/20\n",
      "50000/50000 [==============================] - 14s 280us/step - loss: 0.7445 - acc: 0.7396 - val_loss: 0.7607 - val_acc: 0.7418\n",
      "Epoch 12/20\n",
      "50000/50000 [==============================] - 14s 287us/step - loss: 0.7362 - acc: 0.7433 - val_loss: 0.7411 - val_acc: 0.7428\n",
      "Epoch 13/20\n",
      "50000/50000 [==============================] - 14s 280us/step - loss: 0.7163 - acc: 0.7513 - val_loss: 0.7121 - val_acc: 0.7581\n",
      "Epoch 14/20\n",
      "50000/50000 [==============================] - 14s 280us/step - loss: 0.7006 - acc: 0.7545 - val_loss: 0.7589 - val_acc: 0.7432\n",
      "Epoch 15/20\n",
      "50000/50000 [==============================] - 14s 279us/step - loss: 0.6953 - acc: 0.7578 - val_loss: 0.7137 - val_acc: 0.7588\n",
      "Epoch 16/20\n",
      "50000/50000 [==============================] - 14s 280us/step - loss: 0.6828 - acc: 0.7611 - val_loss: 0.7457 - val_acc: 0.7426\n",
      "Epoch 17/20\n",
      "50000/50000 [==============================] - 14s 280us/step - loss: 0.6737 - acc: 0.7665 - val_loss: 0.6895 - val_acc: 0.7659\n",
      "Epoch 18/20\n",
      "50000/50000 [==============================] - 14s 279us/step - loss: 0.6633 - acc: 0.7684 - val_loss: 0.7019 - val_acc: 0.7608\n",
      "Epoch 19/20\n",
      "50000/50000 [==============================] - 14s 280us/step - loss: 0.6591 - acc: 0.7709 - val_loss: 0.6964 - val_acc: 0.7695\n",
      "Epoch 20/20\n",
      "50000/50000 [==============================] - 14s 280us/step - loss: 0.6491 - acc: 0.7746 - val_loss: 0.7206 - val_acc: 0.7569\n"
     ]
    }
   ],
   "source": [
    "model_name_SGD = 'keras_cifar10_SGD_model.h5'\n",
    "\n",
    "SGD_history=SGD_model.fit(x_train, y_train,\n",
    "          batch_size=batch_size,\n",
    "          epochs=epochs,\n",
    "          validation_data=(x_test, y_test),\n",
    "          shuffle=True)  "
   ]
  },
  {
   "cell_type": "code",
   "execution_count": 17,
   "metadata": {},
   "outputs": [
    {
     "name": "stdout",
     "output_type": "stream",
     "text": [
      "Train on 50000 samples, validate on 10000 samples\n",
      "Epoch 1/20\n",
      "50000/50000 [==============================] - 15s 305us/step - loss: 1.7971 - acc: 0.3415 - val_loss: 1.5374 - val_acc: 0.4390\n",
      "Epoch 2/20\n",
      "50000/50000 [==============================] - 15s 294us/step - loss: 1.5053 - acc: 0.4575 - val_loss: 1.3556 - val_acc: 0.5110\n",
      "Epoch 3/20\n",
      "50000/50000 [==============================] - 15s 294us/step - loss: 1.3625 - acc: 0.5077 - val_loss: 1.3106 - val_acc: 0.5390\n",
      "Epoch 4/20\n",
      "50000/50000 [==============================] - 15s 294us/step - loss: 1.2630 - acc: 0.5507 - val_loss: 1.1663 - val_acc: 0.5856\n",
      "Epoch 5/20\n",
      "50000/50000 [==============================] - 15s 294us/step - loss: 1.1870 - acc: 0.5797 - val_loss: 1.1910 - val_acc: 0.5844\n",
      "Epoch 6/20\n",
      "50000/50000 [==============================] - 15s 294us/step - loss: 1.1226 - acc: 0.6039 - val_loss: 1.0398 - val_acc: 0.6272\n",
      "Epoch 7/20\n",
      "50000/50000 [==============================] - 15s 300us/step - loss: 1.0682 - acc: 0.6254 - val_loss: 0.9773 - val_acc: 0.6571\n",
      "Epoch 8/20\n",
      "50000/50000 [==============================] - 15s 294us/step - loss: 1.0165 - acc: 0.6427 - val_loss: 0.9755 - val_acc: 0.6582\n",
      "Epoch 9/20\n",
      "50000/50000 [==============================] - 15s 295us/step - loss: 0.9791 - acc: 0.6565 - val_loss: 0.9568 - val_acc: 0.6649\n",
      "Epoch 10/20\n",
      "50000/50000 [==============================] - 15s 295us/step - loss: 0.9402 - acc: 0.6725 - val_loss: 0.8826 - val_acc: 0.6904\n",
      "Epoch 11/20\n",
      "50000/50000 [==============================] - 15s 295us/step - loss: 0.9121 - acc: 0.6814 - val_loss: 0.8742 - val_acc: 0.6957\n",
      "Epoch 12/20\n",
      "50000/50000 [==============================] - 15s 295us/step - loss: 0.8820 - acc: 0.6919 - val_loss: 0.8617 - val_acc: 0.7017\n",
      "Epoch 13/20\n",
      "50000/50000 [==============================] - 15s 295us/step - loss: 0.8581 - acc: 0.7027 - val_loss: 0.8741 - val_acc: 0.6935\n",
      "Epoch 14/20\n",
      "50000/50000 [==============================] - 15s 294us/step - loss: 0.8333 - acc: 0.7097 - val_loss: 0.8084 - val_acc: 0.7245\n",
      "Epoch 15/20\n",
      "50000/50000 [==============================] - 15s 295us/step - loss: 0.8125 - acc: 0.7176 - val_loss: 0.8337 - val_acc: 0.7127\n",
      "Epoch 16/20\n",
      "50000/50000 [==============================] - 15s 296us/step - loss: 0.7902 - acc: 0.7278 - val_loss: 0.7532 - val_acc: 0.7405\n",
      "Epoch 17/20\n",
      "50000/50000 [==============================] - 15s 295us/step - loss: 0.7760 - acc: 0.7309 - val_loss: 0.7761 - val_acc: 0.7330\n",
      "Epoch 18/20\n",
      "50000/50000 [==============================] - 15s 298us/step - loss: 0.7591 - acc: 0.7369 - val_loss: 0.7502 - val_acc: 0.7390\n",
      "Epoch 19/20\n",
      "50000/50000 [==============================] - 15s 298us/step - loss: 0.7460 - acc: 0.7425 - val_loss: 0.7573 - val_acc: 0.7391\n",
      "Epoch 20/20\n",
      "50000/50000 [==============================] - 15s 298us/step - loss: 0.7347 - acc: 0.7488 - val_loss: 0.7187 - val_acc: 0.7508\n"
     ]
    }
   ],
   "source": [
    "model_name_RMSprop = 'keras_cifar10_RMSprop_model.h5'\n",
    "\n",
    "RMSprop_history=RMSprop_model.fit(x_train, y_train,\n",
    "          batch_size=batch_size,\n",
    "          epochs=epochs,\n",
    "          validation_data=(x_test, y_test),\n",
    "          shuffle=True)  "
   ]
  },
  {
   "cell_type": "code",
   "execution_count": 18,
   "metadata": {},
   "outputs": [
    {
     "name": "stdout",
     "output_type": "stream",
     "text": [
      "Saved trained model at C:\\Users\\tony8\\OneDrive\\文件\\Machine_Learning\\D76\\saved_models\\keras_cifar10_SGD_model.h5 \n",
      "Saved trained model at C:\\Users\\tony8\\OneDrive\\文件\\Machine_Learning\\D76\\saved_models\\keras_cifar10_RMSprop_model.h5 \n",
      "\n",
      "SGD\n",
      "10000/10000 [==============================] - 1s 104us/step\n",
      "Test loss: 0.720620187330246\n",
      "Test accuracy: 0.7569\n",
      "\n",
      "RMSprop\n",
      "10000/10000 [==============================] - 1s 105us/step\n",
      "Test loss: 0.718722839641571\n",
      "Test accuracy: 0.7508\n"
     ]
    }
   ],
   "source": [
    "# Save model and weights\n",
    "if not os.path.isdir(save_dir):\n",
    "    os.makedirs(save_dir)\n",
    "    \n",
    "model_path = os.path.join(save_dir, model_name_SGD)\n",
    "SGD_model.save(model_path)\n",
    "print('Saved trained model at %s ' % model_path)\n",
    "\n",
    "model_path = os.path.join(save_dir, model_name_RMSprop)\n",
    "RMSprop_model.save(model_path)\n",
    "print('Saved trained model at %s ' % model_path)\n",
    "\n",
    "# Score trained model.\n",
    "print(\"\")\n",
    "print(\"SGD\")\n",
    "SGD_scores = SGD_model.evaluate(x_test, y_test, verbose=1)\n",
    "print('Test loss:', SGD_scores[0])\n",
    "print('Test accuracy:', SGD_scores[1])\n",
    "\n",
    "print(\"\")\n",
    "print(\"RMSprop\")\n",
    "RMSprop_scores = RMSprop_model.evaluate(x_test, y_test, verbose=1)\n",
    "print('Test loss:', RMSprop_scores[0])\n",
    "print('Test accuracy:', RMSprop_scores[1])"
   ]
  },
  {
   "cell_type": "code",
   "execution_count": 19,
   "metadata": {},
   "outputs": [
    {
     "name": "stdout",
     "output_type": "stream",
     "text": [
      " test set on SGD\n",
      "\n",
      " The test loss is %f  [0.7206201934814453, 0.7569000041484832]\n",
      " 7569/10000\n"
     ]
    }
   ],
   "source": [
    "import numpy \n",
    "\n",
    "print ( \" test set on SGD\" )\n",
    "SGD_scores = SGD_model.evaluate(x_test,y_test,batch_size=200,verbose= 0)\n",
    "print ( \"\" )\n",
    "print ( \" The test loss is %f \", SGD_scores)\n",
    "\n",
    "\n",
    "result = SGD_model.predict(x_test,batch_size=200,verbose= 0)\n",
    "\n",
    "result_max = numpy.argmax(result, axis = 1 )\n",
    "test_max = numpy.argmax(y_test, axis = 1 )\n",
    "\n",
    "result_bool = numpy.equal(result_max, test_max)\n",
    "true_num = numpy.sum(result_bool)\n",
    "\n",
    "print(f' {true_num}/{x_test.shape[0]}')"
   ]
  },
  {
   "cell_type": "code",
   "execution_count": 20,
   "metadata": {},
   "outputs": [
    {
     "name": "stdout",
     "output_type": "stream",
     "text": [
      " test set on RMSprop\n",
      "\n",
      " The test loss is %f  [0.7187228381633759, 0.7507999980449677]\n",
      " 7508/10000\n"
     ]
    }
   ],
   "source": [
    "print ( \" test set on RMSprop\" )\n",
    "RMSprop_scores = RMSprop_model.evaluate(x_test,y_test,batch_size=200,verbose= 0)\n",
    "print ( \"\" )\n",
    "print ( \" The test loss is %f \", RMSprop_scores)\n",
    "\n",
    "\n",
    "result = RMSprop_model.predict(x_test,batch_size=200,verbose= 0)\n",
    "\n",
    "result_max = numpy.argmax(result, axis = 1 )\n",
    "test_max = numpy.argmax(y_test, axis = 1 )\n",
    "\n",
    "result_bool = numpy.equal(result_max, test_max)\n",
    "true_num = numpy.sum(result_bool)\n",
    "\n",
    "print(f' {true_num}/{x_test.shape[0]}')"
   ]
  },
  {
   "cell_type": "code",
   "execution_count": 21,
   "metadata": {},
   "outputs": [
    {
     "data": {
      "image/png": "[encoded data removed]",
      "text/plain": [
       "<Figure size 720x576 with 2 Axes>"
      ]
     },
     "metadata": {
      "needs_background": "light"
     },
     "output_type": "display_data"
    },
    {
     "data": {
      "image/png": "[encoded data removed]",
      "text/plain": [
       "<Figure size 720x576 with 2 Axes>"
      ]
     },
     "metadata": {
      "needs_background": "light"
     },
     "output_type": "display_data"
    }
   ],
   "source": [
    "import matplotlib.pyplot as plt\n",
    "%matplotlib inline\n",
    "plt.rcParams['figure.figsize'] = (10.0, 8.0) # set default size of plots\n",
    "plt.rcParams['image.interpolation'] = 'nearest'\n",
    "\n",
    "# Plot training & validation accuracy values\n",
    "plt.subplot(2,2,1)\n",
    "plt.plot(SGD_history.history['acc'])\n",
    "plt.plot(SGD_history.history['val_acc'])\n",
    "plt.title('SGD Model accuracy')\n",
    "plt.ylabel('Accuracy')\n",
    "plt.xlabel('Epoch')\n",
    "plt.legend(['Train', 'Valiidation'], loc='upper left')\n",
    "\n",
    "# Plot training & validation loss values\n",
    "plt.subplot(2,2,2)\n",
    "plt.plot(SGD_history.history['loss'])\n",
    "plt.plot(SGD_history.history['val_loss'])\n",
    "plt.title('SGD Model loss')\n",
    "plt.ylabel('Loss')\n",
    "plt.xlabel('Epoch')\n",
    "plt.legend(['Train', 'Valiidation'], loc='upper left')\n",
    "plt.show()\n",
    "\n",
    "\n",
    "plt.subplot(2,2,3)\n",
    "plt.plot(RMSprop_history.history['acc'])\n",
    "plt.plot(RMSprop_history.history['val_acc'])\n",
    "plt.title('RMSprop Model accuracy')\n",
    "plt.ylabel('Accuracy')\n",
    "plt.xlabel('Epoch')\n",
    "plt.legend(['Train', 'Valiidation'], loc='upper left')\n",
    "\n",
    "plt.subplot(2,2,4)\n",
    "plt.plot(RMSprop_history.history['loss'])\n",
    "plt.plot(RMSprop_history.history['val_loss'])\n",
    "plt.title('RMSprop Model loss')\n",
    "plt.ylabel('Loss')\n",
    "plt.xlabel('Epoch')\n",
    "plt.legend(['Train', 'Valiidation'], loc='upper left')\n",
    "plt.show()"
   ]
  },
  {
   "cell_type": "markdown",
   "metadata": {},
   "source": [
    "#### Result\n",
    "- Adam Accuracy大約落在78%\n",
    "- SGD Accuracy大約落在75%\n",
    "- RMSprop Accuracy大約落在75% (Learning_Rate相較於上述兩個要小很多)"
   ]
  }
 ],
 "metadata": {
  "kernelspec": {
   "display_name": "Python 3",
   "language": "python",
   "name": "python3"
  },
  "language_info": {
   "codemirror_mode": {
    "name": "ipython",
    "version": 3
   },
   "file_extension": ".py",
   "mimetype": "text/x-python",
   "name": "python",
   "nbconvert_exporter": "python",
   "pygments_lexer": "ipython3",
   "version": "3.6.8"
  }
 },
 "nbformat": 4,
 "nbformat_minor": 2
}
