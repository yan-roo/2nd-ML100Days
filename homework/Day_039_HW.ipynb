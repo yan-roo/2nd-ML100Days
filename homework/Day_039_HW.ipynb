{
 "cells": [
  {
   "cell_type": "markdown",
   "metadata": {},
   "source": [
    "## [作業重點]\n",
    "清楚了解 L1, L2 的意義與差異為何，並了解 LASSO 與 Ridge 之間的差異與使用情境"
   ]
  },
  {
   "cell_type": "markdown",
   "metadata": {},
   "source": [
    "## 作業"
   ]
  },
  {
   "cell_type": "markdown",
   "metadata": {},
   "source": [
    "請閱讀相關文獻，並回答下列問題\n",
    "\n",
    "[脊回歸 (Ridge Regression)](https://blog.csdn.net/daunxx/article/details/51578787)\n",
    "[Linear, Ridge, Lasso Regression 本質區別](https://www.zhihu.com/question/38121173)"
   ]
  },
  {
   "cell_type": "markdown",
   "metadata": {},
   "source": [
    "1. LASSO 回歸可以被用來作為 Feature selection 的工具，請了解 LASSO 模型為什麼可用來作 Feature selection<br>\n",
    "\n",
    "\n",
    "**Your answer:** *LASSO回歸是在回歸係數加入了L1懲罰，能讓其中的許多參數趨於零(不重要的特徵)，便完成了Feature selection。任何回歸係數不為零的特徵都會被LASSO算法「選中」。*\n",
    "\n",
    "\n",
    "[Linear, Ridge, Lasso Regression 本質區別](https://www.zhihu.com/question/38121173)\n",
    "LASSO是針對Ridge Regression的沒法做variable selection的問題提出來的，L1 penalty雖然算起來麻煩，沒有解析解，但是可以把某些係數shrink到0啊。<br>\n",
    "![img](https://pic3.zhimg.com/v2-2a88e2acc009fa4de3edeb51e683ca02_r.jpg)"
   ]
  },
  {
   "cell_type": "markdown",
   "metadata": {},
   "source": [
    "2. 當自變數 (X) 存在高度共線性時，Ridge Regression 可以處理這樣的問題嗎?\n",
    "\n",
    "**Your answer:** *[脊回歸 (Ridge Regression)](https://blog.csdn.net/daunxx/article/details/51578787)當使用最小二乘法計算線性回歸模型參數的時候，如果資料集合矩陣（也叫做設計矩陣(design matrix)）X，存在多重共線性，那麼最小二乘法對輸入變數中的雜訊非常的敏感，其解會極為不穩定。為了解決這個問題，就有了這一節脊回歸（Ridge Regression ）。*\n",
    "\n",
    "__在線性回歸中，要求出W值必須對X求反矩陣(y=WX)，但是如果X裡面的特徵有高度相關性(類似相似)，X的反矩陣就不存在。<br>\n",
    "而Ridge Regression能縮減X的高度相關性，進而求出X的反矩陣。__"
   ]
  }
 ],
 "metadata": {
  "kernelspec": {
   "display_name": "Python 3",
   "language": "python",
   "name": "python3"
  },
  "language_info": {
   "codemirror_mode": {
    "name": "ipython",
    "version": 3
   },
   "file_extension": ".py",
   "mimetype": "text/x-python",
   "name": "python",
   "nbconvert_exporter": "python",
   "pygments_lexer": "ipython3",
   "version": "3.6.8"
  }
 },
 "nbformat": 4,
 "nbformat_minor": 2
}
