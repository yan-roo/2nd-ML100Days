{
 "cells": [
  {
   "cell_type": "markdown",
   "metadata": {
    "collapsed": true
   },
   "source": [
    "# 範例 : 計程車費率預測\n",
    "https://www.kaggle.com/c/new-york-city-taxi-fare-prediction"
   ]
  },
  {
   "cell_type": "markdown",
   "metadata": {},
   "source": [
    "# [教學目標]\n",
    "- 使用並觀察特徵組合, 在計程車費率預測競賽的影響"
   ]
  },
  {
   "cell_type": "markdown",
   "metadata": {},
   "source": [
    "# [範例重點]\n",
    "- 增加精度差與緯度差兩個特徵, 觀察線性迴歸與梯度提升樹的預測結果有什麼影響 (In[4], Out[4], In[5], Out[5]) \n",
    "- 再增加座標距離特徵, 觀察線性迴歸與梯度提升樹的預測結果有什麼影響 (In[6], Out[6], In[7], Out[7])"
   ]
  },
  {
   "cell_type": "code",
   "execution_count": 1,
   "metadata": {},
   "outputs": [
    {
     "data": {
      "text/html": [
       "<div>\n",
       "<style scoped>\n",
       "    .dataframe tbody tr th:only-of-type {\n",
       "        vertical-align: middle;\n",
       "    }\n",
       "\n",
       "    .dataframe tbody tr th {\n",
       "        vertical-align: top;\n",
       "    }\n",
       "\n",
       "    .dataframe thead th {\n",
       "        text-align: right;\n",
       "    }\n",
       "</style>\n",
       "<table border=\"1\" class=\"dataframe\">\n",
       "  <thead>\n",
       "    <tr style=\"text-align: right;\">\n",
       "      <th></th>\n",
       "      <th>pickup_datetime</th>\n",
       "      <th>pickup_longitude</th>\n",
       "      <th>pickup_latitude</th>\n",
       "      <th>dropoff_longitude</th>\n",
       "      <th>dropoff_latitude</th>\n",
       "      <th>passenger_count</th>\n",
       "    </tr>\n",
       "  </thead>\n",
       "  <tbody>\n",
       "    <tr>\n",
       "      <th>0</th>\n",
       "      <td>2011-10-21 23:54:10 UTC</td>\n",
       "      <td>-73.990580</td>\n",
       "      <td>40.761071</td>\n",
       "      <td>-73.981128</td>\n",
       "      <td>40.758634</td>\n",
       "      <td>2</td>\n",
       "    </tr>\n",
       "    <tr>\n",
       "      <th>1</th>\n",
       "      <td>2015-02-03 10:42:03 UTC</td>\n",
       "      <td>-73.988403</td>\n",
       "      <td>40.723431</td>\n",
       "      <td>-73.989647</td>\n",
       "      <td>40.741695</td>\n",
       "      <td>1</td>\n",
       "    </tr>\n",
       "    <tr>\n",
       "      <th>2</th>\n",
       "      <td>2014-03-16 18:58:58 UTC</td>\n",
       "      <td>-74.015785</td>\n",
       "      <td>40.715110</td>\n",
       "      <td>-74.012029</td>\n",
       "      <td>40.707888</td>\n",
       "      <td>2</td>\n",
       "    </tr>\n",
       "    <tr>\n",
       "      <th>3</th>\n",
       "      <td>2009-06-13 16:10:54 UTC</td>\n",
       "      <td>-73.977322</td>\n",
       "      <td>40.787275</td>\n",
       "      <td>-73.958030</td>\n",
       "      <td>40.778838</td>\n",
       "      <td>3</td>\n",
       "    </tr>\n",
       "    <tr>\n",
       "      <th>4</th>\n",
       "      <td>2014-06-12 03:25:56 UTC</td>\n",
       "      <td>-73.989683</td>\n",
       "      <td>40.729717</td>\n",
       "      <td>-73.982490</td>\n",
       "      <td>40.761887</td>\n",
       "      <td>3</td>\n",
       "    </tr>\n",
       "  </tbody>\n",
       "</table>\n",
       "</div>"
      ],
      "text/plain": [
       "           pickup_datetime  pickup_longitude  pickup_latitude  \\\n",
       "0  2011-10-21 23:54:10 UTC        -73.990580        40.761071   \n",
       "1  2015-02-03 10:42:03 UTC        -73.988403        40.723431   \n",
       "2  2014-03-16 18:58:58 UTC        -74.015785        40.715110   \n",
       "3  2009-06-13 16:10:54 UTC        -73.977322        40.787275   \n",
       "4  2014-06-12 03:25:56 UTC        -73.989683        40.729717   \n",
       "\n",
       "   dropoff_longitude  dropoff_latitude  passenger_count  \n",
       "0         -73.981128         40.758634                2  \n",
       "1         -73.989647         40.741695                1  \n",
       "2         -74.012029         40.707888                2  \n",
       "3         -73.958030         40.778838                3  \n",
       "4         -73.982490         40.761887                3  "
      ]
     },
     "execution_count": 1,
     "metadata": {},
     "output_type": "execute_result"
    }
   ],
   "source": [
    "# 做完特徵工程前的所有準備\n",
    "import pandas as pd\n",
    "import numpy as np\n",
    "import datetime\n",
    "from sklearn.preprocessing import MinMaxScaler\n",
    "from sklearn.model_selection import cross_val_score\n",
    "from sklearn.linear_model import LinearRegression\n",
    "from sklearn.ensemble import GradientBoostingRegressor\n",
    "\n",
    "import warnings\n",
    "warnings.filterwarnings('ignore')\n",
    "\n",
    "data_path = '../data/'\n",
    "df = pd.read_csv(data_path + 'taxi_data1.csv')\n",
    "\n",
    "train_Y = df['fare_amount']\n",
    "df = df.drop(['fare_amount'] , axis=1)\n",
    "df.head()"
   ]
  },
  {
   "cell_type": "code",
   "execution_count": 2,
   "metadata": {},
   "outputs": [
    {
     "data": {
      "text/html": [
       "<div>\n",
       "<style scoped>\n",
       "    .dataframe tbody tr th:only-of-type {\n",
       "        vertical-align: middle;\n",
       "    }\n",
       "\n",
       "    .dataframe tbody tr th {\n",
       "        vertical-align: top;\n",
       "    }\n",
       "\n",
       "    .dataframe thead th {\n",
       "        text-align: right;\n",
       "    }\n",
       "</style>\n",
       "<table border=\"1\" class=\"dataframe\">\n",
       "  <thead>\n",
       "    <tr style=\"text-align: right;\">\n",
       "      <th></th>\n",
       "      <th>pickup_datetime</th>\n",
       "      <th>pickup_longitude</th>\n",
       "      <th>pickup_latitude</th>\n",
       "      <th>dropoff_longitude</th>\n",
       "      <th>dropoff_latitude</th>\n",
       "      <th>passenger_count</th>\n",
       "      <th>pickup_year</th>\n",
       "      <th>pickup_month</th>\n",
       "      <th>pickup_day</th>\n",
       "      <th>pickup_hour</th>\n",
       "      <th>pickup_minute</th>\n",
       "      <th>pickup_second</th>\n",
       "    </tr>\n",
       "  </thead>\n",
       "  <tbody>\n",
       "    <tr>\n",
       "      <th>0</th>\n",
       "      <td>2011-10-21 23:54:10</td>\n",
       "      <td>-73.990580</td>\n",
       "      <td>40.761071</td>\n",
       "      <td>-73.981128</td>\n",
       "      <td>40.758634</td>\n",
       "      <td>2</td>\n",
       "      <td>2011</td>\n",
       "      <td>10</td>\n",
       "      <td>21</td>\n",
       "      <td>23</td>\n",
       "      <td>54</td>\n",
       "      <td>10</td>\n",
       "    </tr>\n",
       "    <tr>\n",
       "      <th>1</th>\n",
       "      <td>2015-02-03 10:42:03</td>\n",
       "      <td>-73.988403</td>\n",
       "      <td>40.723431</td>\n",
       "      <td>-73.989647</td>\n",
       "      <td>40.741695</td>\n",
       "      <td>1</td>\n",
       "      <td>2015</td>\n",
       "      <td>2</td>\n",
       "      <td>3</td>\n",
       "      <td>10</td>\n",
       "      <td>42</td>\n",
       "      <td>3</td>\n",
       "    </tr>\n",
       "    <tr>\n",
       "      <th>2</th>\n",
       "      <td>2014-03-16 18:58:58</td>\n",
       "      <td>-74.015785</td>\n",
       "      <td>40.715110</td>\n",
       "      <td>-74.012029</td>\n",
       "      <td>40.707888</td>\n",
       "      <td>2</td>\n",
       "      <td>2014</td>\n",
       "      <td>3</td>\n",
       "      <td>16</td>\n",
       "      <td>18</td>\n",
       "      <td>58</td>\n",
       "      <td>58</td>\n",
       "    </tr>\n",
       "    <tr>\n",
       "      <th>3</th>\n",
       "      <td>2009-06-13 16:10:54</td>\n",
       "      <td>-73.977322</td>\n",
       "      <td>40.787275</td>\n",
       "      <td>-73.958030</td>\n",
       "      <td>40.778838</td>\n",
       "      <td>3</td>\n",
       "      <td>2009</td>\n",
       "      <td>6</td>\n",
       "      <td>13</td>\n",
       "      <td>16</td>\n",
       "      <td>10</td>\n",
       "      <td>54</td>\n",
       "    </tr>\n",
       "    <tr>\n",
       "      <th>4</th>\n",
       "      <td>2014-06-12 03:25:56</td>\n",
       "      <td>-73.989683</td>\n",
       "      <td>40.729717</td>\n",
       "      <td>-73.982490</td>\n",
       "      <td>40.761887</td>\n",
       "      <td>3</td>\n",
       "      <td>2014</td>\n",
       "      <td>6</td>\n",
       "      <td>12</td>\n",
       "      <td>3</td>\n",
       "      <td>25</td>\n",
       "      <td>56</td>\n",
       "    </tr>\n",
       "  </tbody>\n",
       "</table>\n",
       "</div>"
      ],
      "text/plain": [
       "      pickup_datetime  pickup_longitude  pickup_latitude  dropoff_longitude  \\\n",
       "0 2011-10-21 23:54:10        -73.990580        40.761071         -73.981128   \n",
       "1 2015-02-03 10:42:03        -73.988403        40.723431         -73.989647   \n",
       "2 2014-03-16 18:58:58        -74.015785        40.715110         -74.012029   \n",
       "3 2009-06-13 16:10:54        -73.977322        40.787275         -73.958030   \n",
       "4 2014-06-12 03:25:56        -73.989683        40.729717         -73.982490   \n",
       "\n",
       "   dropoff_latitude  passenger_count  pickup_year  pickup_month  pickup_day  \\\n",
       "0         40.758634                2         2011            10          21   \n",
       "1         40.741695                1         2015             2           3   \n",
       "2         40.707888                2         2014             3          16   \n",
       "3         40.778838                3         2009             6          13   \n",
       "4         40.761887                3         2014             6          12   \n",
       "\n",
       "   pickup_hour  pickup_minute  pickup_second  \n",
       "0           23             54             10  \n",
       "1           10             42              3  \n",
       "2           18             58             58  \n",
       "3           16             10             54  \n",
       "4            3             25             56  "
      ]
     },
     "execution_count": 2,
     "metadata": {},
     "output_type": "execute_result"
    }
   ],
   "source": [
    "# 時間特徵分解方式:使用datetime\n",
    "df['pickup_datetime'] = df['pickup_datetime'].apply(lambda x: datetime.datetime.strptime(x, '%Y-%m-%d %H:%M:%S UTC'))\n",
    "df['pickup_year'] = df['pickup_datetime'].apply(lambda x: datetime.datetime.strftime(x, '%Y')).astype('int64')\n",
    "df['pickup_month'] = df['pickup_datetime'].apply(lambda x: datetime.datetime.strftime(x, '%m')).astype('int64')\n",
    "df['pickup_day'] = df['pickup_datetime'].apply(lambda x: datetime.datetime.strftime(x, '%d')).astype('int64')\n",
    "df['pickup_hour'] = df['pickup_datetime'].apply(lambda x: datetime.datetime.strftime(x, '%H')).astype('int64')\n",
    "df['pickup_minute'] = df['pickup_datetime'].apply(lambda x: datetime.datetime.strftime(x, '%M')).astype('int64')\n",
    "df['pickup_second'] = df['pickup_datetime'].apply(lambda x: datetime.datetime.strftime(x, '%S')).astype('int64')\n",
    "df.head()"
   ]
  },
  {
   "cell_type": "code",
   "execution_count": 3,
   "metadata": {},
   "outputs": [
    {
     "name": "stdout",
     "output_type": "stream",
     "text": [
      "Linear Reg Score : 0.026876871475641616\n",
      "Gradient Boosting Reg Score : 0.7117954336575305\n"
     ]
    }
   ],
   "source": [
    "# 將結果使用線性迴歸 / 梯度提升樹分別看結果\n",
    "df = df.drop(['pickup_datetime'] , axis=1)\n",
    "scaler = MinMaxScaler()\n",
    "train_X = scaler.fit_transform(df)\n",
    "\n",
    "Linear = LinearRegression()\n",
    "linear_time_score = cross_val_score(Linear, train_X, train_Y, cv=5).mean()\n",
    "print(\"Linear Reg Score : {s}\".format(s=linear_time_score))\n",
    "#print(f'Linear Reg Score : {cross_val_score(Linear, train_X, train_Y, cv=5).mean()}')\n",
    "\n",
    "GDBT = GradientBoostingRegressor()\n",
    "tree_time_score = cross_val_score(GDBT, train_X, train_Y, cv=5).mean()\n",
    "print(\"Gradient Boosting Reg Score : {s}\".format(s=tree_time_score))\n",
    "#print(f'Gradient Boosting Reg Score : {cross_val_score(GDBT, train_X, train_Y, cv=5).mean()}')"
   ]
  },
  {
   "cell_type": "code",
   "execution_count": 4,
   "metadata": {},
   "outputs": [
    {
     "data": {
      "text/html": [
       "<div>\n",
       "<style scoped>\n",
       "    .dataframe tbody tr th:only-of-type {\n",
       "        vertical-align: middle;\n",
       "    }\n",
       "\n",
       "    .dataframe tbody tr th {\n",
       "        vertical-align: top;\n",
       "    }\n",
       "\n",
       "    .dataframe thead th {\n",
       "        text-align: right;\n",
       "    }\n",
       "</style>\n",
       "<table border=\"1\" class=\"dataframe\">\n",
       "  <thead>\n",
       "    <tr style=\"text-align: right;\">\n",
       "      <th></th>\n",
       "      <th>longitude_diff</th>\n",
       "      <th>latitude_diff</th>\n",
       "      <th>pickup_longitude</th>\n",
       "      <th>pickup_latitude</th>\n",
       "      <th>dropoff_longitude</th>\n",
       "      <th>dropoff_latitude</th>\n",
       "    </tr>\n",
       "  </thead>\n",
       "  <tbody>\n",
       "    <tr>\n",
       "      <th>0</th>\n",
       "      <td>0.009452</td>\n",
       "      <td>-0.002437</td>\n",
       "      <td>-73.990580</td>\n",
       "      <td>40.761071</td>\n",
       "      <td>-73.981128</td>\n",
       "      <td>40.758634</td>\n",
       "    </tr>\n",
       "    <tr>\n",
       "      <th>1</th>\n",
       "      <td>-0.001244</td>\n",
       "      <td>0.018265</td>\n",
       "      <td>-73.988403</td>\n",
       "      <td>40.723431</td>\n",
       "      <td>-73.989647</td>\n",
       "      <td>40.741695</td>\n",
       "    </tr>\n",
       "    <tr>\n",
       "      <th>2</th>\n",
       "      <td>0.003756</td>\n",
       "      <td>-0.007222</td>\n",
       "      <td>-74.015785</td>\n",
       "      <td>40.715110</td>\n",
       "      <td>-74.012029</td>\n",
       "      <td>40.707888</td>\n",
       "    </tr>\n",
       "    <tr>\n",
       "      <th>3</th>\n",
       "      <td>0.019292</td>\n",
       "      <td>-0.008437</td>\n",
       "      <td>-73.977322</td>\n",
       "      <td>40.787275</td>\n",
       "      <td>-73.958030</td>\n",
       "      <td>40.778838</td>\n",
       "    </tr>\n",
       "    <tr>\n",
       "      <th>4</th>\n",
       "      <td>0.007193</td>\n",
       "      <td>0.032170</td>\n",
       "      <td>-73.989683</td>\n",
       "      <td>40.729717</td>\n",
       "      <td>-73.982490</td>\n",
       "      <td>40.761887</td>\n",
       "    </tr>\n",
       "  </tbody>\n",
       "</table>\n",
       "</div>"
      ],
      "text/plain": [
       "   longitude_diff  latitude_diff  pickup_longitude  pickup_latitude  \\\n",
       "0        0.009452      -0.002437        -73.990580        40.761071   \n",
       "1       -0.001244       0.018265        -73.988403        40.723431   \n",
       "2        0.003756      -0.007222        -74.015785        40.715110   \n",
       "3        0.019292      -0.008437        -73.977322        40.787275   \n",
       "4        0.007193       0.032170        -73.989683        40.729717   \n",
       "\n",
       "   dropoff_longitude  dropoff_latitude  \n",
       "0         -73.981128         40.758634  \n",
       "1         -73.989647         40.741695  \n",
       "2         -74.012029         40.707888  \n",
       "3         -73.958030         40.778838  \n",
       "4         -73.982490         40.761887  "
      ]
     },
     "execution_count": 4,
     "metadata": {},
     "output_type": "execute_result"
    }
   ],
   "source": [
    "# 增加緯度差, 經度差兩個特徵\n",
    "df['longitude_diff'] = df['dropoff_longitude'] - df['pickup_longitude']\n",
    "df['latitude_diff'] = df['dropoff_latitude'] - df['pickup_latitude']\n",
    "df[['longitude_diff', 'latitude_diff', 'pickup_longitude', 'pickup_latitude', 'dropoff_longitude', 'dropoff_latitude']].head()"
   ]
  },
  {
   "cell_type": "code",
   "execution_count": 5,
   "metadata": {},
   "outputs": [
    {
     "name": "stdout",
     "output_type": "stream",
     "text": [
      "Linear Reg Score : 0.026922682001443564\n",
      "Gradient Boosting Reg Score : 0.7966844863474172\n"
     ]
    }
   ],
   "source": [
    "# 結果 : 光是用經緯度差, 準確度就有巨幅上升\n",
    "train_X = scaler.fit_transform(df)\n",
    "\n",
    "linear_time_Ddiff_score = cross_val_score(Linear, train_X, train_Y, cv=5).mean()\n",
    "tree_time_Ddiff_score = cross_val_score(GDBT, train_X, train_Y, cv=5).mean()\n",
    "print(\"Linear Reg Score : {s}\".format(s=linear_time_Ddiff_score))\n",
    "print(\"Gradient Boosting Reg Score : {s}\".format(s=tree_time_Ddiff_score))\n",
    "#print(f'Linear Reg Score : {cross_val_score(Linear, train_X, train_Y, cv=5).mean()}')\n",
    "#print(f'Gradient Boosting Reg Score : {cross_val_score(GDBT, train_X, train_Y, cv=5).mean()}')"
   ]
  },
  {
   "cell_type": "code",
   "execution_count": 6,
   "metadata": {},
   "outputs": [
    {
     "data": {
      "text/html": [
       "<div>\n",
       "<style scoped>\n",
       "    .dataframe tbody tr th:only-of-type {\n",
       "        vertical-align: middle;\n",
       "    }\n",
       "\n",
       "    .dataframe tbody tr th {\n",
       "        vertical-align: top;\n",
       "    }\n",
       "\n",
       "    .dataframe thead th {\n",
       "        text-align: right;\n",
       "    }\n",
       "</style>\n",
       "<table border=\"1\" class=\"dataframe\">\n",
       "  <thead>\n",
       "    <tr style=\"text-align: right;\">\n",
       "      <th></th>\n",
       "      <th>distance_2D</th>\n",
       "      <th>longitude_diff</th>\n",
       "      <th>latitude_diff</th>\n",
       "    </tr>\n",
       "  </thead>\n",
       "  <tbody>\n",
       "    <tr>\n",
       "      <th>0</th>\n",
       "      <td>0.009761</td>\n",
       "      <td>0.009452</td>\n",
       "      <td>-0.002437</td>\n",
       "    </tr>\n",
       "    <tr>\n",
       "      <th>1</th>\n",
       "      <td>0.018307</td>\n",
       "      <td>-0.001244</td>\n",
       "      <td>0.018265</td>\n",
       "    </tr>\n",
       "    <tr>\n",
       "      <th>2</th>\n",
       "      <td>0.008140</td>\n",
       "      <td>0.003756</td>\n",
       "      <td>-0.007222</td>\n",
       "    </tr>\n",
       "    <tr>\n",
       "      <th>3</th>\n",
       "      <td>0.021056</td>\n",
       "      <td>0.019292</td>\n",
       "      <td>-0.008437</td>\n",
       "    </tr>\n",
       "    <tr>\n",
       "      <th>4</th>\n",
       "      <td>0.032964</td>\n",
       "      <td>0.007193</td>\n",
       "      <td>0.032170</td>\n",
       "    </tr>\n",
       "  </tbody>\n",
       "</table>\n",
       "</div>"
      ],
      "text/plain": [
       "   distance_2D  longitude_diff  latitude_diff\n",
       "0     0.009761        0.009452      -0.002437\n",
       "1     0.018307       -0.001244       0.018265\n",
       "2     0.008140        0.003756      -0.007222\n",
       "3     0.021056        0.019292      -0.008437\n",
       "4     0.032964        0.007193       0.032170"
      ]
     },
     "execution_count": 6,
     "metadata": {},
     "output_type": "execute_result"
    }
   ],
   "source": [
    "# 增加座標距離特徵\n",
    "df['distance_2D'] = (df['longitude_diff']**2 + df['latitude_diff']**2)**0.5\n",
    "df[['distance_2D', 'longitude_diff', 'latitude_diff']].head()"
   ]
  },
  {
   "cell_type": "code",
   "execution_count": 7,
   "metadata": {},
   "outputs": [
    {
     "name": "stdout",
     "output_type": "stream",
     "text": [
      "Linear Reg Score : 0.027479693774541868\n",
      "Gradient Boosting Reg Score : 0.8055651666040233\n"
     ]
    }
   ],
   "source": [
    "# 結果 : 加上座標距離後, 準確度再度上升(包含線性迴歸)\n",
    "train_X = scaler.fit_transform(df)\n",
    "linear_time_Ddif_2D_score = cross_val_score(Linear, train_X, train_Y, cv=5).mean()\n",
    "tree_time_Ddif_2D_score = cross_val_score(GDBT, train_X, train_Y, cv=5).mean()\n",
    "print(\"Linear Reg Score : {s}\".format(s=linear_time_Ddif_2D_score))\n",
    "print(\"Gradient Boosting Reg Score : {s}\".format(s=tree_time_Ddif_2D_score))\n",
    "#print(f'Linear Reg Score : {cross_val_score(Linear, train_X, train_Y, cv=5).mean()}')\n",
    "#print(f'Gradient Boosting Reg Score : {cross_val_score(GDBT, train_X, train_Y, cv=5).mean()}')"
   ]
  },
  {
   "cell_type": "markdown",
   "metadata": {},
   "source": [
    "# [作業重點]\n",
    "- 仿造範例並參考今日課程內容, 使用經緯度一圈的長度比的概念造出新特徵, 觀察有什麼影響 (In[8], Out[8])\n",
    "- 只使用上面所造的這個新特徵, 觀察有什麼影響 (In[13], Out[13])"
   ]
  },
  {
   "cell_type": "markdown",
   "metadata": {},
   "source": [
    "# 作業1\n",
    "* 參考今日教材，試著使用經緯度一圈的長度比這一概念，組合出一個新特徵，再觀察原特徵加上新特徵是否提升了正確率?\n",
    "\n",
    "\n",
    "\n",
    "**Your answer:** *增加新特徵(經緯度真實長度) 反而降低正確率*"
   ]
  },
  {
   "cell_type": "code",
   "execution_count": 8,
   "metadata": {},
   "outputs": [
    {
     "name": "stdout",
     "output_type": "stream",
     "text": [
      "Linear Reg Score : 0.02523573872638458\n",
      "Gradient Boosting Reg Score : 0.8039312746889067\n"
     ]
    }
   ],
   "source": [
    "import math\n",
    "\"\"\"\n",
    "Your Code Here, set new character at df['distance_real']\n",
    "\n",
    "觀察資料緯度集中在 40.75 度附近\n",
    "可以算得經度與緯度代表的長度比為 cos(40.75度) : 1 = 0.75756 : 1\n",
    "由此校正後的兩兩地距離，預測正確度更更⾼高\n",
    "\"\"\"\n",
    "df['distance_real'] = ((df['longitude_diff']*0.75756)**2 + (df['latitude_diff']*1)**2 ) **0.5\n",
    "\n",
    "# 觀察結果 \n",
    "train_X = scaler.fit_transform(df)\n",
    "linear_time_Ddif_2D_real2D_score = cross_val_score(Linear, train_X, train_Y, cv=5).mean()\n",
    "tree_time_Ddif_2D_real2D_score = cross_val_score(GDBT, train_X, train_Y, cv=5).mean()\n",
    "\n",
    "print(\"Linear Reg Score : {s}\".format(s=linear_time_Ddif_2D_real2D_score))\n",
    "print(\"Gradient Boosting Reg Score : {s}\".format(s=tree_time_Ddif_2D_real2D_score))\n",
    "#print(f'Linear Reg Score : {cross_val_score(Linear, train_X, train_Y, cv=5).mean()}')\n",
    "#print(f'Gradient Boosting Reg Score : {cross_val_score(GDBT, train_X, train_Y, cv=5).mean()}')"
   ]
  },
  {
   "cell_type": "markdown",
   "metadata": {},
   "source": [
    "## [Haversine 半正矢公式](https://en.wikipedia.org/wiki/Haversine_formula)"
   ]
  },
  {
   "cell_type": "code",
   "execution_count": 9,
   "metadata": {},
   "outputs": [],
   "source": [
    "def haversine(lon1, lon2, lat1, lat2):\n",
    "    \n",
    "    #將經位度度數轉換成 弧度\n",
    "    lon1, lon2, lat1, lat2 = map(math.radians, [lon1, lon2, lat1, lat2])\n",
    "    \n",
    "    r = 6371 #地球半徑 (公里)\n",
    "    \n",
    "    hav_lon = (math.sin((lon2-lon1)/2))**2 #harversine半正矢函數 代入經緯度差\n",
    "    hav_lat = (math.sin((lat2-lat1)/2))**2\n",
    "    \n",
    "    d = 2*r*math.asin((hav_lat + math.cos(lat1) * math.cos(lat2) * hav_lon)**0.5)\n",
    "    \n",
    "    return d"
   ]
  },
  {
   "cell_type": "code",
   "execution_count": 10,
   "metadata": {},
   "outputs": [
    {
     "name": "stdout",
     "output_type": "stream",
     "text": [
      "Linear Reg Score : 0.3673501080423339\n",
      "Gradient Boosting Reg Score : 0.8043916433506462\n"
     ]
    }
   ],
   "source": [
    "import copy\n",
    "\n",
    "df_temp = copy.deepcopy(df)\n",
    "df_temp['distance_real'] = list(map(haversine, df['pickup_longitude'], df['dropoff_longitude'], df['pickup_latitude'], df['dropoff_latitude']))\n",
    "# 觀察結果 \n",
    "train_X = scaler.fit_transform(df_temp)\n",
    "linear_time_Ddif_2D_haversine_score = cross_val_score(Linear, train_X, train_Y, cv=5).mean()\n",
    "tree_time_Ddif_2D_haversine_score = cross_val_score(GDBT, train_X, train_Y, cv=5).mean()\n",
    "\n",
    "print(\"Linear Reg Score : {s}\".format(s=linear_time_Ddif_2D_haversine_score))\n",
    "print(\"Gradient Boosting Reg Score : {s}\".format(s=tree_time_Ddif_2D_haversine_score))\n",
    "#print(f'Linear Reg Score : {cross_val_score(Linear, train_X, train_Y, cv=5).mean()}')\n",
    "#print(f'Gradient Boosting Reg Score : {cross_val_score(GDBT, train_X, train_Y, cv=5).mean()}')"
   ]
  },
  {
   "cell_type": "markdown",
   "metadata": {},
   "source": [
    "### 以兩點真實距離 取代 兩點歐幾里得距離"
   ]
  },
  {
   "cell_type": "code",
   "execution_count": 11,
   "metadata": {},
   "outputs": [
    {
     "name": "stdout",
     "output_type": "stream",
     "text": [
      "Linear Reg Score : 0.02742580852964984\n",
      "Gradient Boosting Reg Score : 0.8071243903002323\n"
     ]
    }
   ],
   "source": [
    "df = df.drop(['distance_2D'], axis=1)\n",
    "\n",
    "# 觀察結果 \n",
    "train_X = scaler.fit_transform(df)\n",
    "linear_time_Ddif_real2D_score = cross_val_score(Linear, train_X, train_Y, cv=5).mean()\n",
    "tree_time_Ddif_real2D_score = cross_val_score(GDBT, train_X, train_Y, cv=5).mean()\n",
    "\n",
    "print(\"Linear Reg Score : {s}\".format(s=linear_time_Ddif_real2D_score))\n",
    "print(\"Gradient Boosting Reg Score : {s}\".format(s=tree_time_Ddif_real2D_score))\n",
    "#print(f'Linear Reg Score : {cross_val_score(Linear, train_X, train_Y, cv=5).mean()}')\n",
    "#print(f'Gradient Boosting Reg Score : {cross_val_score(GDBT, train_X, train_Y, cv=5).mean()}')"
   ]
  },
  {
   "cell_type": "code",
   "execution_count": 12,
   "metadata": {},
   "outputs": [
    {
     "name": "stdout",
     "output_type": "stream",
     "text": [
      "Linear Reg Score : 0.027188071191767228\n",
      "Gradient Boosting Reg Score : 0.8048081527773657\n"
     ]
    }
   ],
   "source": [
    "df_temp = df_temp.drop(['distance_2D'], axis=1)\n",
    "\n",
    "# 觀察結果 \n",
    "train_X = scaler.fit_transform(df_temp)\n",
    "linear_time_Ddif_haversine_score = cross_val_score(Linear, train_X, train_Y, cv=5).mean()\n",
    "tree_time_Ddif_haversine_score = cross_val_score(GDBT, train_X, train_Y, cv=5).mean()\n",
    "\n",
    "print(\"Linear Reg Score : {s}\".format(s=linear_time_Ddif_haversine_score))\n",
    "print(\"Gradient Boosting Reg Score : {s}\".format(s=tree_time_Ddif_haversine_score))\n",
    "#print(f'Linear Reg Score : {cross_val_score(Linear, train_X, train_Y, cv=5).mean()}')\n",
    "#print(f'Gradient Boosting Reg Score : {cross_val_score(GDBT, train_X, train_Y, cv=5).mean()}')"
   ]
  },
  {
   "cell_type": "markdown",
   "metadata": {
    "collapsed": true
   },
   "source": [
    "# 作業2\n",
    "* 試著只使用新特徵估計目標值(忽略原特徵)，效果跟作業1的結果比較起來效果如何?\n",
    "\n",
    "\n",
    "**Your answer:** *只採用新特徵值估計 可以達到七成正確率  但依舊比作業1還低*"
   ]
  },
  {
   "cell_type": "code",
   "execution_count": 13,
   "metadata": {},
   "outputs": [
    {
     "name": "stdout",
     "output_type": "stream",
     "text": [
      "Linear Reg Score : 0.0014467562845988714\n",
      "Gradient Boosting Reg Score : 0.7221194640622727\n"
     ]
    }
   ],
   "source": [
    "train_X = scaler.fit_transform(df[['distance_real']])\n",
    "\n",
    "linear_real2D_score = cross_val_score(Linear, train_X, train_Y, cv=5).mean()\n",
    "tree_real2D_score = cross_val_score(GDBT, train_X, train_Y, cv=5).mean()\n",
    "\n",
    "print(\"Linear Reg Score : {s}\".format(s=linear_real2D_score))\n",
    "print(\"Gradient Boosting Reg Score : {s}\".format(s=tree_real2D_score))\n",
    "#print(f'Linear Reg Score : {cross_val_score(Linear, train_X, train_Y, cv=5).mean()}')\n",
    "#print(f'Gradient Boosting Reg Score : {cross_val_score(GDBT, train_X, train_Y, cv=5).mean()}')"
   ]
  },
  {
   "cell_type": "code",
   "execution_count": 14,
   "metadata": {},
   "outputs": [
    {
     "name": "stdout",
     "output_type": "stream",
     "text": [
      "Linear Reg Score : 0.0011536096142396256\n",
      "Gradient Boosting Reg Score : 0.715704780543987\n"
     ]
    }
   ],
   "source": [
    "train_X = scaler.fit_transform(df_temp[['distance_real']])\n",
    "\n",
    "linear_haversine_score = cross_val_score(Linear, train_X, train_Y, cv=5).mean()\n",
    "tree_haversine_score = cross_val_score(GDBT, train_X, train_Y, cv=5).mean()\n",
    "\n",
    "print(\"Linear Reg Score : {s}\".format(s=linear_haversine_score))\n",
    "print(\"Gradient Boosting Reg Score : {s}\".format(s=tree_haversine_score))\n",
    "#print(f'Linear Reg Score : {cross_val_score(Linear, train_X, train_Y, cv=5).mean()}')\n",
    "#print(f'Gradient Boosting Reg Score : {cross_val_score(GDBT, train_X, train_Y, cv=5).mean()}')"
   ]
  },
  {
   "cell_type": "code",
   "execution_count": 15,
   "metadata": {},
   "outputs": [
    {
     "data": {
      "text/html": [
       "<div>\n",
       "<style scoped>\n",
       "    .dataframe tbody tr th:only-of-type {\n",
       "        vertical-align: middle;\n",
       "    }\n",
       "\n",
       "    .dataframe tbody tr th {\n",
       "        vertical-align: top;\n",
       "    }\n",
       "\n",
       "    .dataframe thead th {\n",
       "        text-align: right;\n",
       "    }\n",
       "</style>\n",
       "<table border=\"1\" class=\"dataframe\">\n",
       "  <thead>\n",
       "    <tr style=\"text-align: right;\">\n",
       "      <th></th>\n",
       "      <th>Score</th>\n",
       "    </tr>\n",
       "    <tr>\n",
       "      <th>Method</th>\n",
       "      <th></th>\n",
       "    </tr>\n",
       "  </thead>\n",
       "  <tbody>\n",
       "    <tr>\n",
       "      <th>Linear_Time</th>\n",
       "      <td>0.026877</td>\n",
       "    </tr>\n",
       "    <tr>\n",
       "      <th>Gradient Boosting_Time</th>\n",
       "      <td>0.711795</td>\n",
       "    </tr>\n",
       "    <tr>\n",
       "      <th>Linear_Time_Ddiff</th>\n",
       "      <td>0.026923</td>\n",
       "    </tr>\n",
       "    <tr>\n",
       "      <th>Gradient Boosting_Time_Ddiff</th>\n",
       "      <td>0.796684</td>\n",
       "    </tr>\n",
       "    <tr>\n",
       "      <th>Linear_Time_Ddiff_2D</th>\n",
       "      <td>0.027480</td>\n",
       "    </tr>\n",
       "    <tr>\n",
       "      <th>Gradient Boosting_Time_Ddiff_2D</th>\n",
       "      <td>0.805565</td>\n",
       "    </tr>\n",
       "    <tr>\n",
       "      <th>Linear_Time_real2D</th>\n",
       "      <td>0.027426</td>\n",
       "    </tr>\n",
       "    <tr>\n",
       "      <th>Gradient Boosting_Time_real2D</th>\n",
       "      <td>0.807124</td>\n",
       "    </tr>\n",
       "    <tr>\n",
       "      <th>Linear_Time_haversine</th>\n",
       "      <td>0.027188</td>\n",
       "    </tr>\n",
       "    <tr>\n",
       "      <th>Gradient Boosting_Time_haversine</th>\n",
       "      <td>0.804808</td>\n",
       "    </tr>\n",
       "    <tr>\n",
       "      <th>Linear_Time_Ddiff_2D_real2D</th>\n",
       "      <td>0.025236</td>\n",
       "    </tr>\n",
       "    <tr>\n",
       "      <th>Gradient Boosting_Ddiff_2D_real2D</th>\n",
       "      <td>0.803931</td>\n",
       "    </tr>\n",
       "    <tr>\n",
       "      <th>Linear_Time_Ddiff_2D_haversine</th>\n",
       "      <td>0.367350</td>\n",
       "    </tr>\n",
       "    <tr>\n",
       "      <th>Gradient Boosting_Ddiff_2D_haversine</th>\n",
       "      <td>0.804392</td>\n",
       "    </tr>\n",
       "    <tr>\n",
       "      <th>Linear_real2D</th>\n",
       "      <td>0.001447</td>\n",
       "    </tr>\n",
       "    <tr>\n",
       "      <th>Gradient Boosting_real2D</th>\n",
       "      <td>0.722119</td>\n",
       "    </tr>\n",
       "    <tr>\n",
       "      <th>Linear_haversine</th>\n",
       "      <td>0.001154</td>\n",
       "    </tr>\n",
       "    <tr>\n",
       "      <th>Gradient Boosting_haversine</th>\n",
       "      <td>0.715705</td>\n",
       "    </tr>\n",
       "  </tbody>\n",
       "</table>\n",
       "</div>"
      ],
      "text/plain": [
       "                                         Score\n",
       "Method                                        \n",
       "Linear_Time                           0.026877\n",
       "Gradient Boosting_Time                0.711795\n",
       "Linear_Time_Ddiff                     0.026923\n",
       "Gradient Boosting_Time_Ddiff          0.796684\n",
       "Linear_Time_Ddiff_2D                  0.027480\n",
       "Gradient Boosting_Time_Ddiff_2D       0.805565\n",
       "Linear_Time_real2D                    0.027426\n",
       "Gradient Boosting_Time_real2D         0.807124\n",
       "Linear_Time_haversine                 0.027188\n",
       "Gradient Boosting_Time_haversine      0.804808\n",
       "Linear_Time_Ddiff_2D_real2D           0.025236\n",
       "Gradient Boosting_Ddiff_2D_real2D     0.803931\n",
       "Linear_Time_Ddiff_2D_haversine        0.367350\n",
       "Gradient Boosting_Ddiff_2D_haversine  0.804392\n",
       "Linear_real2D                         0.001447\n",
       "Gradient Boosting_real2D              0.722119\n",
       "Linear_haversine                      0.001154\n",
       "Gradient Boosting_haversine           0.715705"
      ]
     },
     "execution_count": 15,
     "metadata": {},
     "output_type": "execute_result"
    }
   ],
   "source": [
    "data = {'Method':['Linear_Time', 'Gradient Boosting_Time',\n",
    "                 'Linear_Time_Ddiff', 'Gradient Boosting_Time_Ddiff',\n",
    "                 'Linear_Time_Ddiff_2D', 'Gradient Boosting_Time_Ddiff_2D',\n",
    "                 'Linear_Time_real2D', 'Gradient Boosting_Time_real2D',\n",
    "                 'Linear_Time_haversine', 'Gradient Boosting_Time_haversine',\n",
    "                 'Linear_Time_Ddiff_2D_real2D', 'Gradient Boosting_Ddiff_2D_real2D',\n",
    "                 'Linear_Time_Ddiff_2D_haversine', 'Gradient Boosting_Ddiff_2D_haversine',\n",
    "                 'Linear_real2D', 'Gradient Boosting_real2D',\n",
    "                 'Linear_haversine', 'Gradient Boosting_haversine'],\n",
    "       'Score':[linear_time_score, tree_time_score,\n",
    "               linear_time_Ddiff_score, tree_time_Ddiff_score,\n",
    "               linear_time_Ddif_2D_score, tree_time_Ddif_2D_score,\n",
    "               linear_time_Ddif_real2D_score, tree_time_Ddif_real2D_score,\n",
    "               linear_time_Ddif_haversine_score, tree_time_Ddif_haversine_score,\n",
    "               linear_time_Ddif_2D_real2D_score, tree_time_Ddif_2D_real2D_score,\n",
    "               linear_time_Ddif_2D_haversine_score, tree_time_Ddif_2D_haversine_score,\n",
    "               linear_real2D_score, tree_real2D_score,\n",
    "               linear_haversine_score, tree_haversine_score]}\n",
    "\n",
    "sheet = pd.DataFrame(data)\n",
    "sheet.set_index('Method', inplace=True)\n",
    "sheet"
   ]
  },
  {
   "cell_type": "markdown",
   "metadata": {},
   "source": [
    "###  增加兩點差 與 兩點歐幾里得距離 特徵 能提升正確率\n",
    "- 增加兩點差 0.71 -> 0.79  再增加兩點歐幾里得距離 0.79 -> 0.80 (0.026 -> 0.027)\n",
    "\n",
    "\n",
    "### 再增加真實兩點距離特徵 反而降低正確率\n",
    "- 0.806 -> 0.803 (0.027 -> 0.025)\n",
    "- 但是如果真實距離採用半正矢公式 則可以將線性回歸正確率大幅提升 0.027 -> 0.36\n",
    "\n",
    "### 使用兩點差 與 真實兩點距離特徵(教材公式) 可以達到最好的效果"
   ]
  }
 ],
 "metadata": {
  "kernelspec": {
   "display_name": "Python [default]",
   "language": "python",
   "name": "python3"
  },
  "language_info": {
   "codemirror_mode": {
    "name": "ipython",
    "version": 3
   },
   "file_extension": ".py",
   "mimetype": "text/x-python",
   "name": "python",
   "nbconvert_exporter": "python",
   "pygments_lexer": "ipython3",
   "version": "3.5.6"
  }
 },
 "nbformat": 4,
 "nbformat_minor": 2
}
